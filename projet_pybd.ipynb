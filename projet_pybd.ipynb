{
 "cells": [
  {
   "cell_type": "markdown",
   "metadata": {},
   "source": [
    "# PROJET PYBD"
   ]
  },
  {
   "cell_type": "markdown",
   "metadata": {},
   "source": [
    "[Kaggle](https://www.kaggle.com/kumarajarshi/life-expectancy-who)"
   ]
  },
  {
   "cell_type": "code",
   "execution_count": 108,
   "metadata": {},
   "outputs": [],
   "source": [
    "import pandas as pd\n",
    "import seaborn as sns\n",
    "import plotly.express as px \n",
    "\n",
    "pd.options.plotting.backend = \"plotly\""
   ]
  },
  {
   "cell_type": "raw",
   "metadata": {},
   "source": [
    "On nettoie les dataframes d'origine"
   ]
  },
  {
   "cell_type": "code",
   "execution_count": 126,
   "metadata": {},
   "outputs": [],
   "source": [
    "alcohol_consumption = pd.read_csv('data/gho_alcohol_consumer_past_12months.csv')\n",
    "alcohol_consumption.dropna(how='all', axis=1, inplace=True)\n",
    "alcohol_consumption = alcohol_consumption.rename(columns = {\"SpatialDimValueCode\": \"Code\"})\n",
    "alcohol_consumption = alcohol_consumption.rename(columns = {\"Location\": \"Country\"})\n",
    "alcohol_consumption = alcohol_consumption.rename(columns = {\"Value\": \"% of alcohol drinkers\"})\n",
    "alcohol_consumption = alcohol_consumption.rename(columns = {\"Dim1ValueCode\": \"Sex\"})\n",
    "alcohol_consumption = alcohol_consumption.rename(columns = {\"ParentLocationCode\": \"Zone\"})\n",
    "pib = pd.read_csv('data/gdp-per-capita-worldbank.csv')\n",
    "pib = pib.rename(columns = {\"GDP per capita, PPP (constant 2017 international $)\": \"GDP\"})\n",
    "del pib['Entity']\n",
    "pib = pib.sort_values(by = ['Year'])\n",
    "pib = pib.drop_duplicates(subset=['Code'], keep='last')"
   ]
  },
  {
   "cell_type": "raw",
   "metadata": {},
   "source": [
    "On merge les 2 pour avoir le PIB sur chaque pays"
   ]
  },
  {
   "cell_type": "code",
   "execution_count": 127,
   "metadata": {},
   "outputs": [
    {
     "data": {
      "text/html": [
       "<div>\n",
       "<style scoped>\n",
       "    .dataframe tbody tr th:only-of-type {\n",
       "        vertical-align: middle;\n",
       "    }\n",
       "\n",
       "    .dataframe tbody tr th {\n",
       "        vertical-align: top;\n",
       "    }\n",
       "\n",
       "    .dataframe thead th {\n",
       "        text-align: right;\n",
       "    }\n",
       "</style>\n",
       "<table border=\"1\" class=\"dataframe\">\n",
       "  <thead>\n",
       "    <tr style=\"text-align: right;\">\n",
       "      <th></th>\n",
       "      <th>Zone</th>\n",
       "      <th>Code</th>\n",
       "      <th>Country</th>\n",
       "      <th>Sex</th>\n",
       "      <th>% of alcohol drinkers</th>\n",
       "      <th>Year</th>\n",
       "      <th>GDP</th>\n",
       "    </tr>\n",
       "  </thead>\n",
       "  <tbody>\n",
       "    <tr>\n",
       "      <th>0</th>\n",
       "      <td>WPR</td>\n",
       "      <td>MHL</td>\n",
       "      <td>Marshall Islands</td>\n",
       "      <td>BTSX</td>\n",
       "      <td>.</td>\n",
       "      <td>2019</td>\n",
       "      <td>4029.086329</td>\n",
       "    </tr>\n",
       "    <tr>\n",
       "      <th>1</th>\n",
       "      <td>WPR</td>\n",
       "      <td>MHL</td>\n",
       "      <td>Marshall Islands</td>\n",
       "      <td>FMLE</td>\n",
       "      <td>.</td>\n",
       "      <td>2019</td>\n",
       "      <td>4029.086329</td>\n",
       "    </tr>\n",
       "    <tr>\n",
       "      <th>2</th>\n",
       "      <td>WPR</td>\n",
       "      <td>MHL</td>\n",
       "      <td>Marshall Islands</td>\n",
       "      <td>MLE</td>\n",
       "      <td>.</td>\n",
       "      <td>2019</td>\n",
       "      <td>4029.086329</td>\n",
       "    </tr>\n",
       "    <tr>\n",
       "      <th>3</th>\n",
       "      <td>WPR</td>\n",
       "      <td>PLW</td>\n",
       "      <td>Palau</td>\n",
       "      <td>BTSX</td>\n",
       "      <td>.</td>\n",
       "      <td>2019</td>\n",
       "      <td>17572.622601</td>\n",
       "    </tr>\n",
       "    <tr>\n",
       "      <th>4</th>\n",
       "      <td>WPR</td>\n",
       "      <td>PLW</td>\n",
       "      <td>Palau</td>\n",
       "      <td>FMLE</td>\n",
       "      <td>.</td>\n",
       "      <td>2019</td>\n",
       "      <td>17572.622601</td>\n",
       "    </tr>\n",
       "    <tr>\n",
       "      <th>...</th>\n",
       "      <td>...</td>\n",
       "      <td>...</td>\n",
       "      <td>...</td>\n",
       "      <td>...</td>\n",
       "      <td>...</td>\n",
       "      <td>...</td>\n",
       "      <td>...</td>\n",
       "    </tr>\n",
       "    <tr>\n",
       "      <th>541</th>\n",
       "      <td>EUR</td>\n",
       "      <td>IRL</td>\n",
       "      <td>Ireland</td>\n",
       "      <td>BTSX</td>\n",
       "      <td>81.3</td>\n",
       "      <td>2020</td>\n",
       "      <td>89688.956958</td>\n",
       "    </tr>\n",
       "    <tr>\n",
       "      <th>542</th>\n",
       "      <td>EUR</td>\n",
       "      <td>IRL</td>\n",
       "      <td>Ireland</td>\n",
       "      <td>MLE</td>\n",
       "      <td>89.5</td>\n",
       "      <td>2020</td>\n",
       "      <td>89688.956958</td>\n",
       "    </tr>\n",
       "    <tr>\n",
       "      <th>543</th>\n",
       "      <td>EUR</td>\n",
       "      <td>LUX</td>\n",
       "      <td>Luxembourg</td>\n",
       "      <td>FMLE</td>\n",
       "      <td>87.7</td>\n",
       "      <td>2020</td>\n",
       "      <td>110261.157353</td>\n",
       "    </tr>\n",
       "    <tr>\n",
       "      <th>544</th>\n",
       "      <td>EUR</td>\n",
       "      <td>LUX</td>\n",
       "      <td>Luxembourg</td>\n",
       "      <td>BTSX</td>\n",
       "      <td>91.8</td>\n",
       "      <td>2020</td>\n",
       "      <td>110261.157353</td>\n",
       "    </tr>\n",
       "    <tr>\n",
       "      <th>545</th>\n",
       "      <td>EUR</td>\n",
       "      <td>LUX</td>\n",
       "      <td>Luxembourg</td>\n",
       "      <td>MLE</td>\n",
       "      <td>95.8</td>\n",
       "      <td>2020</td>\n",
       "      <td>110261.157353</td>\n",
       "    </tr>\n",
       "  </tbody>\n",
       "</table>\n",
       "<p>546 rows × 7 columns</p>\n",
       "</div>"
      ],
      "text/plain": [
       "    Zone Code           Country   Sex % of alcohol drinkers  Year  \\\n",
       "0    WPR  MHL  Marshall Islands  BTSX                     .  2019   \n",
       "1    WPR  MHL  Marshall Islands  FMLE                     .  2019   \n",
       "2    WPR  MHL  Marshall Islands   MLE                     .  2019   \n",
       "3    WPR  PLW             Palau  BTSX                     .  2019   \n",
       "4    WPR  PLW             Palau  FMLE                     .  2019   \n",
       "..   ...  ...               ...   ...                   ...   ...   \n",
       "541  EUR  IRL           Ireland  BTSX                  81.3  2020   \n",
       "542  EUR  IRL           Ireland   MLE                  89.5  2020   \n",
       "543  EUR  LUX        Luxembourg  FMLE                  87.7  2020   \n",
       "544  EUR  LUX        Luxembourg  BTSX                  91.8  2020   \n",
       "545  EUR  LUX        Luxembourg   MLE                  95.8  2020   \n",
       "\n",
       "               GDP  \n",
       "0      4029.086329  \n",
       "1      4029.086329  \n",
       "2      4029.086329  \n",
       "3     17572.622601  \n",
       "4     17572.622601  \n",
       "..             ...  \n",
       "541   89688.956958  \n",
       "542   89688.956958  \n",
       "543  110261.157353  \n",
       "544  110261.157353  \n",
       "545  110261.157353  \n",
       "\n",
       "[546 rows x 7 columns]"
      ]
     },
     "execution_count": 127,
     "metadata": {},
     "output_type": "execute_result"
    }
   ],
   "source": [
    "test = pd.merge(alcohol_consumption, pib, on = 'Code')\n",
    "test"
   ]
  },
  {
   "cell_type": "raw",
   "metadata": {},
   "source": [
    "Nuage de points PIB/Taux de consommateurs d'alcool"
   ]
  },
  {
   "cell_type": "code",
   "execution_count": 133,
   "metadata": {},
   "outputs": [
    {
     "data": {
      "application/vnd.plotly.v1+json": {
       "config": {
        "plotlyServerURL": "https://plot.ly"
       },
       "data": [
        {
         "hovertemplate": "<b>%{hovertext}</b><br><br>GDP=%{x}<br>% of alcohol drinkers=%{y}<extra></extra>",
         "hovertext": [
          "Marshall Islands",
          "Palau",
          "San Marino",
          "Libya",
          "Kuwait",
          "Afghanistan",
          "Solomon Islands",
          "Mauritania",
          "Pakistan",
          "Bangladesh",
          "Iran (Islamic Republic of)",
          "Sudan",
          "Morocco",
          "Egypt",
          "Jordan",
          "Algeria",
          "Iraq",
          "Tunisia",
          "Comoros",
          "Zimbabwe",
          "Oman",
          "Turkey",
          "Djibouti",
          "Bahrain",
          "Niger",
          "Tajikistan",
          "Madagascar",
          "Uzbekistan",
          "Kiribati",
          "Maldives",
          "Mozambique",
          "Timor-Leste",
          "Senegal",
          "Guinea",
          "Azerbaijan",
          "Mali",
          "Nauru",
          "Chad",
          "Ethiopia",
          "Indonesia",
          "Slovenia",
          "Vanuatu",
          "Papua New Guinea",
          "Malawi",
          "Kenya",
          "Tonga",
          "Tuvalu",
          "Micronesia (Federated States of)",
          "Togo",
          "Benin",
          "Kyrgyzstan",
          "Ghana",
          "Samoa",
          "Armenia",
          "Gambia",
          "Myanmar",
          "Zambia",
          "Guatemala",
          "Nepal",
          "Bhutan",
          "Guinea-Bissau",
          "Eswatini",
          "Fiji",
          "Lesotho",
          "Sri Lanka",
          "Malaysia",
          "Honduras",
          "United Arab Emirates",
          "Liberia",
          "El Salvador",
          "Turkmenistan",
          "Namibia",
          "Sierra Leone",
          "Somalia",
          "Mauritius",
          "Cambodia",
          "Botswana",
          "Burundi",
          "Nicaragua",
          "Philippines",
          "Cameroon",
          "Mongolia",
          "Sao Tome and Principe",
          "Jamaica",
          "Haiti",
          "Georgia",
          "Burkina Faso",
          "Paraguay",
          "Rwanda",
          "Democratic Republic of the Congo",
          "Uganda",
          "Costa Rica",
          "Viet Nam",
          "United Republic of Tanzania",
          "Côte d’Ivoire",
          "Central African Republic",
          "Cabo Verde",
          "Qatar",
          "India",
          "Colombia",
          "Guyana",
          "Lao People's Democratic Republic",
          "Kazakhstan",
          "Brazil",
          "Thailand",
          "Belize",
          "Suriname",
          "Brunei Darussalam",
          "Mexico",
          "Dominican Republic",
          "Lebanon",
          "Saudi Arabia",
          "Bahamas",
          "Dominica",
          "Bolivia (Plurinational State of)",
          "Saint Vincent and the Grenadines",
          "Ecuador",
          "Bosnia and Herzegovina",
          "Panama",
          "Angola",
          "Grenada",
          "Saint Lucia",
          "Antigua and Barbuda",
          "Barbados",
          "Albania",
          "Nigeria",
          "Congo",
          "Peru",
          "The former Yugoslav Republic of Macedonia",
          "Montenegro",
          "Seychelles",
          "Saint Kitts and Nevis",
          "Israel",
          "China",
          "Japan",
          "Trinidad and Tobago",
          "Croatia",
          "Serbia",
          "Malta",
          "Republic of Korea",
          "Canada",
          "Greece",
          "Bulgaria",
          "Gabon",
          "Italy",
          "Hungary",
          "Republic of Moldova",
          "Russian Federation",
          "Romania",
          "Argentina",
          "Chile",
          "Ukraine",
          "Poland",
          "Cyprus",
          "Spain",
          "Uruguay",
          "Portugal",
          "Singapore",
          "Slovakia",
          "Iceland",
          "United States of America",
          "Netherlands",
          "Equatorial Guinea",
          "Finland",
          "Sweden",
          "Estonia",
          "United Kingdom of Great Britain and Northern Ireland",
          "Denmark",
          "New Zealand",
          "Czechia",
          "Latvia",
          "France",
          "Belgium",
          "Austria",
          "Belarus",
          "Norway",
          "Australia",
          "Germany",
          "Lithuania",
          "Switzerland",
          "Ireland",
          "Luxembourg"
         ],
         "legendgroup": "",
         "marker": {
          "color": "#636efa",
          "symbol": "circle"
         },
         "mode": "markers",
         "name": "",
         "orientation": "h",
         "showlegend": false,
         "type": "scatter",
         "x": [
          4029.08632919678,
          17572.6226006793,
          60847.1067610929,
          10282.2910804458,
          49853.7362805684,
          1978.96157872183,
          2482.87191978213,
          4983.2206333331,
          4622.77076938075,
          4818.09473660531,
          12433.2969754764,
          4022.86596657319,
          6916.34641150088,
          11951.4475270117,
          9816.55452971638,
          10681.6792969827,
          9255.25690289807,
          9727.50425926541,
          3140.69877162092,
          2744.69075807126,
          27294.5729762764,
          28384.9877846263,
          5481.11481697609,
          40933.3526644217,
          1196.87755957473,
          3657.57350716538,
          1510.14172617809,
          6994.16941167262,
          2291.90721878662,
          13049.0466602078,
          1229.08001865892,
          3181.13718760249,
          3300.0854932471,
          2670.82335507161,
          13699.665590318,
          2216.77326231685,
          13527.411941066,
          1519.91236158763,
          2296.82735215213,
          11444.9606828103,
          36547.7389559849,
          2762.791388307,
          4101.21888209216,
          1486.77824843475,
          4220.44024846369,
          6378.1283460138,
          4411.00311573521,
          3466.41329281782,
          2107.87726149934,
          3323.14445067303,
          4706.57023774883,
          5304.98352460298,
          6295.73184093032,
          12592.6353675009,
          2159.44190927585,
          4544.02156851419,
          3270.03511228554,
          8393.28464317623,
          3800.06570306646,
          10909.1001689407,
          1847.46582390878,
          8392.71756391091,
          10997.4734903847,
          2279.89587402333,
          12536.9417561704,
          26435.1715707484,
          5138.38539820015,
          67119.153244137,
          1353.84291976355,
          8056.54308612849,
          15538.4199701316,
          8893.81315720283,
          1648.05335993719,
          829.611428860091,
          19469.5245883739,
          4191.85000307807,
          16040.0084730125,
          731.063229715588,
          5280.14058082508,
          7953.58164428408,
          3576.34949945049,
          11470.6738325698,
          4051.60484448469,
          8741.55044328036,
          2773.08136431323,
          14089.3023335327,
          2160.51152951619,
          12335.4723571841,
          2098.7103615481,
          1072.21011269575,
          2177.59585383955,
          19679.2886412163,
          8200.33186703573,
          2635.3358910827,
          5174.10055275463,
          928.589507504538,
          6045.06088485291,
          85266.2105859195,
          6118.35733018965,
          13441.4929522564,
          18679.9802308198,
          7805.79855611968,
          25337.152399391,
          14063.9825053838,
          17286.866606887,
          6119.88768686154,
          16130.1708064491,
          62243.5831517924,
          17887.7507356971,
          17003.0130205346,
          11649.0501121276,
          44328.1839111257,
          30764.1159665551,
          9891.29193953719,
          7931.75430931062,
          12105.3813615785,
          10329.1987527594,
          14339.8311811662,
          25381.8484472504,
          6198.08384070806,
          15065.8719536331,
          12270.0132882689,
          17956.315715683,
          12870.0425037649,
          13295.4108845409,
          4916.72138086439,
          3449.1456948178,
          11260.8457538125,
          15848.4192939955,
          18278.730791552,
          24361.8939424167,
          23259.3623116037,
          38341.3075704083,
          16410.7977967813,
          41380.0935773113,
          23728.1586459056,
          26465.1273096002,
          18210.0046204616,
          39222.1433509207,
          42251.4450571656,
          45856.6256264804,
          27287.0834009302,
          22383.8055436428,
          14399.8688094117,
          38992.1483807498,
          31007.7684065437,
          12324.7362793838,
          26456.3879381321,
          28832.6231487683,
          19686.523658911,
          23324.5247506509,
          12377.0172931178,
          32238.157259275,
          37655.1803457421,
          36215.4475907307,
          21608.4302710014,
          32181.1545372343,
          93397.048802202,
          30330.0428870265,
          52279.7288513646,
          60235.7284916969,
          54209.5638357302,
          17007.6247800252,
          47260.800458441,
          50683.3235097178,
          35638.4213511812,
          41627.129269425,
          55938.2128086032,
          42404.3937381567,
          38319.3376633108,
          29932.4939100562,
          42025.6173730617,
          48210.0331113444,
          51935.6038618156,
          19148.1751007952,
          63585.9035142969,
          48697.8370282475,
          50922.3580234484,
          36732.034744031,
          68393.306003945,
          89688.9569584859,
          110261.157353302
         ],
         "xaxis": "x",
         "y": [
          ".",
          ".",
          ".",
          "0.1",
          "0.6",
          "0.7",
          "0.7",
          "0.9",
          "1.2",
          "2.2",
          "3.5",
          "2.3",
          "2.6",
          "2.8",
          "3",
          "3.2",
          "3.1",
          "5.2",
          "4.1",
          "17.6",
          "8.3",
          "6.9",
          "19.7",
          "8.8",
          "20.2",
          "20.7",
          "20.9",
          "20.8",
          "12.1",
          "7.9",
          "21",
          "21.6",
          "21.1",
          "21.6",
          "21.9",
          "21.9",
          "22",
          "22.4",
          "22.6",
          "22.7",
          "13.5",
          "13.6",
          "13.7",
          "23.7",
          "23.9",
          "14.2",
          "14.4",
          "15.2",
          "25.7",
          "26.1",
          "25.9",
          "26",
          "16",
          "26",
          "26.7",
          "27.1",
          "27.3",
          "27.3",
          "27.1",
          "29.6",
          "28.8",
          "28.8",
          "17.7",
          "17.8",
          "28.7",
          "29.6",
          "29.8",
          "18.5",
          "30.8",
          "29.4",
          "30.4",
          "30.3",
          "30.9",
          "31",
          "31.2",
          "30.9",
          "32",
          "31.6",
          "32.5",
          "33.1",
          "33.8",
          "33.6",
          "34",
          "34.9",
          "35.1",
          "35.1",
          "36.9",
          "36",
          "35",
          "36.4",
          "36.3",
          "36.6",
          "99.4",
          "36.4",
          "38.5",
          "37.6",
          "39.4",
          "45.6",
          "38.8",
          "38.3",
          "39.1",
          "40",
          "39.9",
          "40.3",
          "40.9",
          "41.5",
          "42.2",
          "33.3",
          "42.7",
          "43",
          "6.1",
          "5.8",
          "43.8",
          "45.2",
          "45.4",
          "46.6",
          "46.5",
          "47.9",
          "47.7",
          "47.7",
          "49.6",
          "49.7",
          "49.4",
          "50.5",
          "51",
          "52.6",
          "51.7",
          "53.2",
          "53.7",
          "54",
          "54.9",
          "54.8",
          "55",
          "55.9",
          "57",
          "58.7",
          "59.7",
          "60",
          "63",
          "63.9",
          "64.5",
          "65.4",
          "66",
          "66.5",
          "67.8",
          "66.6",
          "66.6",
          "58.1",
          "67.2",
          "67.4",
          "67.6",
          "61.8",
          "68",
          "68.8",
          "68.6",
          "68.9",
          "69.2",
          "70",
          "71.3",
          "71.5",
          "71.7",
          "72.1",
          "72.9",
          "72.5",
          "73",
          "72.8",
          "73.4",
          "74.4",
          "74.6",
          "75.4",
          "75",
          "75.3",
          "76.5",
          "78.1",
          "73.6",
          "79",
          "79.4",
          "79.4",
          "79.1",
          "81.2",
          "81.3",
          "91.8"
         ],
         "yaxis": "y"
        }
       ],
       "layout": {
        "legend": {
         "tracegroupgap": 0
        },
        "margin": {
         "t": 60
        },
        "template": {
         "data": {
          "bar": [
           {
            "error_x": {
             "color": "#2a3f5f"
            },
            "error_y": {
             "color": "#2a3f5f"
            },
            "marker": {
             "line": {
              "color": "#E5ECF6",
              "width": 0.5
             },
             "pattern": {
              "fillmode": "overlay",
              "size": 10,
              "solidity": 0.2
             }
            },
            "type": "bar"
           }
          ],
          "barpolar": [
           {
            "marker": {
             "line": {
              "color": "#E5ECF6",
              "width": 0.5
             },
             "pattern": {
              "fillmode": "overlay",
              "size": 10,
              "solidity": 0.2
             }
            },
            "type": "barpolar"
           }
          ],
          "carpet": [
           {
            "aaxis": {
             "endlinecolor": "#2a3f5f",
             "gridcolor": "white",
             "linecolor": "white",
             "minorgridcolor": "white",
             "startlinecolor": "#2a3f5f"
            },
            "baxis": {
             "endlinecolor": "#2a3f5f",
             "gridcolor": "white",
             "linecolor": "white",
             "minorgridcolor": "white",
             "startlinecolor": "#2a3f5f"
            },
            "type": "carpet"
           }
          ],
          "choropleth": [
           {
            "colorbar": {
             "outlinewidth": 0,
             "ticks": ""
            },
            "type": "choropleth"
           }
          ],
          "contour": [
           {
            "colorbar": {
             "outlinewidth": 0,
             "ticks": ""
            },
            "colorscale": [
             [
              0,
              "#0d0887"
             ],
             [
              0.1111111111111111,
              "#46039f"
             ],
             [
              0.2222222222222222,
              "#7201a8"
             ],
             [
              0.3333333333333333,
              "#9c179e"
             ],
             [
              0.4444444444444444,
              "#bd3786"
             ],
             [
              0.5555555555555556,
              "#d8576b"
             ],
             [
              0.6666666666666666,
              "#ed7953"
             ],
             [
              0.7777777777777778,
              "#fb9f3a"
             ],
             [
              0.8888888888888888,
              "#fdca26"
             ],
             [
              1,
              "#f0f921"
             ]
            ],
            "type": "contour"
           }
          ],
          "contourcarpet": [
           {
            "colorbar": {
             "outlinewidth": 0,
             "ticks": ""
            },
            "type": "contourcarpet"
           }
          ],
          "heatmap": [
           {
            "colorbar": {
             "outlinewidth": 0,
             "ticks": ""
            },
            "colorscale": [
             [
              0,
              "#0d0887"
             ],
             [
              0.1111111111111111,
              "#46039f"
             ],
             [
              0.2222222222222222,
              "#7201a8"
             ],
             [
              0.3333333333333333,
              "#9c179e"
             ],
             [
              0.4444444444444444,
              "#bd3786"
             ],
             [
              0.5555555555555556,
              "#d8576b"
             ],
             [
              0.6666666666666666,
              "#ed7953"
             ],
             [
              0.7777777777777778,
              "#fb9f3a"
             ],
             [
              0.8888888888888888,
              "#fdca26"
             ],
             [
              1,
              "#f0f921"
             ]
            ],
            "type": "heatmap"
           }
          ],
          "heatmapgl": [
           {
            "colorbar": {
             "outlinewidth": 0,
             "ticks": ""
            },
            "colorscale": [
             [
              0,
              "#0d0887"
             ],
             [
              0.1111111111111111,
              "#46039f"
             ],
             [
              0.2222222222222222,
              "#7201a8"
             ],
             [
              0.3333333333333333,
              "#9c179e"
             ],
             [
              0.4444444444444444,
              "#bd3786"
             ],
             [
              0.5555555555555556,
              "#d8576b"
             ],
             [
              0.6666666666666666,
              "#ed7953"
             ],
             [
              0.7777777777777778,
              "#fb9f3a"
             ],
             [
              0.8888888888888888,
              "#fdca26"
             ],
             [
              1,
              "#f0f921"
             ]
            ],
            "type": "heatmapgl"
           }
          ],
          "histogram": [
           {
            "marker": {
             "pattern": {
              "fillmode": "overlay",
              "size": 10,
              "solidity": 0.2
             }
            },
            "type": "histogram"
           }
          ],
          "histogram2d": [
           {
            "colorbar": {
             "outlinewidth": 0,
             "ticks": ""
            },
            "colorscale": [
             [
              0,
              "#0d0887"
             ],
             [
              0.1111111111111111,
              "#46039f"
             ],
             [
              0.2222222222222222,
              "#7201a8"
             ],
             [
              0.3333333333333333,
              "#9c179e"
             ],
             [
              0.4444444444444444,
              "#bd3786"
             ],
             [
              0.5555555555555556,
              "#d8576b"
             ],
             [
              0.6666666666666666,
              "#ed7953"
             ],
             [
              0.7777777777777778,
              "#fb9f3a"
             ],
             [
              0.8888888888888888,
              "#fdca26"
             ],
             [
              1,
              "#f0f921"
             ]
            ],
            "type": "histogram2d"
           }
          ],
          "histogram2dcontour": [
           {
            "colorbar": {
             "outlinewidth": 0,
             "ticks": ""
            },
            "colorscale": [
             [
              0,
              "#0d0887"
             ],
             [
              0.1111111111111111,
              "#46039f"
             ],
             [
              0.2222222222222222,
              "#7201a8"
             ],
             [
              0.3333333333333333,
              "#9c179e"
             ],
             [
              0.4444444444444444,
              "#bd3786"
             ],
             [
              0.5555555555555556,
              "#d8576b"
             ],
             [
              0.6666666666666666,
              "#ed7953"
             ],
             [
              0.7777777777777778,
              "#fb9f3a"
             ],
             [
              0.8888888888888888,
              "#fdca26"
             ],
             [
              1,
              "#f0f921"
             ]
            ],
            "type": "histogram2dcontour"
           }
          ],
          "mesh3d": [
           {
            "colorbar": {
             "outlinewidth": 0,
             "ticks": ""
            },
            "type": "mesh3d"
           }
          ],
          "parcoords": [
           {
            "line": {
             "colorbar": {
              "outlinewidth": 0,
              "ticks": ""
             }
            },
            "type": "parcoords"
           }
          ],
          "pie": [
           {
            "automargin": true,
            "type": "pie"
           }
          ],
          "scatter": [
           {
            "marker": {
             "colorbar": {
              "outlinewidth": 0,
              "ticks": ""
             }
            },
            "type": "scatter"
           }
          ],
          "scatter3d": [
           {
            "line": {
             "colorbar": {
              "outlinewidth": 0,
              "ticks": ""
             }
            },
            "marker": {
             "colorbar": {
              "outlinewidth": 0,
              "ticks": ""
             }
            },
            "type": "scatter3d"
           }
          ],
          "scattercarpet": [
           {
            "marker": {
             "colorbar": {
              "outlinewidth": 0,
              "ticks": ""
             }
            },
            "type": "scattercarpet"
           }
          ],
          "scattergeo": [
           {
            "marker": {
             "colorbar": {
              "outlinewidth": 0,
              "ticks": ""
             }
            },
            "type": "scattergeo"
           }
          ],
          "scattergl": [
           {
            "marker": {
             "colorbar": {
              "outlinewidth": 0,
              "ticks": ""
             }
            },
            "type": "scattergl"
           }
          ],
          "scattermapbox": [
           {
            "marker": {
             "colorbar": {
              "outlinewidth": 0,
              "ticks": ""
             }
            },
            "type": "scattermapbox"
           }
          ],
          "scatterpolar": [
           {
            "marker": {
             "colorbar": {
              "outlinewidth": 0,
              "ticks": ""
             }
            },
            "type": "scatterpolar"
           }
          ],
          "scatterpolargl": [
           {
            "marker": {
             "colorbar": {
              "outlinewidth": 0,
              "ticks": ""
             }
            },
            "type": "scatterpolargl"
           }
          ],
          "scatterternary": [
           {
            "marker": {
             "colorbar": {
              "outlinewidth": 0,
              "ticks": ""
             }
            },
            "type": "scatterternary"
           }
          ],
          "surface": [
           {
            "colorbar": {
             "outlinewidth": 0,
             "ticks": ""
            },
            "colorscale": [
             [
              0,
              "#0d0887"
             ],
             [
              0.1111111111111111,
              "#46039f"
             ],
             [
              0.2222222222222222,
              "#7201a8"
             ],
             [
              0.3333333333333333,
              "#9c179e"
             ],
             [
              0.4444444444444444,
              "#bd3786"
             ],
             [
              0.5555555555555556,
              "#d8576b"
             ],
             [
              0.6666666666666666,
              "#ed7953"
             ],
             [
              0.7777777777777778,
              "#fb9f3a"
             ],
             [
              0.8888888888888888,
              "#fdca26"
             ],
             [
              1,
              "#f0f921"
             ]
            ],
            "type": "surface"
           }
          ],
          "table": [
           {
            "cells": {
             "fill": {
              "color": "#EBF0F8"
             },
             "line": {
              "color": "white"
             }
            },
            "header": {
             "fill": {
              "color": "#C8D4E3"
             },
             "line": {
              "color": "white"
             }
            },
            "type": "table"
           }
          ]
         },
         "layout": {
          "annotationdefaults": {
           "arrowcolor": "#2a3f5f",
           "arrowhead": 0,
           "arrowwidth": 1
          },
          "autotypenumbers": "strict",
          "coloraxis": {
           "colorbar": {
            "outlinewidth": 0,
            "ticks": ""
           }
          },
          "colorscale": {
           "diverging": [
            [
             0,
             "#8e0152"
            ],
            [
             0.1,
             "#c51b7d"
            ],
            [
             0.2,
             "#de77ae"
            ],
            [
             0.3,
             "#f1b6da"
            ],
            [
             0.4,
             "#fde0ef"
            ],
            [
             0.5,
             "#f7f7f7"
            ],
            [
             0.6,
             "#e6f5d0"
            ],
            [
             0.7,
             "#b8e186"
            ],
            [
             0.8,
             "#7fbc41"
            ],
            [
             0.9,
             "#4d9221"
            ],
            [
             1,
             "#276419"
            ]
           ],
           "sequential": [
            [
             0,
             "#0d0887"
            ],
            [
             0.1111111111111111,
             "#46039f"
            ],
            [
             0.2222222222222222,
             "#7201a8"
            ],
            [
             0.3333333333333333,
             "#9c179e"
            ],
            [
             0.4444444444444444,
             "#bd3786"
            ],
            [
             0.5555555555555556,
             "#d8576b"
            ],
            [
             0.6666666666666666,
             "#ed7953"
            ],
            [
             0.7777777777777778,
             "#fb9f3a"
            ],
            [
             0.8888888888888888,
             "#fdca26"
            ],
            [
             1,
             "#f0f921"
            ]
           ],
           "sequentialminus": [
            [
             0,
             "#0d0887"
            ],
            [
             0.1111111111111111,
             "#46039f"
            ],
            [
             0.2222222222222222,
             "#7201a8"
            ],
            [
             0.3333333333333333,
             "#9c179e"
            ],
            [
             0.4444444444444444,
             "#bd3786"
            ],
            [
             0.5555555555555556,
             "#d8576b"
            ],
            [
             0.6666666666666666,
             "#ed7953"
            ],
            [
             0.7777777777777778,
             "#fb9f3a"
            ],
            [
             0.8888888888888888,
             "#fdca26"
            ],
            [
             1,
             "#f0f921"
            ]
           ]
          },
          "colorway": [
           "#636efa",
           "#EF553B",
           "#00cc96",
           "#ab63fa",
           "#FFA15A",
           "#19d3f3",
           "#FF6692",
           "#B6E880",
           "#FF97FF",
           "#FECB52"
          ],
          "font": {
           "color": "#2a3f5f"
          },
          "geo": {
           "bgcolor": "white",
           "lakecolor": "white",
           "landcolor": "#E5ECF6",
           "showlakes": true,
           "showland": true,
           "subunitcolor": "white"
          },
          "hoverlabel": {
           "align": "left"
          },
          "hovermode": "closest",
          "mapbox": {
           "style": "light"
          },
          "paper_bgcolor": "white",
          "plot_bgcolor": "#E5ECF6",
          "polar": {
           "angularaxis": {
            "gridcolor": "white",
            "linecolor": "white",
            "ticks": ""
           },
           "bgcolor": "#E5ECF6",
           "radialaxis": {
            "gridcolor": "white",
            "linecolor": "white",
            "ticks": ""
           }
          },
          "scene": {
           "xaxis": {
            "backgroundcolor": "#E5ECF6",
            "gridcolor": "white",
            "gridwidth": 2,
            "linecolor": "white",
            "showbackground": true,
            "ticks": "",
            "zerolinecolor": "white"
           },
           "yaxis": {
            "backgroundcolor": "#E5ECF6",
            "gridcolor": "white",
            "gridwidth": 2,
            "linecolor": "white",
            "showbackground": true,
            "ticks": "",
            "zerolinecolor": "white"
           },
           "zaxis": {
            "backgroundcolor": "#E5ECF6",
            "gridcolor": "white",
            "gridwidth": 2,
            "linecolor": "white",
            "showbackground": true,
            "ticks": "",
            "zerolinecolor": "white"
           }
          },
          "shapedefaults": {
           "line": {
            "color": "#2a3f5f"
           }
          },
          "ternary": {
           "aaxis": {
            "gridcolor": "white",
            "linecolor": "white",
            "ticks": ""
           },
           "baxis": {
            "gridcolor": "white",
            "linecolor": "white",
            "ticks": ""
           },
           "bgcolor": "#E5ECF6",
           "caxis": {
            "gridcolor": "white",
            "linecolor": "white",
            "ticks": ""
           }
          },
          "title": {
           "x": 0.05
          },
          "xaxis": {
           "automargin": true,
           "gridcolor": "white",
           "linecolor": "white",
           "ticks": "",
           "title": {
            "standoff": 15
           },
           "zerolinecolor": "white",
           "zerolinewidth": 2
          },
          "yaxis": {
           "automargin": true,
           "gridcolor": "white",
           "linecolor": "white",
           "ticks": "",
           "title": {
            "standoff": 15
           },
           "zerolinecolor": "white",
           "zerolinewidth": 2
          }
         }
        },
        "xaxis": {
         "anchor": "y",
         "domain": [
          0,
          1
         ],
         "title": {
          "text": "GDP"
         },
         "type": "log"
        },
        "yaxis": {
         "anchor": "x",
         "domain": [
          0,
          1
         ],
         "title": {
          "text": "% of alcohol drinkers"
         }
        }
       }
      },
      "text/html": [
       "<div>                            <div id=\"20618296-d07e-409e-9b69-5a4d72e8b8c0\" class=\"plotly-graph-div\" style=\"height:525px; width:100%;\"></div>            <script type=\"text/javascript\">                require([\"plotly\"], function(Plotly) {                    window.PLOTLYENV=window.PLOTLYENV || {};                                    if (document.getElementById(\"20618296-d07e-409e-9b69-5a4d72e8b8c0\")) {                    Plotly.newPlot(                        \"20618296-d07e-409e-9b69-5a4d72e8b8c0\",                        [{\"hovertemplate\":\"<b>%{hovertext}</b><br><br>GDP=%{x}<br>% of alcohol drinkers=%{y}<extra></extra>\",\"hovertext\":[\"Marshall Islands\",\"Palau\",\"San Marino\",\"Libya\",\"Kuwait\",\"Afghanistan\",\"Solomon Islands\",\"Mauritania\",\"Pakistan\",\"Bangladesh\",\"Iran (Islamic Republic of)\",\"Sudan\",\"Morocco\",\"Egypt\",\"Jordan\",\"Algeria\",\"Iraq\",\"Tunisia\",\"Comoros\",\"Zimbabwe\",\"Oman\",\"Turkey\",\"Djibouti\",\"Bahrain\",\"Niger\",\"Tajikistan\",\"Madagascar\",\"Uzbekistan\",\"Kiribati\",\"Maldives\",\"Mozambique\",\"Timor-Leste\",\"Senegal\",\"Guinea\",\"Azerbaijan\",\"Mali\",\"Nauru\",\"Chad\",\"Ethiopia\",\"Indonesia\",\"Slovenia\",\"Vanuatu\",\"Papua New Guinea\",\"Malawi\",\"Kenya\",\"Tonga\",\"Tuvalu\",\"Micronesia (Federated States of)\",\"Togo\",\"Benin\",\"Kyrgyzstan\",\"Ghana\",\"Samoa\",\"Armenia\",\"Gambia\",\"Myanmar\",\"Zambia\",\"Guatemala\",\"Nepal\",\"Bhutan\",\"Guinea-Bissau\",\"Eswatini\",\"Fiji\",\"Lesotho\",\"Sri Lanka\",\"Malaysia\",\"Honduras\",\"United Arab Emirates\",\"Liberia\",\"El Salvador\",\"Turkmenistan\",\"Namibia\",\"Sierra Leone\",\"Somalia\",\"Mauritius\",\"Cambodia\",\"Botswana\",\"Burundi\",\"Nicaragua\",\"Philippines\",\"Cameroon\",\"Mongolia\",\"Sao Tome and Principe\",\"Jamaica\",\"Haiti\",\"Georgia\",\"Burkina Faso\",\"Paraguay\",\"Rwanda\",\"Democratic Republic of the Congo\",\"Uganda\",\"Costa Rica\",\"Viet Nam\",\"United Republic of Tanzania\",\"C\\u00f4te d\\u2019Ivoire\",\"Central African Republic\",\"Cabo Verde\",\"Qatar\",\"India\",\"Colombia\",\"Guyana\",\"Lao People's Democratic Republic\",\"Kazakhstan\",\"Brazil\",\"Thailand\",\"Belize\",\"Suriname\",\"Brunei Darussalam\",\"Mexico\",\"Dominican Republic\",\"Lebanon\",\"Saudi Arabia\",\"Bahamas\",\"Dominica\",\"Bolivia (Plurinational State of)\",\"Saint Vincent and the Grenadines\",\"Ecuador\",\"Bosnia and Herzegovina\",\"Panama\",\"Angola\",\"Grenada\",\"Saint Lucia\",\"Antigua and Barbuda\",\"Barbados\",\"Albania\",\"Nigeria\",\"Congo\",\"Peru\",\"The former Yugoslav Republic of Macedonia\",\"Montenegro\",\"Seychelles\",\"Saint Kitts and Nevis\",\"Israel\",\"China\",\"Japan\",\"Trinidad and Tobago\",\"Croatia\",\"Serbia\",\"Malta\",\"Republic of Korea\",\"Canada\",\"Greece\",\"Bulgaria\",\"Gabon\",\"Italy\",\"Hungary\",\"Republic of Moldova\",\"Russian Federation\",\"Romania\",\"Argentina\",\"Chile\",\"Ukraine\",\"Poland\",\"Cyprus\",\"Spain\",\"Uruguay\",\"Portugal\",\"Singapore\",\"Slovakia\",\"Iceland\",\"United States of America\",\"Netherlands\",\"Equatorial Guinea\",\"Finland\",\"Sweden\",\"Estonia\",\"United Kingdom of Great Britain and Northern Ireland\",\"Denmark\",\"New Zealand\",\"Czechia\",\"Latvia\",\"France\",\"Belgium\",\"Austria\",\"Belarus\",\"Norway\",\"Australia\",\"Germany\",\"Lithuania\",\"Switzerland\",\"Ireland\",\"Luxembourg\"],\"legendgroup\":\"\",\"marker\":{\"color\":\"#636efa\",\"symbol\":\"circle\"},\"mode\":\"markers\",\"name\":\"\",\"orientation\":\"h\",\"showlegend\":false,\"x\":[4029.08632919678,17572.6226006793,60847.1067610929,10282.2910804458,49853.7362805684,1978.96157872183,2482.87191978213,4983.2206333331,4622.77076938075,4818.09473660531,12433.2969754764,4022.86596657319,6916.34641150088,11951.4475270117,9816.55452971638,10681.6792969827,9255.25690289807,9727.50425926541,3140.69877162092,2744.69075807126,27294.5729762764,28384.9877846263,5481.11481697609,40933.3526644217,1196.87755957473,3657.57350716538,1510.14172617809,6994.16941167262,2291.90721878662,13049.0466602078,1229.08001865892,3181.13718760249,3300.0854932471,2670.82335507161,13699.665590318,2216.77326231685,13527.411941066,1519.91236158763,2296.82735215213,11444.9606828103,36547.7389559849,2762.791388307,4101.21888209216,1486.77824843475,4220.44024846369,6378.1283460138,4411.00311573521,3466.41329281782,2107.87726149934,3323.14445067303,4706.57023774883,5304.98352460298,6295.73184093032,12592.6353675009,2159.44190927585,4544.02156851419,3270.03511228554,8393.28464317623,3800.06570306646,10909.1001689407,1847.46582390878,8392.71756391091,10997.4734903847,2279.89587402333,12536.9417561704,26435.1715707484,5138.38539820015,67119.153244137,1353.84291976355,8056.54308612849,15538.4199701316,8893.81315720283,1648.05335993719,829.611428860091,19469.5245883739,4191.85000307807,16040.0084730125,731.063229715588,5280.14058082508,7953.58164428408,3576.34949945049,11470.6738325698,4051.60484448469,8741.55044328036,2773.08136431323,14089.3023335327,2160.51152951619,12335.4723571841,2098.7103615481,1072.21011269575,2177.59585383955,19679.2886412163,8200.33186703573,2635.3358910827,5174.10055275463,928.589507504538,6045.06088485291,85266.2105859195,6118.35733018965,13441.4929522564,18679.9802308198,7805.79855611968,25337.152399391,14063.9825053838,17286.866606887,6119.88768686154,16130.1708064491,62243.5831517924,17887.7507356971,17003.0130205346,11649.0501121276,44328.1839111257,30764.1159665551,9891.29193953719,7931.75430931062,12105.3813615785,10329.1987527594,14339.8311811662,25381.8484472504,6198.08384070806,15065.8719536331,12270.0132882689,17956.315715683,12870.0425037649,13295.4108845409,4916.72138086439,3449.1456948178,11260.8457538125,15848.4192939955,18278.730791552,24361.8939424167,23259.3623116037,38341.3075704083,16410.7977967813,41380.0935773113,23728.1586459056,26465.1273096002,18210.0046204616,39222.1433509207,42251.4450571656,45856.6256264804,27287.0834009302,22383.8055436428,14399.8688094117,38992.1483807498,31007.7684065437,12324.7362793838,26456.3879381321,28832.6231487683,19686.523658911,23324.5247506509,12377.0172931178,32238.157259275,37655.1803457421,36215.4475907307,21608.4302710014,32181.1545372343,93397.048802202,30330.0428870265,52279.7288513646,60235.7284916969,54209.5638357302,17007.6247800252,47260.800458441,50683.3235097178,35638.4213511812,41627.129269425,55938.2128086032,42404.3937381567,38319.3376633108,29932.4939100562,42025.6173730617,48210.0331113444,51935.6038618156,19148.1751007952,63585.9035142969,48697.8370282475,50922.3580234484,36732.034744031,68393.306003945,89688.9569584859,110261.157353302],\"xaxis\":\"x\",\"y\":[\".\",\".\",\".\",\"0.1\",\"0.6\",\"0.7\",\"0.7\",\"0.9\",\"1.2\",\"2.2\",\"3.5\",\"2.3\",\"2.6\",\"2.8\",\"3\",\"3.2\",\"3.1\",\"5.2\",\"4.1\",\"17.6\",\"8.3\",\"6.9\",\"19.7\",\"8.8\",\"20.2\",\"20.7\",\"20.9\",\"20.8\",\"12.1\",\"7.9\",\"21\",\"21.6\",\"21.1\",\"21.6\",\"21.9\",\"21.9\",\"22\",\"22.4\",\"22.6\",\"22.7\",\"13.5\",\"13.6\",\"13.7\",\"23.7\",\"23.9\",\"14.2\",\"14.4\",\"15.2\",\"25.7\",\"26.1\",\"25.9\",\"26\",\"16\",\"26\",\"26.7\",\"27.1\",\"27.3\",\"27.3\",\"27.1\",\"29.6\",\"28.8\",\"28.8\",\"17.7\",\"17.8\",\"28.7\",\"29.6\",\"29.8\",\"18.5\",\"30.8\",\"29.4\",\"30.4\",\"30.3\",\"30.9\",\"31\",\"31.2\",\"30.9\",\"32\",\"31.6\",\"32.5\",\"33.1\",\"33.8\",\"33.6\",\"34\",\"34.9\",\"35.1\",\"35.1\",\"36.9\",\"36\",\"35\",\"36.4\",\"36.3\",\"36.6\",\"99.4\",\"36.4\",\"38.5\",\"37.6\",\"39.4\",\"45.6\",\"38.8\",\"38.3\",\"39.1\",\"40\",\"39.9\",\"40.3\",\"40.9\",\"41.5\",\"42.2\",\"33.3\",\"42.7\",\"43\",\"6.1\",\"5.8\",\"43.8\",\"45.2\",\"45.4\",\"46.6\",\"46.5\",\"47.9\",\"47.7\",\"47.7\",\"49.6\",\"49.7\",\"49.4\",\"50.5\",\"51\",\"52.6\",\"51.7\",\"53.2\",\"53.7\",\"54\",\"54.9\",\"54.8\",\"55\",\"55.9\",\"57\",\"58.7\",\"59.7\",\"60\",\"63\",\"63.9\",\"64.5\",\"65.4\",\"66\",\"66.5\",\"67.8\",\"66.6\",\"66.6\",\"58.1\",\"67.2\",\"67.4\",\"67.6\",\"61.8\",\"68\",\"68.8\",\"68.6\",\"68.9\",\"69.2\",\"70\",\"71.3\",\"71.5\",\"71.7\",\"72.1\",\"72.9\",\"72.5\",\"73\",\"72.8\",\"73.4\",\"74.4\",\"74.6\",\"75.4\",\"75\",\"75.3\",\"76.5\",\"78.1\",\"73.6\",\"79\",\"79.4\",\"79.4\",\"79.1\",\"81.2\",\"81.3\",\"91.8\"],\"yaxis\":\"y\",\"type\":\"scatter\"}],                        {\"template\":{\"data\":{\"bar\":[{\"error_x\":{\"color\":\"#2a3f5f\"},\"error_y\":{\"color\":\"#2a3f5f\"},\"marker\":{\"line\":{\"color\":\"#E5ECF6\",\"width\":0.5},\"pattern\":{\"fillmode\":\"overlay\",\"size\":10,\"solidity\":0.2}},\"type\":\"bar\"}],\"barpolar\":[{\"marker\":{\"line\":{\"color\":\"#E5ECF6\",\"width\":0.5},\"pattern\":{\"fillmode\":\"overlay\",\"size\":10,\"solidity\":0.2}},\"type\":\"barpolar\"}],\"carpet\":[{\"aaxis\":{\"endlinecolor\":\"#2a3f5f\",\"gridcolor\":\"white\",\"linecolor\":\"white\",\"minorgridcolor\":\"white\",\"startlinecolor\":\"#2a3f5f\"},\"baxis\":{\"endlinecolor\":\"#2a3f5f\",\"gridcolor\":\"white\",\"linecolor\":\"white\",\"minorgridcolor\":\"white\",\"startlinecolor\":\"#2a3f5f\"},\"type\":\"carpet\"}],\"choropleth\":[{\"colorbar\":{\"outlinewidth\":0,\"ticks\":\"\"},\"type\":\"choropleth\"}],\"contour\":[{\"colorbar\":{\"outlinewidth\":0,\"ticks\":\"\"},\"colorscale\":[[0.0,\"#0d0887\"],[0.1111111111111111,\"#46039f\"],[0.2222222222222222,\"#7201a8\"],[0.3333333333333333,\"#9c179e\"],[0.4444444444444444,\"#bd3786\"],[0.5555555555555556,\"#d8576b\"],[0.6666666666666666,\"#ed7953\"],[0.7777777777777778,\"#fb9f3a\"],[0.8888888888888888,\"#fdca26\"],[1.0,\"#f0f921\"]],\"type\":\"contour\"}],\"contourcarpet\":[{\"colorbar\":{\"outlinewidth\":0,\"ticks\":\"\"},\"type\":\"contourcarpet\"}],\"heatmap\":[{\"colorbar\":{\"outlinewidth\":0,\"ticks\":\"\"},\"colorscale\":[[0.0,\"#0d0887\"],[0.1111111111111111,\"#46039f\"],[0.2222222222222222,\"#7201a8\"],[0.3333333333333333,\"#9c179e\"],[0.4444444444444444,\"#bd3786\"],[0.5555555555555556,\"#d8576b\"],[0.6666666666666666,\"#ed7953\"],[0.7777777777777778,\"#fb9f3a\"],[0.8888888888888888,\"#fdca26\"],[1.0,\"#f0f921\"]],\"type\":\"heatmap\"}],\"heatmapgl\":[{\"colorbar\":{\"outlinewidth\":0,\"ticks\":\"\"},\"colorscale\":[[0.0,\"#0d0887\"],[0.1111111111111111,\"#46039f\"],[0.2222222222222222,\"#7201a8\"],[0.3333333333333333,\"#9c179e\"],[0.4444444444444444,\"#bd3786\"],[0.5555555555555556,\"#d8576b\"],[0.6666666666666666,\"#ed7953\"],[0.7777777777777778,\"#fb9f3a\"],[0.8888888888888888,\"#fdca26\"],[1.0,\"#f0f921\"]],\"type\":\"heatmapgl\"}],\"histogram\":[{\"marker\":{\"pattern\":{\"fillmode\":\"overlay\",\"size\":10,\"solidity\":0.2}},\"type\":\"histogram\"}],\"histogram2d\":[{\"colorbar\":{\"outlinewidth\":0,\"ticks\":\"\"},\"colorscale\":[[0.0,\"#0d0887\"],[0.1111111111111111,\"#46039f\"],[0.2222222222222222,\"#7201a8\"],[0.3333333333333333,\"#9c179e\"],[0.4444444444444444,\"#bd3786\"],[0.5555555555555556,\"#d8576b\"],[0.6666666666666666,\"#ed7953\"],[0.7777777777777778,\"#fb9f3a\"],[0.8888888888888888,\"#fdca26\"],[1.0,\"#f0f921\"]],\"type\":\"histogram2d\"}],\"histogram2dcontour\":[{\"colorbar\":{\"outlinewidth\":0,\"ticks\":\"\"},\"colorscale\":[[0.0,\"#0d0887\"],[0.1111111111111111,\"#46039f\"],[0.2222222222222222,\"#7201a8\"],[0.3333333333333333,\"#9c179e\"],[0.4444444444444444,\"#bd3786\"],[0.5555555555555556,\"#d8576b\"],[0.6666666666666666,\"#ed7953\"],[0.7777777777777778,\"#fb9f3a\"],[0.8888888888888888,\"#fdca26\"],[1.0,\"#f0f921\"]],\"type\":\"histogram2dcontour\"}],\"mesh3d\":[{\"colorbar\":{\"outlinewidth\":0,\"ticks\":\"\"},\"type\":\"mesh3d\"}],\"parcoords\":[{\"line\":{\"colorbar\":{\"outlinewidth\":0,\"ticks\":\"\"}},\"type\":\"parcoords\"}],\"pie\":[{\"automargin\":true,\"type\":\"pie\"}],\"scatter\":[{\"marker\":{\"colorbar\":{\"outlinewidth\":0,\"ticks\":\"\"}},\"type\":\"scatter\"}],\"scatter3d\":[{\"line\":{\"colorbar\":{\"outlinewidth\":0,\"ticks\":\"\"}},\"marker\":{\"colorbar\":{\"outlinewidth\":0,\"ticks\":\"\"}},\"type\":\"scatter3d\"}],\"scattercarpet\":[{\"marker\":{\"colorbar\":{\"outlinewidth\":0,\"ticks\":\"\"}},\"type\":\"scattercarpet\"}],\"scattergeo\":[{\"marker\":{\"colorbar\":{\"outlinewidth\":0,\"ticks\":\"\"}},\"type\":\"scattergeo\"}],\"scattergl\":[{\"marker\":{\"colorbar\":{\"outlinewidth\":0,\"ticks\":\"\"}},\"type\":\"scattergl\"}],\"scattermapbox\":[{\"marker\":{\"colorbar\":{\"outlinewidth\":0,\"ticks\":\"\"}},\"type\":\"scattermapbox\"}],\"scatterpolar\":[{\"marker\":{\"colorbar\":{\"outlinewidth\":0,\"ticks\":\"\"}},\"type\":\"scatterpolar\"}],\"scatterpolargl\":[{\"marker\":{\"colorbar\":{\"outlinewidth\":0,\"ticks\":\"\"}},\"type\":\"scatterpolargl\"}],\"scatterternary\":[{\"marker\":{\"colorbar\":{\"outlinewidth\":0,\"ticks\":\"\"}},\"type\":\"scatterternary\"}],\"surface\":[{\"colorbar\":{\"outlinewidth\":0,\"ticks\":\"\"},\"colorscale\":[[0.0,\"#0d0887\"],[0.1111111111111111,\"#46039f\"],[0.2222222222222222,\"#7201a8\"],[0.3333333333333333,\"#9c179e\"],[0.4444444444444444,\"#bd3786\"],[0.5555555555555556,\"#d8576b\"],[0.6666666666666666,\"#ed7953\"],[0.7777777777777778,\"#fb9f3a\"],[0.8888888888888888,\"#fdca26\"],[1.0,\"#f0f921\"]],\"type\":\"surface\"}],\"table\":[{\"cells\":{\"fill\":{\"color\":\"#EBF0F8\"},\"line\":{\"color\":\"white\"}},\"header\":{\"fill\":{\"color\":\"#C8D4E3\"},\"line\":{\"color\":\"white\"}},\"type\":\"table\"}]},\"layout\":{\"annotationdefaults\":{\"arrowcolor\":\"#2a3f5f\",\"arrowhead\":0,\"arrowwidth\":1},\"autotypenumbers\":\"strict\",\"coloraxis\":{\"colorbar\":{\"outlinewidth\":0,\"ticks\":\"\"}},\"colorscale\":{\"diverging\":[[0,\"#8e0152\"],[0.1,\"#c51b7d\"],[0.2,\"#de77ae\"],[0.3,\"#f1b6da\"],[0.4,\"#fde0ef\"],[0.5,\"#f7f7f7\"],[0.6,\"#e6f5d0\"],[0.7,\"#b8e186\"],[0.8,\"#7fbc41\"],[0.9,\"#4d9221\"],[1,\"#276419\"]],\"sequential\":[[0.0,\"#0d0887\"],[0.1111111111111111,\"#46039f\"],[0.2222222222222222,\"#7201a8\"],[0.3333333333333333,\"#9c179e\"],[0.4444444444444444,\"#bd3786\"],[0.5555555555555556,\"#d8576b\"],[0.6666666666666666,\"#ed7953\"],[0.7777777777777778,\"#fb9f3a\"],[0.8888888888888888,\"#fdca26\"],[1.0,\"#f0f921\"]],\"sequentialminus\":[[0.0,\"#0d0887\"],[0.1111111111111111,\"#46039f\"],[0.2222222222222222,\"#7201a8\"],[0.3333333333333333,\"#9c179e\"],[0.4444444444444444,\"#bd3786\"],[0.5555555555555556,\"#d8576b\"],[0.6666666666666666,\"#ed7953\"],[0.7777777777777778,\"#fb9f3a\"],[0.8888888888888888,\"#fdca26\"],[1.0,\"#f0f921\"]]},\"colorway\":[\"#636efa\",\"#EF553B\",\"#00cc96\",\"#ab63fa\",\"#FFA15A\",\"#19d3f3\",\"#FF6692\",\"#B6E880\",\"#FF97FF\",\"#FECB52\"],\"font\":{\"color\":\"#2a3f5f\"},\"geo\":{\"bgcolor\":\"white\",\"lakecolor\":\"white\",\"landcolor\":\"#E5ECF6\",\"showlakes\":true,\"showland\":true,\"subunitcolor\":\"white\"},\"hoverlabel\":{\"align\":\"left\"},\"hovermode\":\"closest\",\"mapbox\":{\"style\":\"light\"},\"paper_bgcolor\":\"white\",\"plot_bgcolor\":\"#E5ECF6\",\"polar\":{\"angularaxis\":{\"gridcolor\":\"white\",\"linecolor\":\"white\",\"ticks\":\"\"},\"bgcolor\":\"#E5ECF6\",\"radialaxis\":{\"gridcolor\":\"white\",\"linecolor\":\"white\",\"ticks\":\"\"}},\"scene\":{\"xaxis\":{\"backgroundcolor\":\"#E5ECF6\",\"gridcolor\":\"white\",\"gridwidth\":2,\"linecolor\":\"white\",\"showbackground\":true,\"ticks\":\"\",\"zerolinecolor\":\"white\"},\"yaxis\":{\"backgroundcolor\":\"#E5ECF6\",\"gridcolor\":\"white\",\"gridwidth\":2,\"linecolor\":\"white\",\"showbackground\":true,\"ticks\":\"\",\"zerolinecolor\":\"white\"},\"zaxis\":{\"backgroundcolor\":\"#E5ECF6\",\"gridcolor\":\"white\",\"gridwidth\":2,\"linecolor\":\"white\",\"showbackground\":true,\"ticks\":\"\",\"zerolinecolor\":\"white\"}},\"shapedefaults\":{\"line\":{\"color\":\"#2a3f5f\"}},\"ternary\":{\"aaxis\":{\"gridcolor\":\"white\",\"linecolor\":\"white\",\"ticks\":\"\"},\"baxis\":{\"gridcolor\":\"white\",\"linecolor\":\"white\",\"ticks\":\"\"},\"bgcolor\":\"#E5ECF6\",\"caxis\":{\"gridcolor\":\"white\",\"linecolor\":\"white\",\"ticks\":\"\"}},\"title\":{\"x\":0.05},\"xaxis\":{\"automargin\":true,\"gridcolor\":\"white\",\"linecolor\":\"white\",\"ticks\":\"\",\"title\":{\"standoff\":15},\"zerolinecolor\":\"white\",\"zerolinewidth\":2},\"yaxis\":{\"automargin\":true,\"gridcolor\":\"white\",\"linecolor\":\"white\",\"ticks\":\"\",\"title\":{\"standoff\":15},\"zerolinecolor\":\"white\",\"zerolinewidth\":2}}},\"xaxis\":{\"anchor\":\"y\",\"domain\":[0.0,1.0],\"title\":{\"text\":\"GDP\"},\"type\":\"log\"},\"yaxis\":{\"anchor\":\"x\",\"domain\":[0.0,1.0],\"title\":{\"text\":\"% of alcohol drinkers\"}},\"legend\":{\"tracegroupgap\":0},\"margin\":{\"t\":60}},                        {\"responsive\": true}                    ).then(function(){\n",
       "                            \n",
       "var gd = document.getElementById('20618296-d07e-409e-9b69-5a4d72e8b8c0');\n",
       "var x = new MutationObserver(function (mutations, observer) {{\n",
       "        var display = window.getComputedStyle(gd).display;\n",
       "        if (!display || display === 'none') {{\n",
       "            console.log([gd, 'removed!']);\n",
       "            Plotly.purge(gd);\n",
       "            observer.disconnect();\n",
       "        }}\n",
       "}});\n",
       "\n",
       "// Listen for the removal of the full notebook cells\n",
       "var notebookContainer = gd.closest('#notebook-container');\n",
       "if (notebookContainer) {{\n",
       "    x.observe(notebookContainer, {childList: true});\n",
       "}}\n",
       "\n",
       "// Listen for the clearing of the current output cell\n",
       "var outputEl = gd.closest('.output');\n",
       "if (outputEl) {{\n",
       "    x.observe(outputEl, {childList: true});\n",
       "}}\n",
       "\n",
       "                        })                };                });            </script>        </div>"
      ]
     },
     "metadata": {},
     "output_type": "display_data"
    }
   ],
   "source": [
    "px.scatter(test[test.Sex == 'BTSX'], x='GDP', y= '% of alcohol drinkers',  hover_name=\"Country\")"
   ]
  },
  {
   "cell_type": "code",
   "execution_count": 136,
   "metadata": {},
   "outputs": [
    {
     "data": {
      "application/vnd.plotly.v1+json": {
       "config": {
        "plotlyServerURL": "https://plot.ly"
       },
       "data": [
        {
         "hovertemplate": "<b>%{hovertext}</b><br><br>GDP=%{x}<br>% of alcohol drinkers=%{y}<extra></extra>",
         "hovertext": [
          "Marshall Islands",
          "Palau",
          "San Marino",
          "Libya",
          "Kuwait",
          "Afghanistan",
          "Solomon Islands",
          "Mauritania",
          "Pakistan",
          "Bangladesh",
          "Iran (Islamic Republic of)",
          "Sudan",
          "Morocco",
          "Egypt",
          "Jordan",
          "Algeria",
          "Iraq",
          "Tunisia",
          "Comoros",
          "Zimbabwe",
          "Oman",
          "Turkey",
          "Djibouti",
          "Bahrain",
          "Niger",
          "Tajikistan",
          "Madagascar",
          "Uzbekistan",
          "Kiribati",
          "Maldives",
          "Mozambique",
          "Timor-Leste",
          "Senegal",
          "Guinea",
          "Azerbaijan",
          "Mali",
          "Nauru",
          "Chad",
          "Ethiopia",
          "Indonesia",
          "Slovenia",
          "Vanuatu",
          "Papua New Guinea",
          "Malawi",
          "Kenya",
          "Tonga",
          "Tuvalu",
          "Micronesia (Federated States of)",
          "Togo",
          "Benin",
          "Kyrgyzstan",
          "Ghana",
          "Samoa",
          "Armenia",
          "Gambia",
          "Myanmar",
          "Zambia",
          "Guatemala",
          "Nepal",
          "Bhutan",
          "Guinea-Bissau",
          "Eswatini",
          "Fiji",
          "Lesotho",
          "Sri Lanka",
          "Malaysia",
          "Honduras",
          "United Arab Emirates",
          "Liberia",
          "El Salvador",
          "Turkmenistan",
          "Namibia",
          "Sierra Leone",
          "Somalia",
          "Mauritius",
          "Cambodia",
          "Botswana",
          "Burundi",
          "Nicaragua",
          "Philippines",
          "Cameroon",
          "Mongolia",
          "Sao Tome and Principe",
          "Jamaica",
          "Haiti",
          "Georgia",
          "Burkina Faso",
          "Paraguay",
          "Rwanda",
          "Democratic Republic of the Congo",
          "Uganda",
          "Costa Rica",
          "Viet Nam",
          "United Republic of Tanzania",
          "Côte d’Ivoire",
          "Central African Republic",
          "Cabo Verde",
          "Qatar",
          "India",
          "Colombia",
          "Guyana",
          "Lao People's Democratic Republic",
          "Kazakhstan",
          "Brazil",
          "Thailand",
          "Belize",
          "Suriname",
          "Brunei Darussalam",
          "Mexico",
          "Dominican Republic",
          "Lebanon",
          "Saudi Arabia",
          "Bahamas",
          "Dominica",
          "Bolivia (Plurinational State of)",
          "Saint Vincent and the Grenadines",
          "Ecuador",
          "Bosnia and Herzegovina",
          "Panama",
          "Angola",
          "Grenada",
          "Saint Lucia",
          "Antigua and Barbuda",
          "Barbados",
          "Albania",
          "Nigeria",
          "Congo",
          "Peru",
          "The former Yugoslav Republic of Macedonia",
          "Montenegro",
          "Seychelles",
          "Saint Kitts and Nevis",
          "Israel",
          "China",
          "Japan",
          "Trinidad and Tobago",
          "Croatia",
          "Serbia",
          "Malta",
          "Republic of Korea",
          "Canada",
          "Greece",
          "Bulgaria",
          "Gabon",
          "Italy",
          "Hungary",
          "Republic of Moldova",
          "Russian Federation",
          "Romania",
          "Argentina",
          "Chile",
          "Ukraine",
          "Poland",
          "Cyprus",
          "Spain",
          "Uruguay",
          "Portugal",
          "Singapore",
          "Slovakia",
          "Iceland",
          "United States of America",
          "Netherlands",
          "Equatorial Guinea",
          "Finland",
          "Sweden",
          "Estonia",
          "United Kingdom of Great Britain and Northern Ireland",
          "Denmark",
          "New Zealand",
          "Czechia",
          "Latvia",
          "France",
          "Belgium",
          "Austria",
          "Belarus",
          "Norway",
          "Australia",
          "Germany",
          "Lithuania",
          "Switzerland",
          "Ireland",
          "Luxembourg"
         ],
         "legendgroup": "",
         "marker": {
          "color": "#636efa",
          "symbol": "circle"
         },
         "mode": "markers",
         "name": "",
         "orientation": "h",
         "showlegend": false,
         "type": "scatter",
         "x": [
          4029.08632919678,
          17572.6226006793,
          60847.1067610929,
          10282.2910804458,
          49853.7362805684,
          1978.96157872183,
          2482.87191978213,
          4983.2206333331,
          4622.77076938075,
          4818.09473660531,
          12433.2969754764,
          4022.86596657319,
          6916.34641150088,
          11951.4475270117,
          9816.55452971638,
          10681.6792969827,
          9255.25690289807,
          9727.50425926541,
          3140.69877162092,
          2744.69075807126,
          27294.5729762764,
          28384.9877846263,
          5481.11481697609,
          40933.3526644217,
          1196.87755957473,
          3657.57350716538,
          1510.14172617809,
          6994.16941167262,
          2291.90721878662,
          13049.0466602078,
          1229.08001865892,
          3181.13718760249,
          3300.0854932471,
          2670.82335507161,
          13699.665590318,
          2216.77326231685,
          13527.411941066,
          1519.91236158763,
          2296.82735215213,
          11444.9606828103,
          36547.7389559849,
          2762.791388307,
          4101.21888209216,
          1486.77824843475,
          4220.44024846369,
          6378.1283460138,
          4411.00311573521,
          3466.41329281782,
          2107.87726149934,
          3323.14445067303,
          4706.57023774883,
          5304.98352460298,
          6295.73184093032,
          12592.6353675009,
          2159.44190927585,
          4544.02156851419,
          3270.03511228554,
          8393.28464317623,
          3800.06570306646,
          10909.1001689407,
          1847.46582390878,
          8392.71756391091,
          10997.4734903847,
          2279.89587402333,
          12536.9417561704,
          26435.1715707484,
          5138.38539820015,
          67119.153244137,
          1353.84291976355,
          8056.54308612849,
          15538.4199701316,
          8893.81315720283,
          1648.05335993719,
          829.611428860091,
          19469.5245883739,
          4191.85000307807,
          16040.0084730125,
          731.063229715588,
          5280.14058082508,
          7953.58164428408,
          3576.34949945049,
          11470.6738325698,
          4051.60484448469,
          8741.55044328036,
          2773.08136431323,
          14089.3023335327,
          2160.51152951619,
          12335.4723571841,
          2098.7103615481,
          1072.21011269575,
          2177.59585383955,
          19679.2886412163,
          8200.33186703573,
          2635.3358910827,
          5174.10055275463,
          928.589507504538,
          6045.06088485291,
          85266.2105859195,
          6118.35733018965,
          13441.4929522564,
          18679.9802308198,
          7805.79855611968,
          25337.152399391,
          14063.9825053838,
          17286.866606887,
          6119.88768686154,
          16130.1708064491,
          62243.5831517924,
          17887.7507356971,
          17003.0130205346,
          11649.0501121276,
          44328.1839111257,
          30764.1159665551,
          9891.29193953719,
          7931.75430931062,
          12105.3813615785,
          10329.1987527594,
          14339.8311811662,
          25381.8484472504,
          6198.08384070806,
          15065.8719536331,
          12270.0132882689,
          17956.315715683,
          12870.0425037649,
          13295.4108845409,
          4916.72138086439,
          3449.1456948178,
          11260.8457538125,
          15848.4192939955,
          18278.730791552,
          24361.8939424167,
          23259.3623116037,
          38341.3075704083,
          16410.7977967813,
          41380.0935773113,
          23728.1586459056,
          26465.1273096002,
          18210.0046204616,
          39222.1433509207,
          42251.4450571656,
          45856.6256264804,
          27287.0834009302,
          22383.8055436428,
          14399.8688094117,
          38992.1483807498,
          31007.7684065437,
          12324.7362793838,
          26456.3879381321,
          28832.6231487683,
          19686.523658911,
          23324.5247506509,
          12377.0172931178,
          32238.157259275,
          37655.1803457421,
          36215.4475907307,
          21608.4302710014,
          32181.1545372343,
          93397.048802202,
          30330.0428870265,
          52279.7288513646,
          60235.7284916969,
          54209.5638357302,
          17007.6247800252,
          47260.800458441,
          50683.3235097178,
          35638.4213511812,
          41627.129269425,
          55938.2128086032,
          42404.3937381567,
          38319.3376633108,
          29932.4939100562,
          42025.6173730617,
          48210.0331113444,
          51935.6038618156,
          19148.1751007952,
          63585.9035142969,
          48697.8370282475,
          50922.3580234484,
          36732.034744031,
          68393.306003945,
          89688.9569584859,
          110261.157353302
         ],
         "xaxis": "x",
         "y": [
          ".",
          ".",
          ".",
          "0.1",
          "0.6",
          "0.7",
          "0.7",
          "0.9",
          "1.2",
          "2.2",
          "3.5",
          "2.3",
          "2.6",
          "2.8",
          "3",
          "3.2",
          "3.1",
          "5.2",
          "4.1",
          "17.6",
          "8.3",
          "6.9",
          "19.7",
          "8.8",
          "20.2",
          "20.7",
          "20.9",
          "20.8",
          "12.1",
          "7.9",
          "21",
          "21.6",
          "21.1",
          "21.6",
          "21.9",
          "21.9",
          "22",
          "22.4",
          "22.6",
          "22.7",
          "13.5",
          "13.6",
          "13.7",
          "23.7",
          "23.9",
          "14.2",
          "14.4",
          "15.2",
          "25.7",
          "26.1",
          "25.9",
          "26",
          "16",
          "26",
          "26.7",
          "27.1",
          "27.3",
          "27.3",
          "27.1",
          "29.6",
          "28.8",
          "28.8",
          "17.7",
          "17.8",
          "28.7",
          "29.6",
          "29.8",
          "18.5",
          "30.8",
          "29.4",
          "30.4",
          "30.3",
          "30.9",
          "31",
          "31.2",
          "30.9",
          "32",
          "31.6",
          "32.5",
          "33.1",
          "33.8",
          "33.6",
          "34",
          "34.9",
          "35.1",
          "35.1",
          "36.9",
          "36",
          "35",
          "36.4",
          "36.3",
          "36.6",
          "99.4",
          "36.4",
          "38.5",
          "37.6",
          "39.4",
          "45.6",
          "38.8",
          "38.3",
          "39.1",
          "40",
          "39.9",
          "40.3",
          "40.9",
          "41.5",
          "42.2",
          "33.3",
          "42.7",
          "43",
          "6.1",
          "5.8",
          "43.8",
          "45.2",
          "45.4",
          "46.6",
          "46.5",
          "47.9",
          "47.7",
          "47.7",
          "49.6",
          "49.7",
          "49.4",
          "50.5",
          "51",
          "52.6",
          "51.7",
          "53.2",
          "53.7",
          "54",
          "54.9",
          "54.8",
          "55",
          "55.9",
          "57",
          "58.7",
          "59.7",
          "60",
          "63",
          "63.9",
          "64.5",
          "65.4",
          "66",
          "66.5",
          "67.8",
          "66.6",
          "66.6",
          "58.1",
          "67.2",
          "67.4",
          "67.6",
          "61.8",
          "68",
          "68.8",
          "68.6",
          "68.9",
          "69.2",
          "70",
          "71.3",
          "71.5",
          "71.7",
          "72.1",
          "72.9",
          "72.5",
          "73",
          "72.8",
          "73.4",
          "74.4",
          "74.6",
          "75.4",
          "75",
          "75.3",
          "76.5",
          "78.1",
          "73.6",
          "79",
          "79.4",
          "79.4",
          "79.1",
          "81.2",
          "81.3",
          "91.8"
         ],
         "yaxis": "y"
        }
       ],
       "layout": {
        "legend": {
         "tracegroupgap": 0
        },
        "margin": {
         "t": 60
        },
        "template": {
         "data": {
          "bar": [
           {
            "error_x": {
             "color": "#2a3f5f"
            },
            "error_y": {
             "color": "#2a3f5f"
            },
            "marker": {
             "line": {
              "color": "#E5ECF6",
              "width": 0.5
             },
             "pattern": {
              "fillmode": "overlay",
              "size": 10,
              "solidity": 0.2
             }
            },
            "type": "bar"
           }
          ],
          "barpolar": [
           {
            "marker": {
             "line": {
              "color": "#E5ECF6",
              "width": 0.5
             },
             "pattern": {
              "fillmode": "overlay",
              "size": 10,
              "solidity": 0.2
             }
            },
            "type": "barpolar"
           }
          ],
          "carpet": [
           {
            "aaxis": {
             "endlinecolor": "#2a3f5f",
             "gridcolor": "white",
             "linecolor": "white",
             "minorgridcolor": "white",
             "startlinecolor": "#2a3f5f"
            },
            "baxis": {
             "endlinecolor": "#2a3f5f",
             "gridcolor": "white",
             "linecolor": "white",
             "minorgridcolor": "white",
             "startlinecolor": "#2a3f5f"
            },
            "type": "carpet"
           }
          ],
          "choropleth": [
           {
            "colorbar": {
             "outlinewidth": 0,
             "ticks": ""
            },
            "type": "choropleth"
           }
          ],
          "contour": [
           {
            "colorbar": {
             "outlinewidth": 0,
             "ticks": ""
            },
            "colorscale": [
             [
              0,
              "#0d0887"
             ],
             [
              0.1111111111111111,
              "#46039f"
             ],
             [
              0.2222222222222222,
              "#7201a8"
             ],
             [
              0.3333333333333333,
              "#9c179e"
             ],
             [
              0.4444444444444444,
              "#bd3786"
             ],
             [
              0.5555555555555556,
              "#d8576b"
             ],
             [
              0.6666666666666666,
              "#ed7953"
             ],
             [
              0.7777777777777778,
              "#fb9f3a"
             ],
             [
              0.8888888888888888,
              "#fdca26"
             ],
             [
              1,
              "#f0f921"
             ]
            ],
            "type": "contour"
           }
          ],
          "contourcarpet": [
           {
            "colorbar": {
             "outlinewidth": 0,
             "ticks": ""
            },
            "type": "contourcarpet"
           }
          ],
          "heatmap": [
           {
            "colorbar": {
             "outlinewidth": 0,
             "ticks": ""
            },
            "colorscale": [
             [
              0,
              "#0d0887"
             ],
             [
              0.1111111111111111,
              "#46039f"
             ],
             [
              0.2222222222222222,
              "#7201a8"
             ],
             [
              0.3333333333333333,
              "#9c179e"
             ],
             [
              0.4444444444444444,
              "#bd3786"
             ],
             [
              0.5555555555555556,
              "#d8576b"
             ],
             [
              0.6666666666666666,
              "#ed7953"
             ],
             [
              0.7777777777777778,
              "#fb9f3a"
             ],
             [
              0.8888888888888888,
              "#fdca26"
             ],
             [
              1,
              "#f0f921"
             ]
            ],
            "type": "heatmap"
           }
          ],
          "heatmapgl": [
           {
            "colorbar": {
             "outlinewidth": 0,
             "ticks": ""
            },
            "colorscale": [
             [
              0,
              "#0d0887"
             ],
             [
              0.1111111111111111,
              "#46039f"
             ],
             [
              0.2222222222222222,
              "#7201a8"
             ],
             [
              0.3333333333333333,
              "#9c179e"
             ],
             [
              0.4444444444444444,
              "#bd3786"
             ],
             [
              0.5555555555555556,
              "#d8576b"
             ],
             [
              0.6666666666666666,
              "#ed7953"
             ],
             [
              0.7777777777777778,
              "#fb9f3a"
             ],
             [
              0.8888888888888888,
              "#fdca26"
             ],
             [
              1,
              "#f0f921"
             ]
            ],
            "type": "heatmapgl"
           }
          ],
          "histogram": [
           {
            "marker": {
             "pattern": {
              "fillmode": "overlay",
              "size": 10,
              "solidity": 0.2
             }
            },
            "type": "histogram"
           }
          ],
          "histogram2d": [
           {
            "colorbar": {
             "outlinewidth": 0,
             "ticks": ""
            },
            "colorscale": [
             [
              0,
              "#0d0887"
             ],
             [
              0.1111111111111111,
              "#46039f"
             ],
             [
              0.2222222222222222,
              "#7201a8"
             ],
             [
              0.3333333333333333,
              "#9c179e"
             ],
             [
              0.4444444444444444,
              "#bd3786"
             ],
             [
              0.5555555555555556,
              "#d8576b"
             ],
             [
              0.6666666666666666,
              "#ed7953"
             ],
             [
              0.7777777777777778,
              "#fb9f3a"
             ],
             [
              0.8888888888888888,
              "#fdca26"
             ],
             [
              1,
              "#f0f921"
             ]
            ],
            "type": "histogram2d"
           }
          ],
          "histogram2dcontour": [
           {
            "colorbar": {
             "outlinewidth": 0,
             "ticks": ""
            },
            "colorscale": [
             [
              0,
              "#0d0887"
             ],
             [
              0.1111111111111111,
              "#46039f"
             ],
             [
              0.2222222222222222,
              "#7201a8"
             ],
             [
              0.3333333333333333,
              "#9c179e"
             ],
             [
              0.4444444444444444,
              "#bd3786"
             ],
             [
              0.5555555555555556,
              "#d8576b"
             ],
             [
              0.6666666666666666,
              "#ed7953"
             ],
             [
              0.7777777777777778,
              "#fb9f3a"
             ],
             [
              0.8888888888888888,
              "#fdca26"
             ],
             [
              1,
              "#f0f921"
             ]
            ],
            "type": "histogram2dcontour"
           }
          ],
          "mesh3d": [
           {
            "colorbar": {
             "outlinewidth": 0,
             "ticks": ""
            },
            "type": "mesh3d"
           }
          ],
          "parcoords": [
           {
            "line": {
             "colorbar": {
              "outlinewidth": 0,
              "ticks": ""
             }
            },
            "type": "parcoords"
           }
          ],
          "pie": [
           {
            "automargin": true,
            "type": "pie"
           }
          ],
          "scatter": [
           {
            "marker": {
             "colorbar": {
              "outlinewidth": 0,
              "ticks": ""
             }
            },
            "type": "scatter"
           }
          ],
          "scatter3d": [
           {
            "line": {
             "colorbar": {
              "outlinewidth": 0,
              "ticks": ""
             }
            },
            "marker": {
             "colorbar": {
              "outlinewidth": 0,
              "ticks": ""
             }
            },
            "type": "scatter3d"
           }
          ],
          "scattercarpet": [
           {
            "marker": {
             "colorbar": {
              "outlinewidth": 0,
              "ticks": ""
             }
            },
            "type": "scattercarpet"
           }
          ],
          "scattergeo": [
           {
            "marker": {
             "colorbar": {
              "outlinewidth": 0,
              "ticks": ""
             }
            },
            "type": "scattergeo"
           }
          ],
          "scattergl": [
           {
            "marker": {
             "colorbar": {
              "outlinewidth": 0,
              "ticks": ""
             }
            },
            "type": "scattergl"
           }
          ],
          "scattermapbox": [
           {
            "marker": {
             "colorbar": {
              "outlinewidth": 0,
              "ticks": ""
             }
            },
            "type": "scattermapbox"
           }
          ],
          "scatterpolar": [
           {
            "marker": {
             "colorbar": {
              "outlinewidth": 0,
              "ticks": ""
             }
            },
            "type": "scatterpolar"
           }
          ],
          "scatterpolargl": [
           {
            "marker": {
             "colorbar": {
              "outlinewidth": 0,
              "ticks": ""
             }
            },
            "type": "scatterpolargl"
           }
          ],
          "scatterternary": [
           {
            "marker": {
             "colorbar": {
              "outlinewidth": 0,
              "ticks": ""
             }
            },
            "type": "scatterternary"
           }
          ],
          "surface": [
           {
            "colorbar": {
             "outlinewidth": 0,
             "ticks": ""
            },
            "colorscale": [
             [
              0,
              "#0d0887"
             ],
             [
              0.1111111111111111,
              "#46039f"
             ],
             [
              0.2222222222222222,
              "#7201a8"
             ],
             [
              0.3333333333333333,
              "#9c179e"
             ],
             [
              0.4444444444444444,
              "#bd3786"
             ],
             [
              0.5555555555555556,
              "#d8576b"
             ],
             [
              0.6666666666666666,
              "#ed7953"
             ],
             [
              0.7777777777777778,
              "#fb9f3a"
             ],
             [
              0.8888888888888888,
              "#fdca26"
             ],
             [
              1,
              "#f0f921"
             ]
            ],
            "type": "surface"
           }
          ],
          "table": [
           {
            "cells": {
             "fill": {
              "color": "#EBF0F8"
             },
             "line": {
              "color": "white"
             }
            },
            "header": {
             "fill": {
              "color": "#C8D4E3"
             },
             "line": {
              "color": "white"
             }
            },
            "type": "table"
           }
          ]
         },
         "layout": {
          "annotationdefaults": {
           "arrowcolor": "#2a3f5f",
           "arrowhead": 0,
           "arrowwidth": 1
          },
          "autotypenumbers": "strict",
          "coloraxis": {
           "colorbar": {
            "outlinewidth": 0,
            "ticks": ""
           }
          },
          "colorscale": {
           "diverging": [
            [
             0,
             "#8e0152"
            ],
            [
             0.1,
             "#c51b7d"
            ],
            [
             0.2,
             "#de77ae"
            ],
            [
             0.3,
             "#f1b6da"
            ],
            [
             0.4,
             "#fde0ef"
            ],
            [
             0.5,
             "#f7f7f7"
            ],
            [
             0.6,
             "#e6f5d0"
            ],
            [
             0.7,
             "#b8e186"
            ],
            [
             0.8,
             "#7fbc41"
            ],
            [
             0.9,
             "#4d9221"
            ],
            [
             1,
             "#276419"
            ]
           ],
           "sequential": [
            [
             0,
             "#0d0887"
            ],
            [
             0.1111111111111111,
             "#46039f"
            ],
            [
             0.2222222222222222,
             "#7201a8"
            ],
            [
             0.3333333333333333,
             "#9c179e"
            ],
            [
             0.4444444444444444,
             "#bd3786"
            ],
            [
             0.5555555555555556,
             "#d8576b"
            ],
            [
             0.6666666666666666,
             "#ed7953"
            ],
            [
             0.7777777777777778,
             "#fb9f3a"
            ],
            [
             0.8888888888888888,
             "#fdca26"
            ],
            [
             1,
             "#f0f921"
            ]
           ],
           "sequentialminus": [
            [
             0,
             "#0d0887"
            ],
            [
             0.1111111111111111,
             "#46039f"
            ],
            [
             0.2222222222222222,
             "#7201a8"
            ],
            [
             0.3333333333333333,
             "#9c179e"
            ],
            [
             0.4444444444444444,
             "#bd3786"
            ],
            [
             0.5555555555555556,
             "#d8576b"
            ],
            [
             0.6666666666666666,
             "#ed7953"
            ],
            [
             0.7777777777777778,
             "#fb9f3a"
            ],
            [
             0.8888888888888888,
             "#fdca26"
            ],
            [
             1,
             "#f0f921"
            ]
           ]
          },
          "colorway": [
           "#636efa",
           "#EF553B",
           "#00cc96",
           "#ab63fa",
           "#FFA15A",
           "#19d3f3",
           "#FF6692",
           "#B6E880",
           "#FF97FF",
           "#FECB52"
          ],
          "font": {
           "color": "#2a3f5f"
          },
          "geo": {
           "bgcolor": "white",
           "lakecolor": "white",
           "landcolor": "#E5ECF6",
           "showlakes": true,
           "showland": true,
           "subunitcolor": "white"
          },
          "hoverlabel": {
           "align": "left"
          },
          "hovermode": "closest",
          "mapbox": {
           "style": "light"
          },
          "paper_bgcolor": "white",
          "plot_bgcolor": "#E5ECF6",
          "polar": {
           "angularaxis": {
            "gridcolor": "white",
            "linecolor": "white",
            "ticks": ""
           },
           "bgcolor": "#E5ECF6",
           "radialaxis": {
            "gridcolor": "white",
            "linecolor": "white",
            "ticks": ""
           }
          },
          "scene": {
           "xaxis": {
            "backgroundcolor": "#E5ECF6",
            "gridcolor": "white",
            "gridwidth": 2,
            "linecolor": "white",
            "showbackground": true,
            "ticks": "",
            "zerolinecolor": "white"
           },
           "yaxis": {
            "backgroundcolor": "#E5ECF6",
            "gridcolor": "white",
            "gridwidth": 2,
            "linecolor": "white",
            "showbackground": true,
            "ticks": "",
            "zerolinecolor": "white"
           },
           "zaxis": {
            "backgroundcolor": "#E5ECF6",
            "gridcolor": "white",
            "gridwidth": 2,
            "linecolor": "white",
            "showbackground": true,
            "ticks": "",
            "zerolinecolor": "white"
           }
          },
          "shapedefaults": {
           "line": {
            "color": "#2a3f5f"
           }
          },
          "ternary": {
           "aaxis": {
            "gridcolor": "white",
            "linecolor": "white",
            "ticks": ""
           },
           "baxis": {
            "gridcolor": "white",
            "linecolor": "white",
            "ticks": ""
           },
           "bgcolor": "#E5ECF6",
           "caxis": {
            "gridcolor": "white",
            "linecolor": "white",
            "ticks": ""
           }
          },
          "title": {
           "x": 0.05
          },
          "xaxis": {
           "automargin": true,
           "gridcolor": "white",
           "linecolor": "white",
           "ticks": "",
           "title": {
            "standoff": 15
           },
           "zerolinecolor": "white",
           "zerolinewidth": 2
          },
          "yaxis": {
           "automargin": true,
           "gridcolor": "white",
           "linecolor": "white",
           "ticks": "",
           "title": {
            "standoff": 15
           },
           "zerolinecolor": "white",
           "zerolinewidth": 2
          }
         }
        },
        "xaxis": {
         "anchor": "y",
         "domain": [
          0,
          1
         ],
         "title": {
          "text": "GDP"
         },
         "type": "log"
        },
        "yaxis": {
         "anchor": "x",
         "domain": [
          0,
          1
         ],
         "title": {
          "text": "% of alcohol drinkers"
         }
        }
       }
      },
      "text/html": [
       "<div>                            <div id=\"a57bec52-75d9-449c-96dc-354626be6b4f\" class=\"plotly-graph-div\" style=\"height:525px; width:100%;\"></div>            <script type=\"text/javascript\">                require([\"plotly\"], function(Plotly) {                    window.PLOTLYENV=window.PLOTLYENV || {};                                    if (document.getElementById(\"a57bec52-75d9-449c-96dc-354626be6b4f\")) {                    Plotly.newPlot(                        \"a57bec52-75d9-449c-96dc-354626be6b4f\",                        [{\"hovertemplate\":\"<b>%{hovertext}</b><br><br>GDP=%{x}<br>% of alcohol drinkers=%{y}<extra></extra>\",\"hovertext\":[\"Marshall Islands\",\"Palau\",\"San Marino\",\"Libya\",\"Kuwait\",\"Afghanistan\",\"Solomon Islands\",\"Mauritania\",\"Pakistan\",\"Bangladesh\",\"Iran (Islamic Republic of)\",\"Sudan\",\"Morocco\",\"Egypt\",\"Jordan\",\"Algeria\",\"Iraq\",\"Tunisia\",\"Comoros\",\"Zimbabwe\",\"Oman\",\"Turkey\",\"Djibouti\",\"Bahrain\",\"Niger\",\"Tajikistan\",\"Madagascar\",\"Uzbekistan\",\"Kiribati\",\"Maldives\",\"Mozambique\",\"Timor-Leste\",\"Senegal\",\"Guinea\",\"Azerbaijan\",\"Mali\",\"Nauru\",\"Chad\",\"Ethiopia\",\"Indonesia\",\"Slovenia\",\"Vanuatu\",\"Papua New Guinea\",\"Malawi\",\"Kenya\",\"Tonga\",\"Tuvalu\",\"Micronesia (Federated States of)\",\"Togo\",\"Benin\",\"Kyrgyzstan\",\"Ghana\",\"Samoa\",\"Armenia\",\"Gambia\",\"Myanmar\",\"Zambia\",\"Guatemala\",\"Nepal\",\"Bhutan\",\"Guinea-Bissau\",\"Eswatini\",\"Fiji\",\"Lesotho\",\"Sri Lanka\",\"Malaysia\",\"Honduras\",\"United Arab Emirates\",\"Liberia\",\"El Salvador\",\"Turkmenistan\",\"Namibia\",\"Sierra Leone\",\"Somalia\",\"Mauritius\",\"Cambodia\",\"Botswana\",\"Burundi\",\"Nicaragua\",\"Philippines\",\"Cameroon\",\"Mongolia\",\"Sao Tome and Principe\",\"Jamaica\",\"Haiti\",\"Georgia\",\"Burkina Faso\",\"Paraguay\",\"Rwanda\",\"Democratic Republic of the Congo\",\"Uganda\",\"Costa Rica\",\"Viet Nam\",\"United Republic of Tanzania\",\"C\\u00f4te d\\u2019Ivoire\",\"Central African Republic\",\"Cabo Verde\",\"Qatar\",\"India\",\"Colombia\",\"Guyana\",\"Lao People's Democratic Republic\",\"Kazakhstan\",\"Brazil\",\"Thailand\",\"Belize\",\"Suriname\",\"Brunei Darussalam\",\"Mexico\",\"Dominican Republic\",\"Lebanon\",\"Saudi Arabia\",\"Bahamas\",\"Dominica\",\"Bolivia (Plurinational State of)\",\"Saint Vincent and the Grenadines\",\"Ecuador\",\"Bosnia and Herzegovina\",\"Panama\",\"Angola\",\"Grenada\",\"Saint Lucia\",\"Antigua and Barbuda\",\"Barbados\",\"Albania\",\"Nigeria\",\"Congo\",\"Peru\",\"The former Yugoslav Republic of Macedonia\",\"Montenegro\",\"Seychelles\",\"Saint Kitts and Nevis\",\"Israel\",\"China\",\"Japan\",\"Trinidad and Tobago\",\"Croatia\",\"Serbia\",\"Malta\",\"Republic of Korea\",\"Canada\",\"Greece\",\"Bulgaria\",\"Gabon\",\"Italy\",\"Hungary\",\"Republic of Moldova\",\"Russian Federation\",\"Romania\",\"Argentina\",\"Chile\",\"Ukraine\",\"Poland\",\"Cyprus\",\"Spain\",\"Uruguay\",\"Portugal\",\"Singapore\",\"Slovakia\",\"Iceland\",\"United States of America\",\"Netherlands\",\"Equatorial Guinea\",\"Finland\",\"Sweden\",\"Estonia\",\"United Kingdom of Great Britain and Northern Ireland\",\"Denmark\",\"New Zealand\",\"Czechia\",\"Latvia\",\"France\",\"Belgium\",\"Austria\",\"Belarus\",\"Norway\",\"Australia\",\"Germany\",\"Lithuania\",\"Switzerland\",\"Ireland\",\"Luxembourg\"],\"legendgroup\":\"\",\"marker\":{\"color\":\"#636efa\",\"symbol\":\"circle\"},\"mode\":\"markers\",\"name\":\"\",\"orientation\":\"h\",\"showlegend\":false,\"x\":[4029.08632919678,17572.6226006793,60847.1067610929,10282.2910804458,49853.7362805684,1978.96157872183,2482.87191978213,4983.2206333331,4622.77076938075,4818.09473660531,12433.2969754764,4022.86596657319,6916.34641150088,11951.4475270117,9816.55452971638,10681.6792969827,9255.25690289807,9727.50425926541,3140.69877162092,2744.69075807126,27294.5729762764,28384.9877846263,5481.11481697609,40933.3526644217,1196.87755957473,3657.57350716538,1510.14172617809,6994.16941167262,2291.90721878662,13049.0466602078,1229.08001865892,3181.13718760249,3300.0854932471,2670.82335507161,13699.665590318,2216.77326231685,13527.411941066,1519.91236158763,2296.82735215213,11444.9606828103,36547.7389559849,2762.791388307,4101.21888209216,1486.77824843475,4220.44024846369,6378.1283460138,4411.00311573521,3466.41329281782,2107.87726149934,3323.14445067303,4706.57023774883,5304.98352460298,6295.73184093032,12592.6353675009,2159.44190927585,4544.02156851419,3270.03511228554,8393.28464317623,3800.06570306646,10909.1001689407,1847.46582390878,8392.71756391091,10997.4734903847,2279.89587402333,12536.9417561704,26435.1715707484,5138.38539820015,67119.153244137,1353.84291976355,8056.54308612849,15538.4199701316,8893.81315720283,1648.05335993719,829.611428860091,19469.5245883739,4191.85000307807,16040.0084730125,731.063229715588,5280.14058082508,7953.58164428408,3576.34949945049,11470.6738325698,4051.60484448469,8741.55044328036,2773.08136431323,14089.3023335327,2160.51152951619,12335.4723571841,2098.7103615481,1072.21011269575,2177.59585383955,19679.2886412163,8200.33186703573,2635.3358910827,5174.10055275463,928.589507504538,6045.06088485291,85266.2105859195,6118.35733018965,13441.4929522564,18679.9802308198,7805.79855611968,25337.152399391,14063.9825053838,17286.866606887,6119.88768686154,16130.1708064491,62243.5831517924,17887.7507356971,17003.0130205346,11649.0501121276,44328.1839111257,30764.1159665551,9891.29193953719,7931.75430931062,12105.3813615785,10329.1987527594,14339.8311811662,25381.8484472504,6198.08384070806,15065.8719536331,12270.0132882689,17956.315715683,12870.0425037649,13295.4108845409,4916.72138086439,3449.1456948178,11260.8457538125,15848.4192939955,18278.730791552,24361.8939424167,23259.3623116037,38341.3075704083,16410.7977967813,41380.0935773113,23728.1586459056,26465.1273096002,18210.0046204616,39222.1433509207,42251.4450571656,45856.6256264804,27287.0834009302,22383.8055436428,14399.8688094117,38992.1483807498,31007.7684065437,12324.7362793838,26456.3879381321,28832.6231487683,19686.523658911,23324.5247506509,12377.0172931178,32238.157259275,37655.1803457421,36215.4475907307,21608.4302710014,32181.1545372343,93397.048802202,30330.0428870265,52279.7288513646,60235.7284916969,54209.5638357302,17007.6247800252,47260.800458441,50683.3235097178,35638.4213511812,41627.129269425,55938.2128086032,42404.3937381567,38319.3376633108,29932.4939100562,42025.6173730617,48210.0331113444,51935.6038618156,19148.1751007952,63585.9035142969,48697.8370282475,50922.3580234484,36732.034744031,68393.306003945,89688.9569584859,110261.157353302],\"xaxis\":\"x\",\"y\":[\".\",\".\",\".\",\"0.1\",\"0.6\",\"0.7\",\"0.7\",\"0.9\",\"1.2\",\"2.2\",\"3.5\",\"2.3\",\"2.6\",\"2.8\",\"3\",\"3.2\",\"3.1\",\"5.2\",\"4.1\",\"17.6\",\"8.3\",\"6.9\",\"19.7\",\"8.8\",\"20.2\",\"20.7\",\"20.9\",\"20.8\",\"12.1\",\"7.9\",\"21\",\"21.6\",\"21.1\",\"21.6\",\"21.9\",\"21.9\",\"22\",\"22.4\",\"22.6\",\"22.7\",\"13.5\",\"13.6\",\"13.7\",\"23.7\",\"23.9\",\"14.2\",\"14.4\",\"15.2\",\"25.7\",\"26.1\",\"25.9\",\"26\",\"16\",\"26\",\"26.7\",\"27.1\",\"27.3\",\"27.3\",\"27.1\",\"29.6\",\"28.8\",\"28.8\",\"17.7\",\"17.8\",\"28.7\",\"29.6\",\"29.8\",\"18.5\",\"30.8\",\"29.4\",\"30.4\",\"30.3\",\"30.9\",\"31\",\"31.2\",\"30.9\",\"32\",\"31.6\",\"32.5\",\"33.1\",\"33.8\",\"33.6\",\"34\",\"34.9\",\"35.1\",\"35.1\",\"36.9\",\"36\",\"35\",\"36.4\",\"36.3\",\"36.6\",\"99.4\",\"36.4\",\"38.5\",\"37.6\",\"39.4\",\"45.6\",\"38.8\",\"38.3\",\"39.1\",\"40\",\"39.9\",\"40.3\",\"40.9\",\"41.5\",\"42.2\",\"33.3\",\"42.7\",\"43\",\"6.1\",\"5.8\",\"43.8\",\"45.2\",\"45.4\",\"46.6\",\"46.5\",\"47.9\",\"47.7\",\"47.7\",\"49.6\",\"49.7\",\"49.4\",\"50.5\",\"51\",\"52.6\",\"51.7\",\"53.2\",\"53.7\",\"54\",\"54.9\",\"54.8\",\"55\",\"55.9\",\"57\",\"58.7\",\"59.7\",\"60\",\"63\",\"63.9\",\"64.5\",\"65.4\",\"66\",\"66.5\",\"67.8\",\"66.6\",\"66.6\",\"58.1\",\"67.2\",\"67.4\",\"67.6\",\"61.8\",\"68\",\"68.8\",\"68.6\",\"68.9\",\"69.2\",\"70\",\"71.3\",\"71.5\",\"71.7\",\"72.1\",\"72.9\",\"72.5\",\"73\",\"72.8\",\"73.4\",\"74.4\",\"74.6\",\"75.4\",\"75\",\"75.3\",\"76.5\",\"78.1\",\"73.6\",\"79\",\"79.4\",\"79.4\",\"79.1\",\"81.2\",\"81.3\",\"91.8\"],\"yaxis\":\"y\",\"type\":\"scatter\"}],                        {\"template\":{\"data\":{\"bar\":[{\"error_x\":{\"color\":\"#2a3f5f\"},\"error_y\":{\"color\":\"#2a3f5f\"},\"marker\":{\"line\":{\"color\":\"#E5ECF6\",\"width\":0.5},\"pattern\":{\"fillmode\":\"overlay\",\"size\":10,\"solidity\":0.2}},\"type\":\"bar\"}],\"barpolar\":[{\"marker\":{\"line\":{\"color\":\"#E5ECF6\",\"width\":0.5},\"pattern\":{\"fillmode\":\"overlay\",\"size\":10,\"solidity\":0.2}},\"type\":\"barpolar\"}],\"carpet\":[{\"aaxis\":{\"endlinecolor\":\"#2a3f5f\",\"gridcolor\":\"white\",\"linecolor\":\"white\",\"minorgridcolor\":\"white\",\"startlinecolor\":\"#2a3f5f\"},\"baxis\":{\"endlinecolor\":\"#2a3f5f\",\"gridcolor\":\"white\",\"linecolor\":\"white\",\"minorgridcolor\":\"white\",\"startlinecolor\":\"#2a3f5f\"},\"type\":\"carpet\"}],\"choropleth\":[{\"colorbar\":{\"outlinewidth\":0,\"ticks\":\"\"},\"type\":\"choropleth\"}],\"contour\":[{\"colorbar\":{\"outlinewidth\":0,\"ticks\":\"\"},\"colorscale\":[[0.0,\"#0d0887\"],[0.1111111111111111,\"#46039f\"],[0.2222222222222222,\"#7201a8\"],[0.3333333333333333,\"#9c179e\"],[0.4444444444444444,\"#bd3786\"],[0.5555555555555556,\"#d8576b\"],[0.6666666666666666,\"#ed7953\"],[0.7777777777777778,\"#fb9f3a\"],[0.8888888888888888,\"#fdca26\"],[1.0,\"#f0f921\"]],\"type\":\"contour\"}],\"contourcarpet\":[{\"colorbar\":{\"outlinewidth\":0,\"ticks\":\"\"},\"type\":\"contourcarpet\"}],\"heatmap\":[{\"colorbar\":{\"outlinewidth\":0,\"ticks\":\"\"},\"colorscale\":[[0.0,\"#0d0887\"],[0.1111111111111111,\"#46039f\"],[0.2222222222222222,\"#7201a8\"],[0.3333333333333333,\"#9c179e\"],[0.4444444444444444,\"#bd3786\"],[0.5555555555555556,\"#d8576b\"],[0.6666666666666666,\"#ed7953\"],[0.7777777777777778,\"#fb9f3a\"],[0.8888888888888888,\"#fdca26\"],[1.0,\"#f0f921\"]],\"type\":\"heatmap\"}],\"heatmapgl\":[{\"colorbar\":{\"outlinewidth\":0,\"ticks\":\"\"},\"colorscale\":[[0.0,\"#0d0887\"],[0.1111111111111111,\"#46039f\"],[0.2222222222222222,\"#7201a8\"],[0.3333333333333333,\"#9c179e\"],[0.4444444444444444,\"#bd3786\"],[0.5555555555555556,\"#d8576b\"],[0.6666666666666666,\"#ed7953\"],[0.7777777777777778,\"#fb9f3a\"],[0.8888888888888888,\"#fdca26\"],[1.0,\"#f0f921\"]],\"type\":\"heatmapgl\"}],\"histogram\":[{\"marker\":{\"pattern\":{\"fillmode\":\"overlay\",\"size\":10,\"solidity\":0.2}},\"type\":\"histogram\"}],\"histogram2d\":[{\"colorbar\":{\"outlinewidth\":0,\"ticks\":\"\"},\"colorscale\":[[0.0,\"#0d0887\"],[0.1111111111111111,\"#46039f\"],[0.2222222222222222,\"#7201a8\"],[0.3333333333333333,\"#9c179e\"],[0.4444444444444444,\"#bd3786\"],[0.5555555555555556,\"#d8576b\"],[0.6666666666666666,\"#ed7953\"],[0.7777777777777778,\"#fb9f3a\"],[0.8888888888888888,\"#fdca26\"],[1.0,\"#f0f921\"]],\"type\":\"histogram2d\"}],\"histogram2dcontour\":[{\"colorbar\":{\"outlinewidth\":0,\"ticks\":\"\"},\"colorscale\":[[0.0,\"#0d0887\"],[0.1111111111111111,\"#46039f\"],[0.2222222222222222,\"#7201a8\"],[0.3333333333333333,\"#9c179e\"],[0.4444444444444444,\"#bd3786\"],[0.5555555555555556,\"#d8576b\"],[0.6666666666666666,\"#ed7953\"],[0.7777777777777778,\"#fb9f3a\"],[0.8888888888888888,\"#fdca26\"],[1.0,\"#f0f921\"]],\"type\":\"histogram2dcontour\"}],\"mesh3d\":[{\"colorbar\":{\"outlinewidth\":0,\"ticks\":\"\"},\"type\":\"mesh3d\"}],\"parcoords\":[{\"line\":{\"colorbar\":{\"outlinewidth\":0,\"ticks\":\"\"}},\"type\":\"parcoords\"}],\"pie\":[{\"automargin\":true,\"type\":\"pie\"}],\"scatter\":[{\"marker\":{\"colorbar\":{\"outlinewidth\":0,\"ticks\":\"\"}},\"type\":\"scatter\"}],\"scatter3d\":[{\"line\":{\"colorbar\":{\"outlinewidth\":0,\"ticks\":\"\"}},\"marker\":{\"colorbar\":{\"outlinewidth\":0,\"ticks\":\"\"}},\"type\":\"scatter3d\"}],\"scattercarpet\":[{\"marker\":{\"colorbar\":{\"outlinewidth\":0,\"ticks\":\"\"}},\"type\":\"scattercarpet\"}],\"scattergeo\":[{\"marker\":{\"colorbar\":{\"outlinewidth\":0,\"ticks\":\"\"}},\"type\":\"scattergeo\"}],\"scattergl\":[{\"marker\":{\"colorbar\":{\"outlinewidth\":0,\"ticks\":\"\"}},\"type\":\"scattergl\"}],\"scattermapbox\":[{\"marker\":{\"colorbar\":{\"outlinewidth\":0,\"ticks\":\"\"}},\"type\":\"scattermapbox\"}],\"scatterpolar\":[{\"marker\":{\"colorbar\":{\"outlinewidth\":0,\"ticks\":\"\"}},\"type\":\"scatterpolar\"}],\"scatterpolargl\":[{\"marker\":{\"colorbar\":{\"outlinewidth\":0,\"ticks\":\"\"}},\"type\":\"scatterpolargl\"}],\"scatterternary\":[{\"marker\":{\"colorbar\":{\"outlinewidth\":0,\"ticks\":\"\"}},\"type\":\"scatterternary\"}],\"surface\":[{\"colorbar\":{\"outlinewidth\":0,\"ticks\":\"\"},\"colorscale\":[[0.0,\"#0d0887\"],[0.1111111111111111,\"#46039f\"],[0.2222222222222222,\"#7201a8\"],[0.3333333333333333,\"#9c179e\"],[0.4444444444444444,\"#bd3786\"],[0.5555555555555556,\"#d8576b\"],[0.6666666666666666,\"#ed7953\"],[0.7777777777777778,\"#fb9f3a\"],[0.8888888888888888,\"#fdca26\"],[1.0,\"#f0f921\"]],\"type\":\"surface\"}],\"table\":[{\"cells\":{\"fill\":{\"color\":\"#EBF0F8\"},\"line\":{\"color\":\"white\"}},\"header\":{\"fill\":{\"color\":\"#C8D4E3\"},\"line\":{\"color\":\"white\"}},\"type\":\"table\"}]},\"layout\":{\"annotationdefaults\":{\"arrowcolor\":\"#2a3f5f\",\"arrowhead\":0,\"arrowwidth\":1},\"autotypenumbers\":\"strict\",\"coloraxis\":{\"colorbar\":{\"outlinewidth\":0,\"ticks\":\"\"}},\"colorscale\":{\"diverging\":[[0,\"#8e0152\"],[0.1,\"#c51b7d\"],[0.2,\"#de77ae\"],[0.3,\"#f1b6da\"],[0.4,\"#fde0ef\"],[0.5,\"#f7f7f7\"],[0.6,\"#e6f5d0\"],[0.7,\"#b8e186\"],[0.8,\"#7fbc41\"],[0.9,\"#4d9221\"],[1,\"#276419\"]],\"sequential\":[[0.0,\"#0d0887\"],[0.1111111111111111,\"#46039f\"],[0.2222222222222222,\"#7201a8\"],[0.3333333333333333,\"#9c179e\"],[0.4444444444444444,\"#bd3786\"],[0.5555555555555556,\"#d8576b\"],[0.6666666666666666,\"#ed7953\"],[0.7777777777777778,\"#fb9f3a\"],[0.8888888888888888,\"#fdca26\"],[1.0,\"#f0f921\"]],\"sequentialminus\":[[0.0,\"#0d0887\"],[0.1111111111111111,\"#46039f\"],[0.2222222222222222,\"#7201a8\"],[0.3333333333333333,\"#9c179e\"],[0.4444444444444444,\"#bd3786\"],[0.5555555555555556,\"#d8576b\"],[0.6666666666666666,\"#ed7953\"],[0.7777777777777778,\"#fb9f3a\"],[0.8888888888888888,\"#fdca26\"],[1.0,\"#f0f921\"]]},\"colorway\":[\"#636efa\",\"#EF553B\",\"#00cc96\",\"#ab63fa\",\"#FFA15A\",\"#19d3f3\",\"#FF6692\",\"#B6E880\",\"#FF97FF\",\"#FECB52\"],\"font\":{\"color\":\"#2a3f5f\"},\"geo\":{\"bgcolor\":\"white\",\"lakecolor\":\"white\",\"landcolor\":\"#E5ECF6\",\"showlakes\":true,\"showland\":true,\"subunitcolor\":\"white\"},\"hoverlabel\":{\"align\":\"left\"},\"hovermode\":\"closest\",\"mapbox\":{\"style\":\"light\"},\"paper_bgcolor\":\"white\",\"plot_bgcolor\":\"#E5ECF6\",\"polar\":{\"angularaxis\":{\"gridcolor\":\"white\",\"linecolor\":\"white\",\"ticks\":\"\"},\"bgcolor\":\"#E5ECF6\",\"radialaxis\":{\"gridcolor\":\"white\",\"linecolor\":\"white\",\"ticks\":\"\"}},\"scene\":{\"xaxis\":{\"backgroundcolor\":\"#E5ECF6\",\"gridcolor\":\"white\",\"gridwidth\":2,\"linecolor\":\"white\",\"showbackground\":true,\"ticks\":\"\",\"zerolinecolor\":\"white\"},\"yaxis\":{\"backgroundcolor\":\"#E5ECF6\",\"gridcolor\":\"white\",\"gridwidth\":2,\"linecolor\":\"white\",\"showbackground\":true,\"ticks\":\"\",\"zerolinecolor\":\"white\"},\"zaxis\":{\"backgroundcolor\":\"#E5ECF6\",\"gridcolor\":\"white\",\"gridwidth\":2,\"linecolor\":\"white\",\"showbackground\":true,\"ticks\":\"\",\"zerolinecolor\":\"white\"}},\"shapedefaults\":{\"line\":{\"color\":\"#2a3f5f\"}},\"ternary\":{\"aaxis\":{\"gridcolor\":\"white\",\"linecolor\":\"white\",\"ticks\":\"\"},\"baxis\":{\"gridcolor\":\"white\",\"linecolor\":\"white\",\"ticks\":\"\"},\"bgcolor\":\"#E5ECF6\",\"caxis\":{\"gridcolor\":\"white\",\"linecolor\":\"white\",\"ticks\":\"\"}},\"title\":{\"x\":0.05},\"xaxis\":{\"automargin\":true,\"gridcolor\":\"white\",\"linecolor\":\"white\",\"ticks\":\"\",\"title\":{\"standoff\":15},\"zerolinecolor\":\"white\",\"zerolinewidth\":2},\"yaxis\":{\"automargin\":true,\"gridcolor\":\"white\",\"linecolor\":\"white\",\"ticks\":\"\",\"title\":{\"standoff\":15},\"zerolinecolor\":\"white\",\"zerolinewidth\":2}}},\"xaxis\":{\"anchor\":\"y\",\"domain\":[0.0,1.0],\"title\":{\"text\":\"GDP\"},\"type\":\"log\"},\"yaxis\":{\"anchor\":\"x\",\"domain\":[0.0,1.0],\"title\":{\"text\":\"% of alcohol drinkers\"}},\"legend\":{\"tracegroupgap\":0},\"margin\":{\"t\":60}},                        {\"responsive\": true}                    ).then(function(){\n",
       "                            \n",
       "var gd = document.getElementById('a57bec52-75d9-449c-96dc-354626be6b4f');\n",
       "var x = new MutationObserver(function (mutations, observer) {{\n",
       "        var display = window.getComputedStyle(gd).display;\n",
       "        if (!display || display === 'none') {{\n",
       "            console.log([gd, 'removed!']);\n",
       "            Plotly.purge(gd);\n",
       "            observer.disconnect();\n",
       "        }}\n",
       "}});\n",
       "\n",
       "// Listen for the removal of the full notebook cells\n",
       "var notebookContainer = gd.closest('#notebook-container');\n",
       "if (notebookContainer) {{\n",
       "    x.observe(notebookContainer, {childList: true});\n",
       "}}\n",
       "\n",
       "// Listen for the clearing of the current output cell\n",
       "var outputEl = gd.closest('.output');\n",
       "if (outputEl) {{\n",
       "    x.observe(outputEl, {childList: true});\n",
       "}}\n",
       "\n",
       "                        })                };                });            </script>        </div>"
      ]
     },
     "metadata": {},
     "output_type": "display_data"
    }
   ],
   "source": [
    "px.scatter(test[test.Sex == 'BTSX'], x='GDP', y= '% of alcohol drinkers', hover_name=\"Country\", log_x = True)"
   ]
  },
  {
   "cell_type": "code",
   "execution_count": 137,
   "metadata": {},
   "outputs": [
    {
     "data": {
      "application/vnd.plotly.v1+json": {
       "config": {
        "plotlyServerURL": "https://plot.ly"
       },
       "data": [
        {
         "hovertemplate": "<b>%{hovertext}</b><br><br>Zone=WPR<br>GDP=%{x}<br>% of alcohol drinkers=%{y}<extra></extra>",
         "hovertext": [
          "Marshall Islands",
          "Palau",
          "Solomon Islands",
          "Kiribati",
          "Nauru",
          "Vanuatu",
          "Papua New Guinea",
          "Tonga",
          "Tuvalu",
          "Micronesia (Federated States of)",
          "Samoa",
          "Fiji",
          "Malaysia",
          "Cambodia",
          "Philippines",
          "Mongolia",
          "Viet Nam",
          "Lao People's Democratic Republic",
          "Brunei Darussalam",
          "China",
          "Japan",
          "Republic of Korea",
          "Singapore",
          "New Zealand",
          "Australia"
         ],
         "legendgroup": "WPR",
         "marker": {
          "color": "#636efa",
          "symbol": "circle"
         },
         "mode": "markers",
         "name": "WPR",
         "orientation": "h",
         "showlegend": true,
         "type": "scatter",
         "x": [
          4029.08632919678,
          17572.6226006793,
          2482.87191978213,
          2291.90721878662,
          13527.411941066,
          2762.791388307,
          4101.21888209216,
          6378.1283460138,
          4411.00311573521,
          3466.41329281782,
          6295.73184093032,
          10997.4734903847,
          26435.1715707484,
          4191.85000307807,
          7953.58164428408,
          11470.6738325698,
          8200.33186703573,
          7805.79855611968,
          62243.5831517924,
          16410.7977967813,
          41380.0935773113,
          42251.4450571656,
          93397.048802202,
          42404.3937381567,
          48697.8370282475
         ],
         "xaxis": "x",
         "y": [
          ".",
          ".",
          "0.7",
          "12.1",
          "22",
          "13.6",
          "13.7",
          "14.2",
          "14.4",
          "15.2",
          "16",
          "17.7",
          "29.6",
          "30.9",
          "33.1",
          "33.6",
          "99.4",
          "40",
          "33.3",
          "55.9",
          "57",
          "63.9",
          "70",
          "74.6",
          "79.4"
         ],
         "yaxis": "y"
        },
        {
         "hovertemplate": "<b>%{hovertext}</b><br><br>Zone=EUR<br>GDP=%{x}<br>% of alcohol drinkers=%{y}<extra></extra>",
         "hovertext": [
          "San Marino",
          "Turkey",
          "Tajikistan",
          "Uzbekistan",
          "Azerbaijan",
          "Slovenia",
          "Kyrgyzstan",
          "Armenia",
          "Turkmenistan",
          "Georgia",
          "Kazakhstan",
          "Bosnia and Herzegovina",
          "Albania",
          "The former Yugoslav Republic of Macedonia",
          "Montenegro",
          "Israel",
          "Croatia",
          "Serbia",
          "Malta",
          "Greece",
          "Bulgaria",
          "Italy",
          "Hungary",
          "Republic of Moldova",
          "Russian Federation",
          "Romania",
          "Ukraine",
          "Poland",
          "Cyprus",
          "Spain",
          "Portugal",
          "Slovakia",
          "Iceland",
          "Netherlands",
          "Finland",
          "Sweden",
          "Estonia",
          "United Kingdom of Great Britain and Northern Ireland",
          "Denmark",
          "Czechia",
          "Latvia",
          "France",
          "Belgium",
          "Austria",
          "Belarus",
          "Norway",
          "Germany",
          "Lithuania",
          "Switzerland",
          "Ireland",
          "Luxembourg"
         ],
         "legendgroup": "EUR",
         "marker": {
          "color": "#EF553B",
          "symbol": "circle"
         },
         "mode": "markers",
         "name": "EUR",
         "orientation": "h",
         "showlegend": true,
         "type": "scatter",
         "x": [
          60847.1067610929,
          28384.9877846263,
          3657.57350716538,
          6994.16941167262,
          13699.665590318,
          36547.7389559849,
          4706.57023774883,
          12592.6353675009,
          15538.4199701316,
          14089.3023335327,
          25337.152399391,
          14339.8311811662,
          13295.4108845409,
          15848.4192939955,
          18278.730791552,
          38341.3075704083,
          26465.1273096002,
          18210.0046204616,
          39222.1433509207,
          27287.0834009302,
          22383.8055436428,
          38992.1483807498,
          31007.7684065437,
          12324.7362793838,
          26456.3879381321,
          28832.6231487683,
          12377.0172931178,
          32238.157259275,
          37655.1803457421,
          36215.4475907307,
          32181.1545372343,
          30330.0428870265,
          52279.7288513646,
          54209.5638357302,
          47260.800458441,
          50683.3235097178,
          35638.4213511812,
          41627.129269425,
          55938.2128086032,
          38319.3376633108,
          29932.4939100562,
          42025.6173730617,
          48210.0331113444,
          51935.6038618156,
          19148.1751007952,
          63585.9035142969,
          50922.3580234484,
          36732.034744031,
          68393.306003945,
          89688.9569584859,
          110261.157353302
         ],
         "xaxis": "x",
         "y": [
          ".",
          "6.9",
          "20.7",
          "20.8",
          "21.9",
          "13.5",
          "25.9",
          "26",
          "30.4",
          "35.1",
          "39.9",
          "47.9",
          "51",
          "53.7",
          "54",
          "55",
          "59.7",
          "60",
          "63",
          "65.4",
          "66",
          "67.8",
          "66.6",
          "66.6",
          "58.1",
          "67.2",
          "61.8",
          "68",
          "68.8",
          "68.6",
          "69.2",
          "71.3",
          "71.5",
          "72.1",
          "72.5",
          "73",
          "72.8",
          "73.4",
          "74.4",
          "75.4",
          "75",
          "75.3",
          "76.5",
          "78.1",
          "73.6",
          "79",
          "79.4",
          "79.1",
          "81.2",
          "81.3",
          "91.8"
         ],
         "yaxis": "y"
        },
        {
         "hovertemplate": "<b>%{hovertext}</b><br><br>Zone=EMR<br>GDP=%{x}<br>% of alcohol drinkers=%{y}<extra></extra>",
         "hovertext": [
          "Libya",
          "Kuwait",
          "Afghanistan",
          "Pakistan",
          "Iran (Islamic Republic of)",
          "Sudan",
          "Morocco",
          "Egypt",
          "Jordan",
          "Iraq",
          "Tunisia",
          "Oman",
          "Djibouti",
          "Bahrain",
          "United Arab Emirates",
          "Somalia",
          "Qatar",
          "Lebanon",
          "Saudi Arabia"
         ],
         "legendgroup": "EMR",
         "marker": {
          "color": "#00cc96",
          "symbol": "circle"
         },
         "mode": "markers",
         "name": "EMR",
         "orientation": "h",
         "showlegend": true,
         "type": "scatter",
         "x": [
          10282.2910804458,
          49853.7362805684,
          1978.96157872183,
          4622.77076938075,
          12433.2969754764,
          4022.86596657319,
          6916.34641150088,
          11951.4475270117,
          9816.55452971638,
          9255.25690289807,
          9727.50425926541,
          27294.5729762764,
          5481.11481697609,
          40933.3526644217,
          67119.153244137,
          829.611428860091,
          85266.2105859195,
          11649.0501121276,
          44328.1839111257
         ],
         "xaxis": "x",
         "y": [
          "0.1",
          "0.6",
          "0.7",
          "1.2",
          "3.5",
          "2.3",
          "2.6",
          "2.8",
          "3",
          "3.1",
          "5.2",
          "8.3",
          "19.7",
          "8.8",
          "18.5",
          "31",
          "45.6",
          "6.1",
          "5.8"
         ],
         "yaxis": "y"
        },
        {
         "hovertemplate": "<b>%{hovertext}</b><br><br>Zone=AFR<br>GDP=%{x}<br>% of alcohol drinkers=%{y}<extra></extra>",
         "hovertext": [
          "Mauritania",
          "Algeria",
          "Comoros",
          "Zimbabwe",
          "Niger",
          "Madagascar",
          "Mozambique",
          "Senegal",
          "Guinea",
          "Mali",
          "Chad",
          "Ethiopia",
          "Malawi",
          "Kenya",
          "Togo",
          "Benin",
          "Ghana",
          "Gambia",
          "Zambia",
          "Guinea-Bissau",
          "Eswatini",
          "Lesotho",
          "Liberia",
          "Namibia",
          "Sierra Leone",
          "Mauritius",
          "Botswana",
          "Burundi",
          "Cameroon",
          "Sao Tome and Principe",
          "Burkina Faso",
          "Rwanda",
          "Democratic Republic of the Congo",
          "Uganda",
          "United Republic of Tanzania",
          "Côte d’Ivoire",
          "Central African Republic",
          "Cabo Verde",
          "Angola",
          "Nigeria",
          "Congo",
          "Seychelles",
          "Gabon",
          "Equatorial Guinea"
         ],
         "legendgroup": "AFR",
         "marker": {
          "color": "#ab63fa",
          "symbol": "circle"
         },
         "mode": "markers",
         "name": "AFR",
         "orientation": "h",
         "showlegend": true,
         "type": "scatter",
         "x": [
          4983.2206333331,
          10681.6792969827,
          3140.69877162092,
          2744.69075807126,
          1196.87755957473,
          1510.14172617809,
          1229.08001865892,
          3300.0854932471,
          2670.82335507161,
          2216.77326231685,
          1519.91236158763,
          2296.82735215213,
          1486.77824843475,
          4220.44024846369,
          2107.87726149934,
          3323.14445067303,
          5304.98352460298,
          2159.44190927585,
          3270.03511228554,
          1847.46582390878,
          8392.71756391091,
          2279.89587402333,
          1353.84291976355,
          8893.81315720283,
          1648.05335993719,
          19469.5245883739,
          16040.0084730125,
          731.063229715588,
          3576.34949945049,
          4051.60484448469,
          2160.51152951619,
          2098.7103615481,
          1072.21011269575,
          2177.59585383955,
          2635.3358910827,
          5174.10055275463,
          928.589507504538,
          6045.06088485291,
          6198.08384070806,
          4916.72138086439,
          3449.1456948178,
          24361.8939424167,
          14399.8688094117,
          17007.6247800252
         ],
         "xaxis": "x",
         "y": [
          "0.9",
          "3.2",
          "4.1",
          "17.6",
          "20.2",
          "20.9",
          "21",
          "21.1",
          "21.6",
          "21.9",
          "22.4",
          "22.6",
          "23.7",
          "23.9",
          "25.7",
          "26.1",
          "26",
          "26.7",
          "27.3",
          "28.8",
          "28.8",
          "17.8",
          "30.8",
          "30.3",
          "30.9",
          "31.2",
          "32",
          "31.6",
          "33.8",
          "34",
          "36.9",
          "35",
          "36.4",
          "36.3",
          "36.4",
          "38.5",
          "37.6",
          "39.4",
          "47.7",
          "52.6",
          "51.7",
          "54.9",
          "66.5",
          "72.9"
         ],
         "yaxis": "y"
        },
        {
         "hovertemplate": "<b>%{hovertext}</b><br><br>Zone=SEAR<br>GDP=%{x}<br>% of alcohol drinkers=%{y}<extra></extra>",
         "hovertext": [
          "Bangladesh",
          "Maldives",
          "Timor-Leste",
          "Indonesia",
          "Myanmar",
          "Nepal",
          "Bhutan",
          "Sri Lanka",
          "India",
          "Thailand"
         ],
         "legendgroup": "SEAR",
         "marker": {
          "color": "#FFA15A",
          "symbol": "circle"
         },
         "mode": "markers",
         "name": "SEAR",
         "orientation": "h",
         "showlegend": true,
         "type": "scatter",
         "x": [
          4818.09473660531,
          13049.0466602078,
          3181.13718760249,
          11444.9606828103,
          4544.02156851419,
          3800.06570306646,
          10909.1001689407,
          12536.9417561704,
          6118.35733018965,
          17286.866606887
         ],
         "xaxis": "x",
         "y": [
          "2.2",
          "7.9",
          "21.6",
          "22.7",
          "27.1",
          "27.1",
          "29.6",
          "28.7",
          "38.8",
          "40.9"
         ],
         "yaxis": "y"
        },
        {
         "hovertemplate": "<b>%{hovertext}</b><br><br>Zone=AMR<br>GDP=%{x}<br>% of alcohol drinkers=%{y}<extra></extra>",
         "hovertext": [
          "Guatemala",
          "Honduras",
          "El Salvador",
          "Nicaragua",
          "Jamaica",
          "Haiti",
          "Paraguay",
          "Costa Rica",
          "Colombia",
          "Guyana",
          "Brazil",
          "Belize",
          "Suriname",
          "Mexico",
          "Dominican Republic",
          "Bahamas",
          "Dominica",
          "Bolivia (Plurinational State of)",
          "Saint Vincent and the Grenadines",
          "Ecuador",
          "Panama",
          "Grenada",
          "Saint Lucia",
          "Antigua and Barbuda",
          "Barbados",
          "Peru",
          "Saint Kitts and Nevis",
          "Trinidad and Tobago",
          "Canada",
          "Argentina",
          "Chile",
          "Uruguay",
          "United States of America"
         ],
         "legendgroup": "AMR",
         "marker": {
          "color": "#19d3f3",
          "symbol": "circle"
         },
         "mode": "markers",
         "name": "AMR",
         "orientation": "h",
         "showlegend": true,
         "type": "scatter",
         "x": [
          8393.28464317623,
          5138.38539820015,
          8056.54308612849,
          5280.14058082508,
          8741.55044328036,
          2773.08136431323,
          12335.4723571841,
          19679.2886412163,
          13441.4929522564,
          18679.9802308198,
          14063.9825053838,
          6119.88768686154,
          16130.1708064491,
          17887.7507356971,
          17003.0130205346,
          30764.1159665551,
          9891.29193953719,
          7931.75430931062,
          12105.3813615785,
          10329.1987527594,
          25381.8484472504,
          15065.8719536331,
          12270.0132882689,
          17956.315715683,
          12870.0425037649,
          11260.8457538125,
          23259.3623116037,
          23728.1586459056,
          45856.6256264804,
          19686.523658911,
          23324.5247506509,
          21608.4302710014,
          60235.7284916969
         ],
         "xaxis": "x",
         "y": [
          "27.3",
          "29.8",
          "29.4",
          "32.5",
          "34.9",
          "35.1",
          "36",
          "36.6",
          "38.3",
          "39.1",
          "40.3",
          "41.5",
          "42.2",
          "42.7",
          "43",
          "43.8",
          "45.2",
          "45.4",
          "46.6",
          "46.5",
          "47.7",
          "49.6",
          "49.7",
          "49.4",
          "50.5",
          "53.2",
          "54.8",
          "58.7",
          "64.5",
          "67.4",
          "67.6",
          "68.9",
          "71.7"
         ],
         "yaxis": "y"
        }
       ],
       "layout": {
        "legend": {
         "title": {
          "text": "Zone"
         },
         "tracegroupgap": 0
        },
        "margin": {
         "t": 60
        },
        "template": {
         "data": {
          "bar": [
           {
            "error_x": {
             "color": "#2a3f5f"
            },
            "error_y": {
             "color": "#2a3f5f"
            },
            "marker": {
             "line": {
              "color": "#E5ECF6",
              "width": 0.5
             },
             "pattern": {
              "fillmode": "overlay",
              "size": 10,
              "solidity": 0.2
             }
            },
            "type": "bar"
           }
          ],
          "barpolar": [
           {
            "marker": {
             "line": {
              "color": "#E5ECF6",
              "width": 0.5
             },
             "pattern": {
              "fillmode": "overlay",
              "size": 10,
              "solidity": 0.2
             }
            },
            "type": "barpolar"
           }
          ],
          "carpet": [
           {
            "aaxis": {
             "endlinecolor": "#2a3f5f",
             "gridcolor": "white",
             "linecolor": "white",
             "minorgridcolor": "white",
             "startlinecolor": "#2a3f5f"
            },
            "baxis": {
             "endlinecolor": "#2a3f5f",
             "gridcolor": "white",
             "linecolor": "white",
             "minorgridcolor": "white",
             "startlinecolor": "#2a3f5f"
            },
            "type": "carpet"
           }
          ],
          "choropleth": [
           {
            "colorbar": {
             "outlinewidth": 0,
             "ticks": ""
            },
            "type": "choropleth"
           }
          ],
          "contour": [
           {
            "colorbar": {
             "outlinewidth": 0,
             "ticks": ""
            },
            "colorscale": [
             [
              0,
              "#0d0887"
             ],
             [
              0.1111111111111111,
              "#46039f"
             ],
             [
              0.2222222222222222,
              "#7201a8"
             ],
             [
              0.3333333333333333,
              "#9c179e"
             ],
             [
              0.4444444444444444,
              "#bd3786"
             ],
             [
              0.5555555555555556,
              "#d8576b"
             ],
             [
              0.6666666666666666,
              "#ed7953"
             ],
             [
              0.7777777777777778,
              "#fb9f3a"
             ],
             [
              0.8888888888888888,
              "#fdca26"
             ],
             [
              1,
              "#f0f921"
             ]
            ],
            "type": "contour"
           }
          ],
          "contourcarpet": [
           {
            "colorbar": {
             "outlinewidth": 0,
             "ticks": ""
            },
            "type": "contourcarpet"
           }
          ],
          "heatmap": [
           {
            "colorbar": {
             "outlinewidth": 0,
             "ticks": ""
            },
            "colorscale": [
             [
              0,
              "#0d0887"
             ],
             [
              0.1111111111111111,
              "#46039f"
             ],
             [
              0.2222222222222222,
              "#7201a8"
             ],
             [
              0.3333333333333333,
              "#9c179e"
             ],
             [
              0.4444444444444444,
              "#bd3786"
             ],
             [
              0.5555555555555556,
              "#d8576b"
             ],
             [
              0.6666666666666666,
              "#ed7953"
             ],
             [
              0.7777777777777778,
              "#fb9f3a"
             ],
             [
              0.8888888888888888,
              "#fdca26"
             ],
             [
              1,
              "#f0f921"
             ]
            ],
            "type": "heatmap"
           }
          ],
          "heatmapgl": [
           {
            "colorbar": {
             "outlinewidth": 0,
             "ticks": ""
            },
            "colorscale": [
             [
              0,
              "#0d0887"
             ],
             [
              0.1111111111111111,
              "#46039f"
             ],
             [
              0.2222222222222222,
              "#7201a8"
             ],
             [
              0.3333333333333333,
              "#9c179e"
             ],
             [
              0.4444444444444444,
              "#bd3786"
             ],
             [
              0.5555555555555556,
              "#d8576b"
             ],
             [
              0.6666666666666666,
              "#ed7953"
             ],
             [
              0.7777777777777778,
              "#fb9f3a"
             ],
             [
              0.8888888888888888,
              "#fdca26"
             ],
             [
              1,
              "#f0f921"
             ]
            ],
            "type": "heatmapgl"
           }
          ],
          "histogram": [
           {
            "marker": {
             "pattern": {
              "fillmode": "overlay",
              "size": 10,
              "solidity": 0.2
             }
            },
            "type": "histogram"
           }
          ],
          "histogram2d": [
           {
            "colorbar": {
             "outlinewidth": 0,
             "ticks": ""
            },
            "colorscale": [
             [
              0,
              "#0d0887"
             ],
             [
              0.1111111111111111,
              "#46039f"
             ],
             [
              0.2222222222222222,
              "#7201a8"
             ],
             [
              0.3333333333333333,
              "#9c179e"
             ],
             [
              0.4444444444444444,
              "#bd3786"
             ],
             [
              0.5555555555555556,
              "#d8576b"
             ],
             [
              0.6666666666666666,
              "#ed7953"
             ],
             [
              0.7777777777777778,
              "#fb9f3a"
             ],
             [
              0.8888888888888888,
              "#fdca26"
             ],
             [
              1,
              "#f0f921"
             ]
            ],
            "type": "histogram2d"
           }
          ],
          "histogram2dcontour": [
           {
            "colorbar": {
             "outlinewidth": 0,
             "ticks": ""
            },
            "colorscale": [
             [
              0,
              "#0d0887"
             ],
             [
              0.1111111111111111,
              "#46039f"
             ],
             [
              0.2222222222222222,
              "#7201a8"
             ],
             [
              0.3333333333333333,
              "#9c179e"
             ],
             [
              0.4444444444444444,
              "#bd3786"
             ],
             [
              0.5555555555555556,
              "#d8576b"
             ],
             [
              0.6666666666666666,
              "#ed7953"
             ],
             [
              0.7777777777777778,
              "#fb9f3a"
             ],
             [
              0.8888888888888888,
              "#fdca26"
             ],
             [
              1,
              "#f0f921"
             ]
            ],
            "type": "histogram2dcontour"
           }
          ],
          "mesh3d": [
           {
            "colorbar": {
             "outlinewidth": 0,
             "ticks": ""
            },
            "type": "mesh3d"
           }
          ],
          "parcoords": [
           {
            "line": {
             "colorbar": {
              "outlinewidth": 0,
              "ticks": ""
             }
            },
            "type": "parcoords"
           }
          ],
          "pie": [
           {
            "automargin": true,
            "type": "pie"
           }
          ],
          "scatter": [
           {
            "marker": {
             "colorbar": {
              "outlinewidth": 0,
              "ticks": ""
             }
            },
            "type": "scatter"
           }
          ],
          "scatter3d": [
           {
            "line": {
             "colorbar": {
              "outlinewidth": 0,
              "ticks": ""
             }
            },
            "marker": {
             "colorbar": {
              "outlinewidth": 0,
              "ticks": ""
             }
            },
            "type": "scatter3d"
           }
          ],
          "scattercarpet": [
           {
            "marker": {
             "colorbar": {
              "outlinewidth": 0,
              "ticks": ""
             }
            },
            "type": "scattercarpet"
           }
          ],
          "scattergeo": [
           {
            "marker": {
             "colorbar": {
              "outlinewidth": 0,
              "ticks": ""
             }
            },
            "type": "scattergeo"
           }
          ],
          "scattergl": [
           {
            "marker": {
             "colorbar": {
              "outlinewidth": 0,
              "ticks": ""
             }
            },
            "type": "scattergl"
           }
          ],
          "scattermapbox": [
           {
            "marker": {
             "colorbar": {
              "outlinewidth": 0,
              "ticks": ""
             }
            },
            "type": "scattermapbox"
           }
          ],
          "scatterpolar": [
           {
            "marker": {
             "colorbar": {
              "outlinewidth": 0,
              "ticks": ""
             }
            },
            "type": "scatterpolar"
           }
          ],
          "scatterpolargl": [
           {
            "marker": {
             "colorbar": {
              "outlinewidth": 0,
              "ticks": ""
             }
            },
            "type": "scatterpolargl"
           }
          ],
          "scatterternary": [
           {
            "marker": {
             "colorbar": {
              "outlinewidth": 0,
              "ticks": ""
             }
            },
            "type": "scatterternary"
           }
          ],
          "surface": [
           {
            "colorbar": {
             "outlinewidth": 0,
             "ticks": ""
            },
            "colorscale": [
             [
              0,
              "#0d0887"
             ],
             [
              0.1111111111111111,
              "#46039f"
             ],
             [
              0.2222222222222222,
              "#7201a8"
             ],
             [
              0.3333333333333333,
              "#9c179e"
             ],
             [
              0.4444444444444444,
              "#bd3786"
             ],
             [
              0.5555555555555556,
              "#d8576b"
             ],
             [
              0.6666666666666666,
              "#ed7953"
             ],
             [
              0.7777777777777778,
              "#fb9f3a"
             ],
             [
              0.8888888888888888,
              "#fdca26"
             ],
             [
              1,
              "#f0f921"
             ]
            ],
            "type": "surface"
           }
          ],
          "table": [
           {
            "cells": {
             "fill": {
              "color": "#EBF0F8"
             },
             "line": {
              "color": "white"
             }
            },
            "header": {
             "fill": {
              "color": "#C8D4E3"
             },
             "line": {
              "color": "white"
             }
            },
            "type": "table"
           }
          ]
         },
         "layout": {
          "annotationdefaults": {
           "arrowcolor": "#2a3f5f",
           "arrowhead": 0,
           "arrowwidth": 1
          },
          "autotypenumbers": "strict",
          "coloraxis": {
           "colorbar": {
            "outlinewidth": 0,
            "ticks": ""
           }
          },
          "colorscale": {
           "diverging": [
            [
             0,
             "#8e0152"
            ],
            [
             0.1,
             "#c51b7d"
            ],
            [
             0.2,
             "#de77ae"
            ],
            [
             0.3,
             "#f1b6da"
            ],
            [
             0.4,
             "#fde0ef"
            ],
            [
             0.5,
             "#f7f7f7"
            ],
            [
             0.6,
             "#e6f5d0"
            ],
            [
             0.7,
             "#b8e186"
            ],
            [
             0.8,
             "#7fbc41"
            ],
            [
             0.9,
             "#4d9221"
            ],
            [
             1,
             "#276419"
            ]
           ],
           "sequential": [
            [
             0,
             "#0d0887"
            ],
            [
             0.1111111111111111,
             "#46039f"
            ],
            [
             0.2222222222222222,
             "#7201a8"
            ],
            [
             0.3333333333333333,
             "#9c179e"
            ],
            [
             0.4444444444444444,
             "#bd3786"
            ],
            [
             0.5555555555555556,
             "#d8576b"
            ],
            [
             0.6666666666666666,
             "#ed7953"
            ],
            [
             0.7777777777777778,
             "#fb9f3a"
            ],
            [
             0.8888888888888888,
             "#fdca26"
            ],
            [
             1,
             "#f0f921"
            ]
           ],
           "sequentialminus": [
            [
             0,
             "#0d0887"
            ],
            [
             0.1111111111111111,
             "#46039f"
            ],
            [
             0.2222222222222222,
             "#7201a8"
            ],
            [
             0.3333333333333333,
             "#9c179e"
            ],
            [
             0.4444444444444444,
             "#bd3786"
            ],
            [
             0.5555555555555556,
             "#d8576b"
            ],
            [
             0.6666666666666666,
             "#ed7953"
            ],
            [
             0.7777777777777778,
             "#fb9f3a"
            ],
            [
             0.8888888888888888,
             "#fdca26"
            ],
            [
             1,
             "#f0f921"
            ]
           ]
          },
          "colorway": [
           "#636efa",
           "#EF553B",
           "#00cc96",
           "#ab63fa",
           "#FFA15A",
           "#19d3f3",
           "#FF6692",
           "#B6E880",
           "#FF97FF",
           "#FECB52"
          ],
          "font": {
           "color": "#2a3f5f"
          },
          "geo": {
           "bgcolor": "white",
           "lakecolor": "white",
           "landcolor": "#E5ECF6",
           "showlakes": true,
           "showland": true,
           "subunitcolor": "white"
          },
          "hoverlabel": {
           "align": "left"
          },
          "hovermode": "closest",
          "mapbox": {
           "style": "light"
          },
          "paper_bgcolor": "white",
          "plot_bgcolor": "#E5ECF6",
          "polar": {
           "angularaxis": {
            "gridcolor": "white",
            "linecolor": "white",
            "ticks": ""
           },
           "bgcolor": "#E5ECF6",
           "radialaxis": {
            "gridcolor": "white",
            "linecolor": "white",
            "ticks": ""
           }
          },
          "scene": {
           "xaxis": {
            "backgroundcolor": "#E5ECF6",
            "gridcolor": "white",
            "gridwidth": 2,
            "linecolor": "white",
            "showbackground": true,
            "ticks": "",
            "zerolinecolor": "white"
           },
           "yaxis": {
            "backgroundcolor": "#E5ECF6",
            "gridcolor": "white",
            "gridwidth": 2,
            "linecolor": "white",
            "showbackground": true,
            "ticks": "",
            "zerolinecolor": "white"
           },
           "zaxis": {
            "backgroundcolor": "#E5ECF6",
            "gridcolor": "white",
            "gridwidth": 2,
            "linecolor": "white",
            "showbackground": true,
            "ticks": "",
            "zerolinecolor": "white"
           }
          },
          "shapedefaults": {
           "line": {
            "color": "#2a3f5f"
           }
          },
          "ternary": {
           "aaxis": {
            "gridcolor": "white",
            "linecolor": "white",
            "ticks": ""
           },
           "baxis": {
            "gridcolor": "white",
            "linecolor": "white",
            "ticks": ""
           },
           "bgcolor": "#E5ECF6",
           "caxis": {
            "gridcolor": "white",
            "linecolor": "white",
            "ticks": ""
           }
          },
          "title": {
           "x": 0.05
          },
          "xaxis": {
           "automargin": true,
           "gridcolor": "white",
           "linecolor": "white",
           "ticks": "",
           "title": {
            "standoff": 15
           },
           "zerolinecolor": "white",
           "zerolinewidth": 2
          },
          "yaxis": {
           "automargin": true,
           "gridcolor": "white",
           "linecolor": "white",
           "ticks": "",
           "title": {
            "standoff": 15
           },
           "zerolinecolor": "white",
           "zerolinewidth": 2
          }
         }
        },
        "xaxis": {
         "anchor": "y",
         "domain": [
          0,
          1
         ],
         "title": {
          "text": "GDP"
         },
         "type": "log"
        },
        "yaxis": {
         "anchor": "x",
         "domain": [
          0,
          1
         ],
         "title": {
          "text": "% of alcohol drinkers"
         }
        }
       }
      },
      "text/html": [
       "<div>                            <div id=\"1831b3bb-cee1-4b46-8120-bbd4409ff8cf\" class=\"plotly-graph-div\" style=\"height:525px; width:100%;\"></div>            <script type=\"text/javascript\">                require([\"plotly\"], function(Plotly) {                    window.PLOTLYENV=window.PLOTLYENV || {};                                    if (document.getElementById(\"1831b3bb-cee1-4b46-8120-bbd4409ff8cf\")) {                    Plotly.newPlot(                        \"1831b3bb-cee1-4b46-8120-bbd4409ff8cf\",                        [{\"hovertemplate\":\"<b>%{hovertext}</b><br><br>Zone=WPR<br>GDP=%{x}<br>% of alcohol drinkers=%{y}<extra></extra>\",\"hovertext\":[\"Marshall Islands\",\"Palau\",\"Solomon Islands\",\"Kiribati\",\"Nauru\",\"Vanuatu\",\"Papua New Guinea\",\"Tonga\",\"Tuvalu\",\"Micronesia (Federated States of)\",\"Samoa\",\"Fiji\",\"Malaysia\",\"Cambodia\",\"Philippines\",\"Mongolia\",\"Viet Nam\",\"Lao People's Democratic Republic\",\"Brunei Darussalam\",\"China\",\"Japan\",\"Republic of Korea\",\"Singapore\",\"New Zealand\",\"Australia\"],\"legendgroup\":\"WPR\",\"marker\":{\"color\":\"#636efa\",\"symbol\":\"circle\"},\"mode\":\"markers\",\"name\":\"WPR\",\"orientation\":\"h\",\"showlegend\":true,\"x\":[4029.08632919678,17572.6226006793,2482.87191978213,2291.90721878662,13527.411941066,2762.791388307,4101.21888209216,6378.1283460138,4411.00311573521,3466.41329281782,6295.73184093032,10997.4734903847,26435.1715707484,4191.85000307807,7953.58164428408,11470.6738325698,8200.33186703573,7805.79855611968,62243.5831517924,16410.7977967813,41380.0935773113,42251.4450571656,93397.048802202,42404.3937381567,48697.8370282475],\"xaxis\":\"x\",\"y\":[\".\",\".\",\"0.7\",\"12.1\",\"22\",\"13.6\",\"13.7\",\"14.2\",\"14.4\",\"15.2\",\"16\",\"17.7\",\"29.6\",\"30.9\",\"33.1\",\"33.6\",\"99.4\",\"40\",\"33.3\",\"55.9\",\"57\",\"63.9\",\"70\",\"74.6\",\"79.4\"],\"yaxis\":\"y\",\"type\":\"scatter\"},{\"hovertemplate\":\"<b>%{hovertext}</b><br><br>Zone=EUR<br>GDP=%{x}<br>% of alcohol drinkers=%{y}<extra></extra>\",\"hovertext\":[\"San Marino\",\"Turkey\",\"Tajikistan\",\"Uzbekistan\",\"Azerbaijan\",\"Slovenia\",\"Kyrgyzstan\",\"Armenia\",\"Turkmenistan\",\"Georgia\",\"Kazakhstan\",\"Bosnia and Herzegovina\",\"Albania\",\"The former Yugoslav Republic of Macedonia\",\"Montenegro\",\"Israel\",\"Croatia\",\"Serbia\",\"Malta\",\"Greece\",\"Bulgaria\",\"Italy\",\"Hungary\",\"Republic of Moldova\",\"Russian Federation\",\"Romania\",\"Ukraine\",\"Poland\",\"Cyprus\",\"Spain\",\"Portugal\",\"Slovakia\",\"Iceland\",\"Netherlands\",\"Finland\",\"Sweden\",\"Estonia\",\"United Kingdom of Great Britain and Northern Ireland\",\"Denmark\",\"Czechia\",\"Latvia\",\"France\",\"Belgium\",\"Austria\",\"Belarus\",\"Norway\",\"Germany\",\"Lithuania\",\"Switzerland\",\"Ireland\",\"Luxembourg\"],\"legendgroup\":\"EUR\",\"marker\":{\"color\":\"#EF553B\",\"symbol\":\"circle\"},\"mode\":\"markers\",\"name\":\"EUR\",\"orientation\":\"h\",\"showlegend\":true,\"x\":[60847.1067610929,28384.9877846263,3657.57350716538,6994.16941167262,13699.665590318,36547.7389559849,4706.57023774883,12592.6353675009,15538.4199701316,14089.3023335327,25337.152399391,14339.8311811662,13295.4108845409,15848.4192939955,18278.730791552,38341.3075704083,26465.1273096002,18210.0046204616,39222.1433509207,27287.0834009302,22383.8055436428,38992.1483807498,31007.7684065437,12324.7362793838,26456.3879381321,28832.6231487683,12377.0172931178,32238.157259275,37655.1803457421,36215.4475907307,32181.1545372343,30330.0428870265,52279.7288513646,54209.5638357302,47260.800458441,50683.3235097178,35638.4213511812,41627.129269425,55938.2128086032,38319.3376633108,29932.4939100562,42025.6173730617,48210.0331113444,51935.6038618156,19148.1751007952,63585.9035142969,50922.3580234484,36732.034744031,68393.306003945,89688.9569584859,110261.157353302],\"xaxis\":\"x\",\"y\":[\".\",\"6.9\",\"20.7\",\"20.8\",\"21.9\",\"13.5\",\"25.9\",\"26\",\"30.4\",\"35.1\",\"39.9\",\"47.9\",\"51\",\"53.7\",\"54\",\"55\",\"59.7\",\"60\",\"63\",\"65.4\",\"66\",\"67.8\",\"66.6\",\"66.6\",\"58.1\",\"67.2\",\"61.8\",\"68\",\"68.8\",\"68.6\",\"69.2\",\"71.3\",\"71.5\",\"72.1\",\"72.5\",\"73\",\"72.8\",\"73.4\",\"74.4\",\"75.4\",\"75\",\"75.3\",\"76.5\",\"78.1\",\"73.6\",\"79\",\"79.4\",\"79.1\",\"81.2\",\"81.3\",\"91.8\"],\"yaxis\":\"y\",\"type\":\"scatter\"},{\"hovertemplate\":\"<b>%{hovertext}</b><br><br>Zone=EMR<br>GDP=%{x}<br>% of alcohol drinkers=%{y}<extra></extra>\",\"hovertext\":[\"Libya\",\"Kuwait\",\"Afghanistan\",\"Pakistan\",\"Iran (Islamic Republic of)\",\"Sudan\",\"Morocco\",\"Egypt\",\"Jordan\",\"Iraq\",\"Tunisia\",\"Oman\",\"Djibouti\",\"Bahrain\",\"United Arab Emirates\",\"Somalia\",\"Qatar\",\"Lebanon\",\"Saudi Arabia\"],\"legendgroup\":\"EMR\",\"marker\":{\"color\":\"#00cc96\",\"symbol\":\"circle\"},\"mode\":\"markers\",\"name\":\"EMR\",\"orientation\":\"h\",\"showlegend\":true,\"x\":[10282.2910804458,49853.7362805684,1978.96157872183,4622.77076938075,12433.2969754764,4022.86596657319,6916.34641150088,11951.4475270117,9816.55452971638,9255.25690289807,9727.50425926541,27294.5729762764,5481.11481697609,40933.3526644217,67119.153244137,829.611428860091,85266.2105859195,11649.0501121276,44328.1839111257],\"xaxis\":\"x\",\"y\":[\"0.1\",\"0.6\",\"0.7\",\"1.2\",\"3.5\",\"2.3\",\"2.6\",\"2.8\",\"3\",\"3.1\",\"5.2\",\"8.3\",\"19.7\",\"8.8\",\"18.5\",\"31\",\"45.6\",\"6.1\",\"5.8\"],\"yaxis\":\"y\",\"type\":\"scatter\"},{\"hovertemplate\":\"<b>%{hovertext}</b><br><br>Zone=AFR<br>GDP=%{x}<br>% of alcohol drinkers=%{y}<extra></extra>\",\"hovertext\":[\"Mauritania\",\"Algeria\",\"Comoros\",\"Zimbabwe\",\"Niger\",\"Madagascar\",\"Mozambique\",\"Senegal\",\"Guinea\",\"Mali\",\"Chad\",\"Ethiopia\",\"Malawi\",\"Kenya\",\"Togo\",\"Benin\",\"Ghana\",\"Gambia\",\"Zambia\",\"Guinea-Bissau\",\"Eswatini\",\"Lesotho\",\"Liberia\",\"Namibia\",\"Sierra Leone\",\"Mauritius\",\"Botswana\",\"Burundi\",\"Cameroon\",\"Sao Tome and Principe\",\"Burkina Faso\",\"Rwanda\",\"Democratic Republic of the Congo\",\"Uganda\",\"United Republic of Tanzania\",\"C\\u00f4te d\\u2019Ivoire\",\"Central African Republic\",\"Cabo Verde\",\"Angola\",\"Nigeria\",\"Congo\",\"Seychelles\",\"Gabon\",\"Equatorial Guinea\"],\"legendgroup\":\"AFR\",\"marker\":{\"color\":\"#ab63fa\",\"symbol\":\"circle\"},\"mode\":\"markers\",\"name\":\"AFR\",\"orientation\":\"h\",\"showlegend\":true,\"x\":[4983.2206333331,10681.6792969827,3140.69877162092,2744.69075807126,1196.87755957473,1510.14172617809,1229.08001865892,3300.0854932471,2670.82335507161,2216.77326231685,1519.91236158763,2296.82735215213,1486.77824843475,4220.44024846369,2107.87726149934,3323.14445067303,5304.98352460298,2159.44190927585,3270.03511228554,1847.46582390878,8392.71756391091,2279.89587402333,1353.84291976355,8893.81315720283,1648.05335993719,19469.5245883739,16040.0084730125,731.063229715588,3576.34949945049,4051.60484448469,2160.51152951619,2098.7103615481,1072.21011269575,2177.59585383955,2635.3358910827,5174.10055275463,928.589507504538,6045.06088485291,6198.08384070806,4916.72138086439,3449.1456948178,24361.8939424167,14399.8688094117,17007.6247800252],\"xaxis\":\"x\",\"y\":[\"0.9\",\"3.2\",\"4.1\",\"17.6\",\"20.2\",\"20.9\",\"21\",\"21.1\",\"21.6\",\"21.9\",\"22.4\",\"22.6\",\"23.7\",\"23.9\",\"25.7\",\"26.1\",\"26\",\"26.7\",\"27.3\",\"28.8\",\"28.8\",\"17.8\",\"30.8\",\"30.3\",\"30.9\",\"31.2\",\"32\",\"31.6\",\"33.8\",\"34\",\"36.9\",\"35\",\"36.4\",\"36.3\",\"36.4\",\"38.5\",\"37.6\",\"39.4\",\"47.7\",\"52.6\",\"51.7\",\"54.9\",\"66.5\",\"72.9\"],\"yaxis\":\"y\",\"type\":\"scatter\"},{\"hovertemplate\":\"<b>%{hovertext}</b><br><br>Zone=SEAR<br>GDP=%{x}<br>% of alcohol drinkers=%{y}<extra></extra>\",\"hovertext\":[\"Bangladesh\",\"Maldives\",\"Timor-Leste\",\"Indonesia\",\"Myanmar\",\"Nepal\",\"Bhutan\",\"Sri Lanka\",\"India\",\"Thailand\"],\"legendgroup\":\"SEAR\",\"marker\":{\"color\":\"#FFA15A\",\"symbol\":\"circle\"},\"mode\":\"markers\",\"name\":\"SEAR\",\"orientation\":\"h\",\"showlegend\":true,\"x\":[4818.09473660531,13049.0466602078,3181.13718760249,11444.9606828103,4544.02156851419,3800.06570306646,10909.1001689407,12536.9417561704,6118.35733018965,17286.866606887],\"xaxis\":\"x\",\"y\":[\"2.2\",\"7.9\",\"21.6\",\"22.7\",\"27.1\",\"27.1\",\"29.6\",\"28.7\",\"38.8\",\"40.9\"],\"yaxis\":\"y\",\"type\":\"scatter\"},{\"hovertemplate\":\"<b>%{hovertext}</b><br><br>Zone=AMR<br>GDP=%{x}<br>% of alcohol drinkers=%{y}<extra></extra>\",\"hovertext\":[\"Guatemala\",\"Honduras\",\"El Salvador\",\"Nicaragua\",\"Jamaica\",\"Haiti\",\"Paraguay\",\"Costa Rica\",\"Colombia\",\"Guyana\",\"Brazil\",\"Belize\",\"Suriname\",\"Mexico\",\"Dominican Republic\",\"Bahamas\",\"Dominica\",\"Bolivia (Plurinational State of)\",\"Saint Vincent and the Grenadines\",\"Ecuador\",\"Panama\",\"Grenada\",\"Saint Lucia\",\"Antigua and Barbuda\",\"Barbados\",\"Peru\",\"Saint Kitts and Nevis\",\"Trinidad and Tobago\",\"Canada\",\"Argentina\",\"Chile\",\"Uruguay\",\"United States of America\"],\"legendgroup\":\"AMR\",\"marker\":{\"color\":\"#19d3f3\",\"symbol\":\"circle\"},\"mode\":\"markers\",\"name\":\"AMR\",\"orientation\":\"h\",\"showlegend\":true,\"x\":[8393.28464317623,5138.38539820015,8056.54308612849,5280.14058082508,8741.55044328036,2773.08136431323,12335.4723571841,19679.2886412163,13441.4929522564,18679.9802308198,14063.9825053838,6119.88768686154,16130.1708064491,17887.7507356971,17003.0130205346,30764.1159665551,9891.29193953719,7931.75430931062,12105.3813615785,10329.1987527594,25381.8484472504,15065.8719536331,12270.0132882689,17956.315715683,12870.0425037649,11260.8457538125,23259.3623116037,23728.1586459056,45856.6256264804,19686.523658911,23324.5247506509,21608.4302710014,60235.7284916969],\"xaxis\":\"x\",\"y\":[\"27.3\",\"29.8\",\"29.4\",\"32.5\",\"34.9\",\"35.1\",\"36\",\"36.6\",\"38.3\",\"39.1\",\"40.3\",\"41.5\",\"42.2\",\"42.7\",\"43\",\"43.8\",\"45.2\",\"45.4\",\"46.6\",\"46.5\",\"47.7\",\"49.6\",\"49.7\",\"49.4\",\"50.5\",\"53.2\",\"54.8\",\"58.7\",\"64.5\",\"67.4\",\"67.6\",\"68.9\",\"71.7\"],\"yaxis\":\"y\",\"type\":\"scatter\"}],                        {\"template\":{\"data\":{\"bar\":[{\"error_x\":{\"color\":\"#2a3f5f\"},\"error_y\":{\"color\":\"#2a3f5f\"},\"marker\":{\"line\":{\"color\":\"#E5ECF6\",\"width\":0.5},\"pattern\":{\"fillmode\":\"overlay\",\"size\":10,\"solidity\":0.2}},\"type\":\"bar\"}],\"barpolar\":[{\"marker\":{\"line\":{\"color\":\"#E5ECF6\",\"width\":0.5},\"pattern\":{\"fillmode\":\"overlay\",\"size\":10,\"solidity\":0.2}},\"type\":\"barpolar\"}],\"carpet\":[{\"aaxis\":{\"endlinecolor\":\"#2a3f5f\",\"gridcolor\":\"white\",\"linecolor\":\"white\",\"minorgridcolor\":\"white\",\"startlinecolor\":\"#2a3f5f\"},\"baxis\":{\"endlinecolor\":\"#2a3f5f\",\"gridcolor\":\"white\",\"linecolor\":\"white\",\"minorgridcolor\":\"white\",\"startlinecolor\":\"#2a3f5f\"},\"type\":\"carpet\"}],\"choropleth\":[{\"colorbar\":{\"outlinewidth\":0,\"ticks\":\"\"},\"type\":\"choropleth\"}],\"contour\":[{\"colorbar\":{\"outlinewidth\":0,\"ticks\":\"\"},\"colorscale\":[[0.0,\"#0d0887\"],[0.1111111111111111,\"#46039f\"],[0.2222222222222222,\"#7201a8\"],[0.3333333333333333,\"#9c179e\"],[0.4444444444444444,\"#bd3786\"],[0.5555555555555556,\"#d8576b\"],[0.6666666666666666,\"#ed7953\"],[0.7777777777777778,\"#fb9f3a\"],[0.8888888888888888,\"#fdca26\"],[1.0,\"#f0f921\"]],\"type\":\"contour\"}],\"contourcarpet\":[{\"colorbar\":{\"outlinewidth\":0,\"ticks\":\"\"},\"type\":\"contourcarpet\"}],\"heatmap\":[{\"colorbar\":{\"outlinewidth\":0,\"ticks\":\"\"},\"colorscale\":[[0.0,\"#0d0887\"],[0.1111111111111111,\"#46039f\"],[0.2222222222222222,\"#7201a8\"],[0.3333333333333333,\"#9c179e\"],[0.4444444444444444,\"#bd3786\"],[0.5555555555555556,\"#d8576b\"],[0.6666666666666666,\"#ed7953\"],[0.7777777777777778,\"#fb9f3a\"],[0.8888888888888888,\"#fdca26\"],[1.0,\"#f0f921\"]],\"type\":\"heatmap\"}],\"heatmapgl\":[{\"colorbar\":{\"outlinewidth\":0,\"ticks\":\"\"},\"colorscale\":[[0.0,\"#0d0887\"],[0.1111111111111111,\"#46039f\"],[0.2222222222222222,\"#7201a8\"],[0.3333333333333333,\"#9c179e\"],[0.4444444444444444,\"#bd3786\"],[0.5555555555555556,\"#d8576b\"],[0.6666666666666666,\"#ed7953\"],[0.7777777777777778,\"#fb9f3a\"],[0.8888888888888888,\"#fdca26\"],[1.0,\"#f0f921\"]],\"type\":\"heatmapgl\"}],\"histogram\":[{\"marker\":{\"pattern\":{\"fillmode\":\"overlay\",\"size\":10,\"solidity\":0.2}},\"type\":\"histogram\"}],\"histogram2d\":[{\"colorbar\":{\"outlinewidth\":0,\"ticks\":\"\"},\"colorscale\":[[0.0,\"#0d0887\"],[0.1111111111111111,\"#46039f\"],[0.2222222222222222,\"#7201a8\"],[0.3333333333333333,\"#9c179e\"],[0.4444444444444444,\"#bd3786\"],[0.5555555555555556,\"#d8576b\"],[0.6666666666666666,\"#ed7953\"],[0.7777777777777778,\"#fb9f3a\"],[0.8888888888888888,\"#fdca26\"],[1.0,\"#f0f921\"]],\"type\":\"histogram2d\"}],\"histogram2dcontour\":[{\"colorbar\":{\"outlinewidth\":0,\"ticks\":\"\"},\"colorscale\":[[0.0,\"#0d0887\"],[0.1111111111111111,\"#46039f\"],[0.2222222222222222,\"#7201a8\"],[0.3333333333333333,\"#9c179e\"],[0.4444444444444444,\"#bd3786\"],[0.5555555555555556,\"#d8576b\"],[0.6666666666666666,\"#ed7953\"],[0.7777777777777778,\"#fb9f3a\"],[0.8888888888888888,\"#fdca26\"],[1.0,\"#f0f921\"]],\"type\":\"histogram2dcontour\"}],\"mesh3d\":[{\"colorbar\":{\"outlinewidth\":0,\"ticks\":\"\"},\"type\":\"mesh3d\"}],\"parcoords\":[{\"line\":{\"colorbar\":{\"outlinewidth\":0,\"ticks\":\"\"}},\"type\":\"parcoords\"}],\"pie\":[{\"automargin\":true,\"type\":\"pie\"}],\"scatter\":[{\"marker\":{\"colorbar\":{\"outlinewidth\":0,\"ticks\":\"\"}},\"type\":\"scatter\"}],\"scatter3d\":[{\"line\":{\"colorbar\":{\"outlinewidth\":0,\"ticks\":\"\"}},\"marker\":{\"colorbar\":{\"outlinewidth\":0,\"ticks\":\"\"}},\"type\":\"scatter3d\"}],\"scattercarpet\":[{\"marker\":{\"colorbar\":{\"outlinewidth\":0,\"ticks\":\"\"}},\"type\":\"scattercarpet\"}],\"scattergeo\":[{\"marker\":{\"colorbar\":{\"outlinewidth\":0,\"ticks\":\"\"}},\"type\":\"scattergeo\"}],\"scattergl\":[{\"marker\":{\"colorbar\":{\"outlinewidth\":0,\"ticks\":\"\"}},\"type\":\"scattergl\"}],\"scattermapbox\":[{\"marker\":{\"colorbar\":{\"outlinewidth\":0,\"ticks\":\"\"}},\"type\":\"scattermapbox\"}],\"scatterpolar\":[{\"marker\":{\"colorbar\":{\"outlinewidth\":0,\"ticks\":\"\"}},\"type\":\"scatterpolar\"}],\"scatterpolargl\":[{\"marker\":{\"colorbar\":{\"outlinewidth\":0,\"ticks\":\"\"}},\"type\":\"scatterpolargl\"}],\"scatterternary\":[{\"marker\":{\"colorbar\":{\"outlinewidth\":0,\"ticks\":\"\"}},\"type\":\"scatterternary\"}],\"surface\":[{\"colorbar\":{\"outlinewidth\":0,\"ticks\":\"\"},\"colorscale\":[[0.0,\"#0d0887\"],[0.1111111111111111,\"#46039f\"],[0.2222222222222222,\"#7201a8\"],[0.3333333333333333,\"#9c179e\"],[0.4444444444444444,\"#bd3786\"],[0.5555555555555556,\"#d8576b\"],[0.6666666666666666,\"#ed7953\"],[0.7777777777777778,\"#fb9f3a\"],[0.8888888888888888,\"#fdca26\"],[1.0,\"#f0f921\"]],\"type\":\"surface\"}],\"table\":[{\"cells\":{\"fill\":{\"color\":\"#EBF0F8\"},\"line\":{\"color\":\"white\"}},\"header\":{\"fill\":{\"color\":\"#C8D4E3\"},\"line\":{\"color\":\"white\"}},\"type\":\"table\"}]},\"layout\":{\"annotationdefaults\":{\"arrowcolor\":\"#2a3f5f\",\"arrowhead\":0,\"arrowwidth\":1},\"autotypenumbers\":\"strict\",\"coloraxis\":{\"colorbar\":{\"outlinewidth\":0,\"ticks\":\"\"}},\"colorscale\":{\"diverging\":[[0,\"#8e0152\"],[0.1,\"#c51b7d\"],[0.2,\"#de77ae\"],[0.3,\"#f1b6da\"],[0.4,\"#fde0ef\"],[0.5,\"#f7f7f7\"],[0.6,\"#e6f5d0\"],[0.7,\"#b8e186\"],[0.8,\"#7fbc41\"],[0.9,\"#4d9221\"],[1,\"#276419\"]],\"sequential\":[[0.0,\"#0d0887\"],[0.1111111111111111,\"#46039f\"],[0.2222222222222222,\"#7201a8\"],[0.3333333333333333,\"#9c179e\"],[0.4444444444444444,\"#bd3786\"],[0.5555555555555556,\"#d8576b\"],[0.6666666666666666,\"#ed7953\"],[0.7777777777777778,\"#fb9f3a\"],[0.8888888888888888,\"#fdca26\"],[1.0,\"#f0f921\"]],\"sequentialminus\":[[0.0,\"#0d0887\"],[0.1111111111111111,\"#46039f\"],[0.2222222222222222,\"#7201a8\"],[0.3333333333333333,\"#9c179e\"],[0.4444444444444444,\"#bd3786\"],[0.5555555555555556,\"#d8576b\"],[0.6666666666666666,\"#ed7953\"],[0.7777777777777778,\"#fb9f3a\"],[0.8888888888888888,\"#fdca26\"],[1.0,\"#f0f921\"]]},\"colorway\":[\"#636efa\",\"#EF553B\",\"#00cc96\",\"#ab63fa\",\"#FFA15A\",\"#19d3f3\",\"#FF6692\",\"#B6E880\",\"#FF97FF\",\"#FECB52\"],\"font\":{\"color\":\"#2a3f5f\"},\"geo\":{\"bgcolor\":\"white\",\"lakecolor\":\"white\",\"landcolor\":\"#E5ECF6\",\"showlakes\":true,\"showland\":true,\"subunitcolor\":\"white\"},\"hoverlabel\":{\"align\":\"left\"},\"hovermode\":\"closest\",\"mapbox\":{\"style\":\"light\"},\"paper_bgcolor\":\"white\",\"plot_bgcolor\":\"#E5ECF6\",\"polar\":{\"angularaxis\":{\"gridcolor\":\"white\",\"linecolor\":\"white\",\"ticks\":\"\"},\"bgcolor\":\"#E5ECF6\",\"radialaxis\":{\"gridcolor\":\"white\",\"linecolor\":\"white\",\"ticks\":\"\"}},\"scene\":{\"xaxis\":{\"backgroundcolor\":\"#E5ECF6\",\"gridcolor\":\"white\",\"gridwidth\":2,\"linecolor\":\"white\",\"showbackground\":true,\"ticks\":\"\",\"zerolinecolor\":\"white\"},\"yaxis\":{\"backgroundcolor\":\"#E5ECF6\",\"gridcolor\":\"white\",\"gridwidth\":2,\"linecolor\":\"white\",\"showbackground\":true,\"ticks\":\"\",\"zerolinecolor\":\"white\"},\"zaxis\":{\"backgroundcolor\":\"#E5ECF6\",\"gridcolor\":\"white\",\"gridwidth\":2,\"linecolor\":\"white\",\"showbackground\":true,\"ticks\":\"\",\"zerolinecolor\":\"white\"}},\"shapedefaults\":{\"line\":{\"color\":\"#2a3f5f\"}},\"ternary\":{\"aaxis\":{\"gridcolor\":\"white\",\"linecolor\":\"white\",\"ticks\":\"\"},\"baxis\":{\"gridcolor\":\"white\",\"linecolor\":\"white\",\"ticks\":\"\"},\"bgcolor\":\"#E5ECF6\",\"caxis\":{\"gridcolor\":\"white\",\"linecolor\":\"white\",\"ticks\":\"\"}},\"title\":{\"x\":0.05},\"xaxis\":{\"automargin\":true,\"gridcolor\":\"white\",\"linecolor\":\"white\",\"ticks\":\"\",\"title\":{\"standoff\":15},\"zerolinecolor\":\"white\",\"zerolinewidth\":2},\"yaxis\":{\"automargin\":true,\"gridcolor\":\"white\",\"linecolor\":\"white\",\"ticks\":\"\",\"title\":{\"standoff\":15},\"zerolinecolor\":\"white\",\"zerolinewidth\":2}}},\"xaxis\":{\"anchor\":\"y\",\"domain\":[0.0,1.0],\"title\":{\"text\":\"GDP\"},\"type\":\"log\"},\"yaxis\":{\"anchor\":\"x\",\"domain\":[0.0,1.0],\"title\":{\"text\":\"% of alcohol drinkers\"}},\"legend\":{\"title\":{\"text\":\"Zone\"},\"tracegroupgap\":0},\"margin\":{\"t\":60}},                        {\"responsive\": true}                    ).then(function(){\n",
       "                            \n",
       "var gd = document.getElementById('1831b3bb-cee1-4b46-8120-bbd4409ff8cf');\n",
       "var x = new MutationObserver(function (mutations, observer) {{\n",
       "        var display = window.getComputedStyle(gd).display;\n",
       "        if (!display || display === 'none') {{\n",
       "            console.log([gd, 'removed!']);\n",
       "            Plotly.purge(gd);\n",
       "            observer.disconnect();\n",
       "        }}\n",
       "}});\n",
       "\n",
       "// Listen for the removal of the full notebook cells\n",
       "var notebookContainer = gd.closest('#notebook-container');\n",
       "if (notebookContainer) {{\n",
       "    x.observe(notebookContainer, {childList: true});\n",
       "}}\n",
       "\n",
       "// Listen for the clearing of the current output cell\n",
       "var outputEl = gd.closest('.output');\n",
       "if (outputEl) {{\n",
       "    x.observe(outputEl, {childList: true});\n",
       "}}\n",
       "\n",
       "                        })                };                });            </script>        </div>"
      ]
     },
     "metadata": {},
     "output_type": "display_data"
    }
   ],
   "source": [
    "px.scatter(test[test.Sex == 'BTSX'], x='GDP', y= '% of alcohol drinkers', color = 'Zone', hover_name=\"Country\", log_x = True)"
   ]
  },
  {
   "cell_type": "markdown",
   "metadata": {},
   "source": [
    "### Heatmap"
   ]
  },
  {
   "cell_type": "code",
   "execution_count": 18,
   "metadata": {},
   "outputs": [
    {
     "data": {
      "text/plain": [
       "<matplotlib.axes._subplots.AxesSubplot at 0x1f5d84af978>"
      ]
     },
     "execution_count": 18,
     "metadata": {},
     "output_type": "execute_result"
    },
    {
     "data": {
      "image/png": "[encoded data removed]",
      "text/plain": [
       "<Figure size 432x288 with 2 Axes>"
      ]
     },
     "metadata": {
      "needs_background": "light"
     },
     "output_type": "display_data"
    }
   ],
   "source": [
    "corr = df.corr()\n",
    "sns.heatmap(corr, \n",
    "        xticklabels=corr.columns,\n",
    "        yticklabels=corr.columns)"
   ]
  },
  {
   "cell_type": "code",
   "execution_count": null,
   "metadata": {},
   "outputs": [],
   "source": []
  }
 ],
 "metadata": {
  "kernelspec": {
   "display_name": "Python 3",
   "language": "python",
   "name": "python3"
  },
  "language_info": {
   "codemirror_mode": {
    "name": "ipython",
    "version": 3
   },
   "file_extension": ".py",
   "mimetype": "text/x-python",
   "name": "python",
   "nbconvert_exporter": "python",
   "pygments_lexer": "ipython3",
   "version": "3.8.10"
  }
 },
 "nbformat": 4,
 "nbformat_minor": 2
}
