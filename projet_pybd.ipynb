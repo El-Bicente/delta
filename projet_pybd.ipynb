{
 "cells": [
  {
   "cell_type": "markdown",
   "metadata": {},
   "source": [
    "# PROJET PYBD"
   ]
  },
  {
   "cell_type": "markdown",
   "metadata": {},
   "source": [
    "[Kaggle](https://www.kaggle.com/kumarajarshi/life-expectancy-who)"
   ]
  },
  {
   "cell_type": "code",
   "execution_count": 8,
   "metadata": {},
   "outputs": [
    {
     "data": {
      "text/html": [
       "        <script type=\"text/javascript\">\n",
       "        window.PlotlyConfig = {MathJaxConfig: 'local'};\n",
       "        if (window.MathJax) {MathJax.Hub.Config({SVG: {font: \"STIX-Web\"}});}\n",
       "        if (typeof require !== 'undefined') {\n",
       "        require.undef(\"plotly\");\n",
       "        requirejs.config({\n",
       "            paths: {\n",
       "                'plotly': ['https://cdn.plot.ly/plotly-2.11.1.min']\n",
       "            }\n",
       "        });\n",
       "        require(['plotly'], function(Plotly) {\n",
       "            window._Plotly = Plotly;\n",
       "        });\n",
       "        }\n",
       "        </script>\n",
       "        "
      ]
     },
     "metadata": {},
     "output_type": "display_data"
    }
   ],
   "source": [
    "import pandas as pd\n",
    "import seaborn as sns\n",
    "import plotly\n",
    "import plotly.express as px \n",
    "\n",
    "#pd.options.plotting.backend = \"plotly\"\n",
    "plotly.offline.init_notebook_mode(connected=True)"
   ]
  },
  {
   "cell_type": "raw",
   "metadata": {},
   "source": [
    "On nettoie les dataframes d'origine"
   ]
  },
  {
   "cell_type": "code",
   "execution_count": 67,
   "metadata": {},
   "outputs": [],
   "source": [
    "alcohol_consumption = pd.read_csv('data/gho_alcohol_consumer_past_12months.csv')\n",
    "alcohol_consumption.dropna(how='all', axis=1, inplace=True)\n",
    "alcohol_consumption = alcohol_consumption.rename(columns = {\"SpatialDimValueCode\": \"Code\"})\n",
    "alcohol_consumption = alcohol_consumption.rename(columns = {\"Location\": \"Country\"})\n",
    "alcohol_consumption = alcohol_consumption.rename(columns = {\"Value\": \"% of alcohol drinkers\"})\n",
    "alcohol_consumption = alcohol_consumption.rename(columns = {\"Dim1ValueCode\": \"Sex\"})\n",
    "alcohol_consumption = alcohol_consumption.rename(columns = {\"ParentLocationCode\": \"Zone\"})\n",
    "pib = pd.read_csv('data/gdp-per-capita-worldbank.csv')\n",
    "pib = pib.rename(columns = {\"GDP per capita, PPP (constant 2017 international $)\": \"GDP\"})\n",
    "del pib['Entity']\n",
    "pib = pib.sort_values(by = ['Year'])\n",
    "pib = pib.drop_duplicates(subset=['Code'], keep='last')"
   ]
  },
  {
   "cell_type": "code",
   "execution_count": 68,
   "metadata": {},
   "outputs": [],
   "source": [
    "alcohol_consumption = alcohol_consumption.loc[alcohol_consumption[\"% of alcohol drinkers\"] != '.']\n",
    "alcohol_consumption = alcohol_consumption.astype({\"% of alcohol drinkers\" : \"float64\"})"
   ]
  },
  {
   "cell_type": "code",
   "execution_count": 69,
   "metadata": {},
   "outputs": [
    {
     "data": {
      "text/plain": [
       "Zone                      object\n",
       "Code                      object\n",
       "Country                   object\n",
       "Sex                       object\n",
       "% of alcohol drinkers    float64\n",
       "dtype: object"
      ]
     },
     "execution_count": 69,
     "metadata": {},
     "output_type": "execute_result"
    }
   ],
   "source": [
    "alcohol_consumption.dtypes"
   ]
  },
  {
   "cell_type": "raw",
   "metadata": {},
   "source": [
    "On merge les 2 pour avoir le PIB sur chaque pays"
   ]
  },
  {
   "cell_type": "code",
   "execution_count": 71,
   "metadata": {},
   "outputs": [
    {
     "data": {
      "text/html": [
       "<div>\n",
       "<style scoped>\n",
       "    .dataframe tbody tr th:only-of-type {\n",
       "        vertical-align: middle;\n",
       "    }\n",
       "\n",
       "    .dataframe tbody tr th {\n",
       "        vertical-align: top;\n",
       "    }\n",
       "\n",
       "    .dataframe thead th {\n",
       "        text-align: right;\n",
       "    }\n",
       "</style>\n",
       "<table border=\"1\" class=\"dataframe\">\n",
       "  <thead>\n",
       "    <tr style=\"text-align: right;\">\n",
       "      <th></th>\n",
       "      <th>Zone</th>\n",
       "      <th>Code</th>\n",
       "      <th>Country</th>\n",
       "      <th>Sex</th>\n",
       "      <th>% of alcohol drinkers</th>\n",
       "      <th>Year</th>\n",
       "      <th>GDP</th>\n",
       "    </tr>\n",
       "  </thead>\n",
       "  <tbody>\n",
       "    <tr>\n",
       "      <th>0</th>\n",
       "      <td>EMR</td>\n",
       "      <td>LBY</td>\n",
       "      <td>Libya</td>\n",
       "      <td>BTSX</td>\n",
       "      <td>0.1</td>\n",
       "      <td>2020</td>\n",
       "      <td>10282.291080</td>\n",
       "    </tr>\n",
       "    <tr>\n",
       "      <th>1</th>\n",
       "      <td>EMR</td>\n",
       "      <td>LBY</td>\n",
       "      <td>Libya</td>\n",
       "      <td>FMLE</td>\n",
       "      <td>0.1</td>\n",
       "      <td>2020</td>\n",
       "      <td>10282.291080</td>\n",
       "    </tr>\n",
       "    <tr>\n",
       "      <th>2</th>\n",
       "      <td>EMR</td>\n",
       "      <td>LBY</td>\n",
       "      <td>Libya</td>\n",
       "      <td>MLE</td>\n",
       "      <td>0.2</td>\n",
       "      <td>2020</td>\n",
       "      <td>10282.291080</td>\n",
       "    </tr>\n",
       "    <tr>\n",
       "      <th>3</th>\n",
       "      <td>EMR</td>\n",
       "      <td>KWT</td>\n",
       "      <td>Kuwait</td>\n",
       "      <td>FMLE</td>\n",
       "      <td>0.2</td>\n",
       "      <td>2019</td>\n",
       "      <td>49853.736281</td>\n",
       "    </tr>\n",
       "    <tr>\n",
       "      <th>4</th>\n",
       "      <td>EMR</td>\n",
       "      <td>KWT</td>\n",
       "      <td>Kuwait</td>\n",
       "      <td>BTSX</td>\n",
       "      <td>0.6</td>\n",
       "      <td>2019</td>\n",
       "      <td>49853.736281</td>\n",
       "    </tr>\n",
       "  </tbody>\n",
       "</table>\n",
       "</div>"
      ],
      "text/plain": [
       "  Zone Code Country   Sex  % of alcohol drinkers  Year           GDP\n",
       "0  EMR  LBY   Libya  BTSX                    0.1  2020  10282.291080\n",
       "1  EMR  LBY   Libya  FMLE                    0.1  2020  10282.291080\n",
       "2  EMR  LBY   Libya   MLE                    0.2  2020  10282.291080\n",
       "3  EMR  KWT  Kuwait  FMLE                    0.2  2019  49853.736281\n",
       "4  EMR  KWT  Kuwait  BTSX                    0.6  2019  49853.736281"
      ]
     },
     "execution_count": 71,
     "metadata": {},
     "output_type": "execute_result"
    }
   ],
   "source": [
    "df_consumption_pib = pd.merge(alcohol_consumption, pib, on = 'Code')\n",
    "df_consumption_pib.head()"
   ]
  },
  {
   "cell_type": "raw",
   "metadata": {},
   "source": [
    "Nuage de points PIB/Taux de consommateurs d'alcool"
   ]
  },
  {
   "cell_type": "code",
   "execution_count": 70,
   "metadata": {},
   "outputs": [
    {
     "data": {
      "application/vnd.plotly.v1+json": {
       "config": {
        "plotlyServerURL": "https://plot.ly"
       },
       "data": [
        {
         "hovertemplate": "<b>%{hovertext}</b><br><br>GDP=%{x}<br>% of alcohol drinkers=%{y}<extra></extra>",
         "hovertext": [
          null,
          null,
          null,
          null,
          null,
          null,
          null,
          null,
          null,
          null,
          null,
          null,
          null,
          null,
          null,
          null,
          null,
          null,
          null,
          null,
          null,
          null,
          null,
          null,
          null,
          null,
          null,
          null,
          null,
          null,
          null,
          null,
          null,
          null,
          null,
          null,
          null,
          null,
          null,
          null,
          null,
          null,
          null,
          null,
          null,
          null,
          null,
          null,
          null,
          null,
          null,
          null,
          null,
          null,
          null,
          null,
          null,
          null,
          null,
          null,
          null,
          null,
          null,
          null,
          null,
          null,
          null,
          null,
          null,
          null,
          null,
          null,
          null,
          null,
          null,
          null,
          null,
          null,
          null,
          null,
          null,
          null,
          null,
          null,
          null,
          null,
          null,
          null,
          null,
          null,
          null,
          null,
          null,
          null,
          null,
          null,
          null,
          null,
          null,
          null,
          null,
          null,
          null,
          null,
          null,
          null,
          null,
          null,
          null,
          null,
          null,
          null,
          null,
          null,
          null,
          null,
          null,
          null,
          null,
          null,
          null,
          null,
          null,
          null,
          null,
          null,
          null,
          null,
          null,
          null,
          null,
          null,
          null,
          null,
          null,
          null,
          null,
          null,
          null,
          null,
          null,
          null,
          null,
          null,
          null,
          null,
          null,
          null,
          null,
          null,
          null,
          null,
          null,
          null,
          null,
          null,
          null,
          null,
          null,
          null,
          null,
          null,
          null,
          null,
          null,
          null,
          null,
          null,
          null,
          null,
          null,
          null,
          null,
          null,
          null,
          null,
          null,
          null,
          null,
          null,
          null,
          null,
          null,
          null,
          null,
          null,
          null,
          null,
          null,
          null,
          null,
          null,
          null,
          null,
          null,
          null,
          null,
          null,
          null,
          null,
          null,
          null,
          null,
          null,
          null,
          null,
          null,
          null,
          null,
          null,
          null,
          null,
          null,
          null,
          null,
          null,
          null,
          null,
          null,
          null,
          null,
          null,
          null,
          null,
          null,
          null,
          null,
          null,
          null,
          null,
          null,
          null,
          null,
          null,
          null,
          null,
          null,
          null,
          null,
          null,
          null,
          null,
          null,
          null,
          null,
          null,
          null,
          null,
          null,
          null,
          null,
          null,
          null,
          null,
          null,
          null,
          null,
          null,
          null,
          null,
          null,
          null,
          null,
          null,
          null,
          null,
          null,
          null,
          null,
          null,
          null,
          null,
          null,
          null,
          null,
          null,
          null,
          null,
          null,
          null,
          null,
          null,
          null,
          null,
          null,
          null,
          null,
          null,
          null,
          null,
          null,
          null,
          null,
          null,
          null,
          null,
          null,
          null,
          null,
          null,
          null,
          null,
          null,
          null,
          null,
          null,
          null,
          null,
          null,
          null,
          null,
          null,
          null,
          null,
          null,
          null,
          null,
          null,
          null,
          null,
          null,
          null,
          null,
          null,
          null,
          null,
          null,
          null,
          null,
          null,
          null,
          null,
          null,
          null,
          null,
          null,
          null,
          null,
          null,
          null,
          null,
          null,
          null,
          null,
          null,
          null,
          null,
          null,
          null,
          null,
          null,
          null,
          null,
          null,
          null,
          null,
          null,
          null,
          null,
          null,
          null,
          null,
          null,
          null,
          null,
          null,
          null,
          null,
          null,
          null,
          null,
          null,
          null,
          null,
          null,
          null,
          null,
          null,
          null,
          null,
          null,
          null,
          null,
          null,
          null,
          null,
          null,
          null,
          null,
          null,
          null,
          null,
          null,
          null,
          null,
          null,
          null,
          null,
          null,
          null,
          null,
          null,
          null,
          null,
          null,
          null,
          null,
          null,
          null,
          null,
          null,
          null,
          null,
          null,
          null,
          null,
          null,
          null,
          null,
          null,
          null,
          null,
          null,
          null,
          null,
          null,
          null,
          null,
          null,
          null,
          null,
          null,
          null,
          null,
          null,
          null,
          null,
          null,
          null,
          null,
          null,
          null,
          null,
          null,
          null,
          null,
          null,
          null,
          null,
          null,
          null,
          null,
          null,
          null,
          null,
          null,
          null,
          null,
          null,
          null,
          null,
          null,
          null,
          null,
          null,
          null,
          null,
          null,
          null,
          null,
          null,
          null,
          null,
          null,
          null,
          null,
          null,
          null,
          null,
          null,
          null,
          null,
          null,
          null,
          null,
          null,
          null,
          null,
          null,
          null,
          null,
          null,
          null,
          null,
          null,
          null,
          null,
          null,
          null,
          null,
          null,
          null,
          null,
          null,
          null,
          null,
          null,
          null,
          null,
          null,
          null,
          null,
          null,
          null,
          null,
          null,
          null,
          null,
          null,
          null,
          null,
          null,
          null,
          null,
          null,
          null,
          null,
          null,
          null,
          null,
          null,
          null,
          null,
          null,
          null,
          null,
          null
         ],
         "legendgroup": "",
         "marker": {
          "color": "#636efa",
          "symbol": "circle"
         },
         "mode": "markers",
         "name": "",
         "orientation": "v",
         "showlegend": false,
         "type": "scatter",
         "x": [
          null,
          null,
          null,
          null,
          null,
          null,
          null,
          null,
          null,
          null,
          null,
          null,
          null,
          null,
          null,
          null,
          null,
          null,
          null,
          null,
          null,
          null,
          null,
          null,
          null,
          null,
          null,
          null,
          null,
          null,
          null,
          null,
          null,
          null,
          null,
          null,
          null,
          null,
          null,
          null,
          null,
          null,
          null,
          null,
          null,
          null,
          null,
          null,
          null,
          null,
          null,
          null,
          null,
          null,
          null,
          null,
          null,
          null,
          null,
          null,
          null,
          null,
          null,
          null,
          null,
          null,
          null,
          null,
          null,
          null,
          null,
          null,
          null,
          null,
          null,
          null,
          null,
          null,
          null,
          null,
          null,
          null,
          null,
          null,
          null,
          null,
          null,
          null,
          null,
          null,
          null,
          null,
          null,
          null,
          null,
          null,
          null,
          null,
          null,
          null,
          null,
          null,
          null,
          null,
          null,
          null,
          null,
          null,
          null,
          null,
          null,
          null,
          null,
          null,
          null,
          null,
          null,
          null,
          null,
          null,
          null,
          null,
          null,
          null,
          null,
          null,
          null,
          null,
          null,
          null,
          null,
          null,
          null,
          null,
          null,
          null,
          null,
          null,
          null,
          null,
          null,
          null,
          null,
          null,
          null,
          null,
          null,
          null,
          null,
          null,
          null,
          null,
          null,
          null,
          null,
          null,
          null,
          null,
          null,
          null,
          null,
          null,
          null,
          null,
          null,
          null,
          null,
          null,
          null,
          null,
          null,
          null,
          null,
          null,
          null,
          null,
          null,
          null,
          null,
          null,
          null,
          null,
          null,
          null,
          null,
          null,
          null,
          null,
          null,
          null,
          null,
          null,
          null,
          null,
          null,
          null,
          null,
          null,
          null,
          null,
          null,
          null,
          null,
          null,
          null,
          null,
          null,
          null,
          null,
          null,
          null,
          null,
          null,
          null,
          null,
          null,
          null,
          null,
          null,
          null,
          null,
          null,
          null,
          null,
          null,
          null,
          null,
          null,
          null,
          null,
          null,
          null,
          null,
          null,
          null,
          null,
          null,
          null,
          null,
          null,
          null,
          null,
          null,
          null,
          null,
          null,
          null,
          null,
          null,
          null,
          null,
          null,
          null,
          null,
          null,
          null,
          null,
          null,
          null,
          null,
          null,
          null,
          null,
          null,
          null,
          null,
          null,
          null,
          null,
          null,
          null,
          null,
          null,
          null,
          null,
          null,
          null,
          null,
          null,
          null,
          null,
          null,
          null,
          null,
          null,
          null,
          null,
          null,
          null,
          null,
          null,
          null,
          null,
          null,
          null,
          null,
          null,
          null,
          null,
          null,
          null,
          null,
          null,
          null,
          null,
          null,
          null,
          null,
          null,
          null,
          null,
          null,
          null,
          null,
          null,
          null,
          null,
          null,
          null,
          null,
          null,
          null,
          null,
          null,
          null,
          null,
          null,
          null,
          null,
          null,
          null,
          null,
          null,
          null,
          null,
          null,
          null,
          null,
          null,
          null,
          null,
          null,
          null,
          null,
          null,
          null,
          null,
          null,
          null,
          null,
          null,
          null,
          null,
          null,
          null,
          null,
          null,
          null,
          null,
          null,
          null,
          null,
          null,
          null,
          null,
          null,
          null,
          null,
          null,
          null,
          null,
          null,
          null,
          null,
          null,
          null,
          null,
          null,
          null,
          null,
          null,
          null,
          null,
          null,
          null,
          null,
          null,
          null,
          null,
          null,
          null,
          null,
          null,
          null,
          null,
          null,
          null,
          null,
          null,
          null,
          null,
          null,
          null,
          null,
          null,
          null,
          null,
          null,
          null,
          null,
          null,
          null,
          null,
          null,
          null,
          null,
          null,
          null,
          null,
          null,
          null,
          null,
          null,
          null,
          null,
          null,
          null,
          null,
          null,
          null,
          null,
          null,
          null,
          null,
          null,
          null,
          null,
          null,
          null,
          null,
          null,
          null,
          null,
          null,
          null,
          null,
          null,
          null,
          null,
          null,
          null,
          null,
          null,
          null,
          null,
          null,
          null,
          null,
          null,
          null,
          null,
          null,
          null,
          null,
          null,
          null,
          null,
          null,
          null,
          null,
          null,
          null,
          null,
          null,
          null,
          null,
          null,
          null,
          null,
          null,
          null,
          null,
          null,
          null,
          null,
          null,
          null,
          null,
          null,
          null,
          null,
          null,
          null,
          null,
          null,
          null,
          null,
          null,
          null,
          null,
          null,
          null,
          null,
          null,
          null,
          null,
          null,
          null,
          null,
          null,
          null,
          null,
          null,
          null,
          null,
          null,
          null,
          null,
          null,
          null,
          null,
          null,
          null,
          null,
          null,
          null,
          null,
          null,
          null,
          null,
          null,
          null,
          null,
          null,
          null,
          null,
          null
         ],
         "xaxis": "x",
         "y": [
          null,
          null,
          null,
          null,
          null,
          null,
          null,
          null,
          null,
          null,
          null,
          null,
          null,
          null,
          null,
          null,
          null,
          null,
          null,
          null,
          null,
          null,
          null,
          null,
          null,
          null,
          null,
          null,
          null,
          null,
          null,
          null,
          null,
          null,
          null,
          null,
          null,
          null,
          null,
          null,
          null,
          null,
          null,
          null,
          null,
          null,
          null,
          null,
          null,
          null,
          null,
          null,
          null,
          null,
          null,
          null,
          null,
          null,
          null,
          null,
          null,
          null,
          null,
          null,
          null,
          null,
          null,
          null,
          null,
          null,
          null,
          null,
          null,
          null,
          null,
          null,
          null,
          null,
          null,
          null,
          null,
          null,
          null,
          null,
          null,
          null,
          null,
          null,
          null,
          null,
          null,
          null,
          null,
          null,
          null,
          null,
          null,
          null,
          null,
          null,
          null,
          null,
          null,
          null,
          null,
          null,
          null,
          null,
          null,
          null,
          null,
          null,
          null,
          null,
          null,
          null,
          null,
          null,
          null,
          null,
          null,
          null,
          null,
          null,
          null,
          null,
          null,
          null,
          null,
          null,
          null,
          null,
          null,
          null,
          null,
          null,
          null,
          null,
          null,
          null,
          null,
          null,
          null,
          null,
          null,
          null,
          null,
          null,
          null,
          null,
          null,
          null,
          null,
          null,
          null,
          null,
          null,
          null,
          null,
          null,
          null,
          null,
          null,
          null,
          null,
          null,
          null,
          null,
          null,
          null,
          null,
          null,
          null,
          null,
          null,
          null,
          null,
          null,
          null,
          null,
          null,
          null,
          null,
          null,
          null,
          null,
          null,
          null,
          null,
          null,
          null,
          null,
          null,
          null,
          null,
          null,
          null,
          null,
          null,
          null,
          null,
          null,
          null,
          null,
          null,
          null,
          null,
          null,
          null,
          null,
          null,
          null,
          null,
          null,
          null,
          null,
          null,
          null,
          null,
          null,
          null,
          null,
          null,
          null,
          null,
          null,
          null,
          null,
          null,
          null,
          null,
          null,
          null,
          null,
          null,
          null,
          null,
          null,
          null,
          null,
          null,
          null,
          null,
          null,
          null,
          null,
          null,
          null,
          null,
          null,
          null,
          null,
          null,
          null,
          null,
          null,
          null,
          null,
          null,
          null,
          null,
          null,
          null,
          null,
          null,
          null,
          null,
          null,
          null,
          null,
          null,
          null,
          null,
          null,
          null,
          null,
          null,
          null,
          null,
          null,
          null,
          null,
          null,
          null,
          null,
          null,
          null,
          null,
          null,
          null,
          null,
          null,
          null,
          null,
          null,
          null,
          null,
          null,
          null,
          null,
          null,
          null,
          null,
          null,
          null,
          null,
          null,
          null,
          null,
          null,
          null,
          null,
          null,
          null,
          null,
          null,
          null,
          null,
          null,
          null,
          null,
          null,
          null,
          null,
          null,
          null,
          null,
          null,
          null,
          null,
          null,
          null,
          null,
          null,
          null,
          null,
          null,
          null,
          null,
          null,
          null,
          null,
          null,
          null,
          null,
          null,
          null,
          null,
          null,
          null,
          null,
          null,
          null,
          null,
          null,
          null,
          null,
          null,
          null,
          null,
          null,
          null,
          null,
          null,
          null,
          null,
          null,
          null,
          null,
          null,
          null,
          null,
          null,
          null,
          null,
          null,
          null,
          null,
          null,
          null,
          null,
          null,
          null,
          null,
          null,
          null,
          null,
          null,
          null,
          null,
          null,
          null,
          null,
          null,
          null,
          null,
          null,
          null,
          null,
          null,
          null,
          null,
          null,
          null,
          null,
          null,
          null,
          null,
          null,
          null,
          null,
          null,
          null,
          null,
          null,
          null,
          null,
          null,
          null,
          null,
          null,
          null,
          null,
          null,
          null,
          null,
          null,
          null,
          null,
          null,
          null,
          null,
          null,
          null,
          null,
          null,
          null,
          null,
          null,
          null,
          null,
          null,
          null,
          null,
          null,
          null,
          null,
          null,
          null,
          null,
          null,
          null,
          null,
          null,
          null,
          null,
          null,
          null,
          null,
          null,
          null,
          null,
          null,
          null,
          null,
          null,
          null,
          null,
          null,
          null,
          null,
          null,
          null,
          null,
          null,
          null,
          null,
          null,
          null,
          null,
          null,
          null,
          null,
          null,
          null,
          null,
          null,
          null,
          null,
          null,
          null,
          null,
          null,
          null,
          null,
          null,
          null,
          null,
          null,
          null,
          null,
          null,
          null,
          null,
          null,
          null,
          null,
          null,
          null,
          null,
          null,
          null,
          null,
          null,
          null,
          null,
          null,
          null,
          null,
          null,
          null,
          null,
          null,
          null,
          null,
          null,
          null,
          null,
          null,
          null,
          null,
          null,
          null,
          null,
          null,
          null,
          null
         ],
         "yaxis": "y"
        }
       ],
       "layout": {
        "legend": {
         "tracegroupgap": 0
        },
        "margin": {
         "t": 60
        },
        "template": {
         "data": {
          "bar": [
           {
            "error_x": {
             "color": "#2a3f5f"
            },
            "error_y": {
             "color": "#2a3f5f"
            },
            "marker": {
             "line": {
              "color": "#E5ECF6",
              "width": 0.5
             },
             "pattern": {
              "fillmode": "overlay",
              "size": 10,
              "solidity": 0.2
             }
            },
            "type": "bar"
           }
          ],
          "barpolar": [
           {
            "marker": {
             "line": {
              "color": "#E5ECF6",
              "width": 0.5
             },
             "pattern": {
              "fillmode": "overlay",
              "size": 10,
              "solidity": 0.2
             }
            },
            "type": "barpolar"
           }
          ],
          "carpet": [
           {
            "aaxis": {
             "endlinecolor": "#2a3f5f",
             "gridcolor": "white",
             "linecolor": "white",
             "minorgridcolor": "white",
             "startlinecolor": "#2a3f5f"
            },
            "baxis": {
             "endlinecolor": "#2a3f5f",
             "gridcolor": "white",
             "linecolor": "white",
             "minorgridcolor": "white",
             "startlinecolor": "#2a3f5f"
            },
            "type": "carpet"
           }
          ],
          "choropleth": [
           {
            "colorbar": {
             "outlinewidth": 0,
             "ticks": ""
            },
            "type": "choropleth"
           }
          ],
          "contour": [
           {
            "colorbar": {
             "outlinewidth": 0,
             "ticks": ""
            },
            "colorscale": [
             [
              0,
              "#0d0887"
             ],
             [
              0.1111111111111111,
              "#46039f"
             ],
             [
              0.2222222222222222,
              "#7201a8"
             ],
             [
              0.3333333333333333,
              "#9c179e"
             ],
             [
              0.4444444444444444,
              "#bd3786"
             ],
             [
              0.5555555555555556,
              "#d8576b"
             ],
             [
              0.6666666666666666,
              "#ed7953"
             ],
             [
              0.7777777777777778,
              "#fb9f3a"
             ],
             [
              0.8888888888888888,
              "#fdca26"
             ],
             [
              1,
              "#f0f921"
             ]
            ],
            "type": "contour"
           }
          ],
          "contourcarpet": [
           {
            "colorbar": {
             "outlinewidth": 0,
             "ticks": ""
            },
            "type": "contourcarpet"
           }
          ],
          "heatmap": [
           {
            "colorbar": {
             "outlinewidth": 0,
             "ticks": ""
            },
            "colorscale": [
             [
              0,
              "#0d0887"
             ],
             [
              0.1111111111111111,
              "#46039f"
             ],
             [
              0.2222222222222222,
              "#7201a8"
             ],
             [
              0.3333333333333333,
              "#9c179e"
             ],
             [
              0.4444444444444444,
              "#bd3786"
             ],
             [
              0.5555555555555556,
              "#d8576b"
             ],
             [
              0.6666666666666666,
              "#ed7953"
             ],
             [
              0.7777777777777778,
              "#fb9f3a"
             ],
             [
              0.8888888888888888,
              "#fdca26"
             ],
             [
              1,
              "#f0f921"
             ]
            ],
            "type": "heatmap"
           }
          ],
          "heatmapgl": [
           {
            "colorbar": {
             "outlinewidth": 0,
             "ticks": ""
            },
            "colorscale": [
             [
              0,
              "#0d0887"
             ],
             [
              0.1111111111111111,
              "#46039f"
             ],
             [
              0.2222222222222222,
              "#7201a8"
             ],
             [
              0.3333333333333333,
              "#9c179e"
             ],
             [
              0.4444444444444444,
              "#bd3786"
             ],
             [
              0.5555555555555556,
              "#d8576b"
             ],
             [
              0.6666666666666666,
              "#ed7953"
             ],
             [
              0.7777777777777778,
              "#fb9f3a"
             ],
             [
              0.8888888888888888,
              "#fdca26"
             ],
             [
              1,
              "#f0f921"
             ]
            ],
            "type": "heatmapgl"
           }
          ],
          "histogram": [
           {
            "marker": {
             "pattern": {
              "fillmode": "overlay",
              "size": 10,
              "solidity": 0.2
             }
            },
            "type": "histogram"
           }
          ],
          "histogram2d": [
           {
            "colorbar": {
             "outlinewidth": 0,
             "ticks": ""
            },
            "colorscale": [
             [
              0,
              "#0d0887"
             ],
             [
              0.1111111111111111,
              "#46039f"
             ],
             [
              0.2222222222222222,
              "#7201a8"
             ],
             [
              0.3333333333333333,
              "#9c179e"
             ],
             [
              0.4444444444444444,
              "#bd3786"
             ],
             [
              0.5555555555555556,
              "#d8576b"
             ],
             [
              0.6666666666666666,
              "#ed7953"
             ],
             [
              0.7777777777777778,
              "#fb9f3a"
             ],
             [
              0.8888888888888888,
              "#fdca26"
             ],
             [
              1,
              "#f0f921"
             ]
            ],
            "type": "histogram2d"
           }
          ],
          "histogram2dcontour": [
           {
            "colorbar": {
             "outlinewidth": 0,
             "ticks": ""
            },
            "colorscale": [
             [
              0,
              "#0d0887"
             ],
             [
              0.1111111111111111,
              "#46039f"
             ],
             [
              0.2222222222222222,
              "#7201a8"
             ],
             [
              0.3333333333333333,
              "#9c179e"
             ],
             [
              0.4444444444444444,
              "#bd3786"
             ],
             [
              0.5555555555555556,
              "#d8576b"
             ],
             [
              0.6666666666666666,
              "#ed7953"
             ],
             [
              0.7777777777777778,
              "#fb9f3a"
             ],
             [
              0.8888888888888888,
              "#fdca26"
             ],
             [
              1,
              "#f0f921"
             ]
            ],
            "type": "histogram2dcontour"
           }
          ],
          "mesh3d": [
           {
            "colorbar": {
             "outlinewidth": 0,
             "ticks": ""
            },
            "type": "mesh3d"
           }
          ],
          "parcoords": [
           {
            "line": {
             "colorbar": {
              "outlinewidth": 0,
              "ticks": ""
             }
            },
            "type": "parcoords"
           }
          ],
          "pie": [
           {
            "automargin": true,
            "type": "pie"
           }
          ],
          "scatter": [
           {
            "fillpattern": {
             "fillmode": "overlay",
             "size": 10,
             "solidity": 0.2
            },
            "type": "scatter"
           }
          ],
          "scatter3d": [
           {
            "line": {
             "colorbar": {
              "outlinewidth": 0,
              "ticks": ""
             }
            },
            "marker": {
             "colorbar": {
              "outlinewidth": 0,
              "ticks": ""
             }
            },
            "type": "scatter3d"
           }
          ],
          "scattercarpet": [
           {
            "marker": {
             "colorbar": {
              "outlinewidth": 0,
              "ticks": ""
             }
            },
            "type": "scattercarpet"
           }
          ],
          "scattergeo": [
           {
            "marker": {
             "colorbar": {
              "outlinewidth": 0,
              "ticks": ""
             }
            },
            "type": "scattergeo"
           }
          ],
          "scattergl": [
           {
            "marker": {
             "colorbar": {
              "outlinewidth": 0,
              "ticks": ""
             }
            },
            "type": "scattergl"
           }
          ],
          "scattermapbox": [
           {
            "marker": {
             "colorbar": {
              "outlinewidth": 0,
              "ticks": ""
             }
            },
            "type": "scattermapbox"
           }
          ],
          "scatterpolar": [
           {
            "marker": {
             "colorbar": {
              "outlinewidth": 0,
              "ticks": ""
             }
            },
            "type": "scatterpolar"
           }
          ],
          "scatterpolargl": [
           {
            "marker": {
             "colorbar": {
              "outlinewidth": 0,
              "ticks": ""
             }
            },
            "type": "scatterpolargl"
           }
          ],
          "scatterternary": [
           {
            "marker": {
             "colorbar": {
              "outlinewidth": 0,
              "ticks": ""
             }
            },
            "type": "scatterternary"
           }
          ],
          "surface": [
           {
            "colorbar": {
             "outlinewidth": 0,
             "ticks": ""
            },
            "colorscale": [
             [
              0,
              "#0d0887"
             ],
             [
              0.1111111111111111,
              "#46039f"
             ],
             [
              0.2222222222222222,
              "#7201a8"
             ],
             [
              0.3333333333333333,
              "#9c179e"
             ],
             [
              0.4444444444444444,
              "#bd3786"
             ],
             [
              0.5555555555555556,
              "#d8576b"
             ],
             [
              0.6666666666666666,
              "#ed7953"
             ],
             [
              0.7777777777777778,
              "#fb9f3a"
             ],
             [
              0.8888888888888888,
              "#fdca26"
             ],
             [
              1,
              "#f0f921"
             ]
            ],
            "type": "surface"
           }
          ],
          "table": [
           {
            "cells": {
             "fill": {
              "color": "#EBF0F8"
             },
             "line": {
              "color": "white"
             }
            },
            "header": {
             "fill": {
              "color": "#C8D4E3"
             },
             "line": {
              "color": "white"
             }
            },
            "type": "table"
           }
          ]
         },
         "layout": {
          "annotationdefaults": {
           "arrowcolor": "#2a3f5f",
           "arrowhead": 0,
           "arrowwidth": 1
          },
          "autotypenumbers": "strict",
          "coloraxis": {
           "colorbar": {
            "outlinewidth": 0,
            "ticks": ""
           }
          },
          "colorscale": {
           "diverging": [
            [
             0,
             "#8e0152"
            ],
            [
             0.1,
             "#c51b7d"
            ],
            [
             0.2,
             "#de77ae"
            ],
            [
             0.3,
             "#f1b6da"
            ],
            [
             0.4,
             "#fde0ef"
            ],
            [
             0.5,
             "#f7f7f7"
            ],
            [
             0.6,
             "#e6f5d0"
            ],
            [
             0.7,
             "#b8e186"
            ],
            [
             0.8,
             "#7fbc41"
            ],
            [
             0.9,
             "#4d9221"
            ],
            [
             1,
             "#276419"
            ]
           ],
           "sequential": [
            [
             0,
             "#0d0887"
            ],
            [
             0.1111111111111111,
             "#46039f"
            ],
            [
             0.2222222222222222,
             "#7201a8"
            ],
            [
             0.3333333333333333,
             "#9c179e"
            ],
            [
             0.4444444444444444,
             "#bd3786"
            ],
            [
             0.5555555555555556,
             "#d8576b"
            ],
            [
             0.6666666666666666,
             "#ed7953"
            ],
            [
             0.7777777777777778,
             "#fb9f3a"
            ],
            [
             0.8888888888888888,
             "#fdca26"
            ],
            [
             1,
             "#f0f921"
            ]
           ],
           "sequentialminus": [
            [
             0,
             "#0d0887"
            ],
            [
             0.1111111111111111,
             "#46039f"
            ],
            [
             0.2222222222222222,
             "#7201a8"
            ],
            [
             0.3333333333333333,
             "#9c179e"
            ],
            [
             0.4444444444444444,
             "#bd3786"
            ],
            [
             0.5555555555555556,
             "#d8576b"
            ],
            [
             0.6666666666666666,
             "#ed7953"
            ],
            [
             0.7777777777777778,
             "#fb9f3a"
            ],
            [
             0.8888888888888888,
             "#fdca26"
            ],
            [
             1,
             "#f0f921"
            ]
           ]
          },
          "colorway": [
           "#636efa",
           "#EF553B",
           "#00cc96",
           "#ab63fa",
           "#FFA15A",
           "#19d3f3",
           "#FF6692",
           "#B6E880",
           "#FF97FF",
           "#FECB52"
          ],
          "font": {
           "color": "#2a3f5f"
          },
          "geo": {
           "bgcolor": "white",
           "lakecolor": "white",
           "landcolor": "#E5ECF6",
           "showlakes": true,
           "showland": true,
           "subunitcolor": "white"
          },
          "hoverlabel": {
           "align": "left"
          },
          "hovermode": "closest",
          "mapbox": {
           "style": "light"
          },
          "paper_bgcolor": "white",
          "plot_bgcolor": "#E5ECF6",
          "polar": {
           "angularaxis": {
            "gridcolor": "white",
            "linecolor": "white",
            "ticks": ""
           },
           "bgcolor": "#E5ECF6",
           "radialaxis": {
            "gridcolor": "white",
            "linecolor": "white",
            "ticks": ""
           }
          },
          "scene": {
           "xaxis": {
            "backgroundcolor": "#E5ECF6",
            "gridcolor": "white",
            "gridwidth": 2,
            "linecolor": "white",
            "showbackground": true,
            "ticks": "",
            "zerolinecolor": "white"
           },
           "yaxis": {
            "backgroundcolor": "#E5ECF6",
            "gridcolor": "white",
            "gridwidth": 2,
            "linecolor": "white",
            "showbackground": true,
            "ticks": "",
            "zerolinecolor": "white"
           },
           "zaxis": {
            "backgroundcolor": "#E5ECF6",
            "gridcolor": "white",
            "gridwidth": 2,
            "linecolor": "white",
            "showbackground": true,
            "ticks": "",
            "zerolinecolor": "white"
           }
          },
          "shapedefaults": {
           "line": {
            "color": "#2a3f5f"
           }
          },
          "ternary": {
           "aaxis": {
            "gridcolor": "white",
            "linecolor": "white",
            "ticks": ""
           },
           "baxis": {
            "gridcolor": "white",
            "linecolor": "white",
            "ticks": ""
           },
           "bgcolor": "#E5ECF6",
           "caxis": {
            "gridcolor": "white",
            "linecolor": "white",
            "ticks": ""
           }
          },
          "title": {
           "x": 0.05
          },
          "xaxis": {
           "automargin": true,
           "gridcolor": "white",
           "linecolor": "white",
           "ticks": "",
           "title": {
            "standoff": 15
           },
           "zerolinecolor": "white",
           "zerolinewidth": 2
          },
          "yaxis": {
           "automargin": true,
           "gridcolor": "white",
           "linecolor": "white",
           "ticks": "",
           "title": {
            "standoff": 15
           },
           "zerolinecolor": "white",
           "zerolinewidth": 2
          }
         }
        },
        "xaxis": {
         "anchor": "y",
         "domain": [
          0,
          1
         ],
         "title": {
          "text": "GDP"
         }
        },
        "yaxis": {
         "anchor": "x",
         "domain": [
          0,
          1
         ],
         "title": {
          "text": "% of alcohol drinkers"
         }
        }
       }
      },
      "text/html": [
       "<div>                            <div id=\"1c68b34e-c866-4710-b574-6f00df66adde\" class=\"plotly-graph-div\" style=\"height:525px; width:100%;\"></div>            <script type=\"text/javascript\">                require([\"plotly\"], function(Plotly) {                    window.PLOTLYENV=window.PLOTLYENV || {};                                    if (document.getElementById(\"1c68b34e-c866-4710-b574-6f00df66adde\")) {                    Plotly.newPlot(                        \"1c68b34e-c866-4710-b574-6f00df66adde\",                        [{\"hovertemplate\":\"<b>%{hovertext}</b><br><br>GDP=%{x}<br>% of alcohol drinkers=%{y}<extra></extra>\",\"hovertext\":[null,null,null,null,null,null,null,null,null,null,null,null,null,null,null,null,null,null,null,null,null,null,null,null,null,null,null,null,null,null,null,null,null,null,null,null,null,null,null,null,null,null,null,null,null,null,null,null,null,null,null,null,null,null,null,null,null,null,null,null,null,null,null,null,null,null,null,null,null,null,null,null,null,null,null,null,null,null,null,null,null,null,null,null,null,null,null,null,null,null,null,null,null,null,null,null,null,null,null,null,null,null,null,null,null,null,null,null,null,null,null,null,null,null,null,null,null,null,null,null,null,null,null,null,null,null,null,null,null,null,null,null,null,null,null,null,null,null,null,null,null,null,null,null,null,null,null,null,null,null,null,null,null,null,null,null,null,null,null,null,null,null,null,null,null,null,null,null,null,null,null,null,null,null,null,null,null,null,null,null,null,null,null,null,null,null,null,null,null,null,null,null,null,null,null,null,null,null,null,null,null,null,null,null,null,null,null,null,null,null,null,null,null,null,null,null,null,null,null,null,null,null,null,null,null,null,null,null,null,null,null,null,null,null,null,null,null,null,null,null,null,null,null,null,null,null,null,null,null,null,null,null,null,null,null,null,null,null,null,null,null,null,null,null,null,null,null,null,null,null,null,null,null,null,null,null,null,null,null,null,null,null,null,null,null,null,null,null,null,null,null,null,null,null,null,null,null,null,null,null,null,null,null,null,null,null,null,null,null,null,null,null,null,null,null,null,null,null,null,null,null,null,null,null,null,null,null,null,null,null,null,null,null,null,null,null,null,null,null,null,null,null,null,null,null,null,null,null,null,null,null,null,null,null,null,null,null,null,null,null,null,null,null,null,null,null,null,null,null,null,null,null,null,null,null,null,null,null,null,null,null,null,null,null,null,null,null,null,null,null,null,null,null,null,null,null,null,null,null,null,null,null,null,null,null,null,null,null,null,null,null,null,null,null,null,null,null,null,null,null,null,null,null,null,null,null,null,null,null,null,null,null,null,null,null,null,null,null,null,null,null,null,null,null,null,null,null,null,null,null,null,null,null,null,null,null,null,null,null,null,null,null,null,null,null,null,null,null,null,null,null,null,null,null,null,null,null,null,null,null,null,null,null,null,null,null,null,null,null,null,null,null,null,null,null,null,null,null,null,null,null,null,null,null,null,null,null,null,null,null,null,null,null,null,null,null,null,null,null,null,null,null,null,null,null,null,null,null,null,null,null,null,null,null,null,null,null],\"legendgroup\":\"\",\"marker\":{\"color\":\"#636efa\",\"symbol\":\"circle\"},\"mode\":\"markers\",\"name\":\"\",\"orientation\":\"v\",\"showlegend\":false,\"x\":[null,null,null,null,null,null,null,null,null,null,null,null,null,null,null,null,null,null,null,null,null,null,null,null,null,null,null,null,null,null,null,null,null,null,null,null,null,null,null,null,null,null,null,null,null,null,null,null,null,null,null,null,null,null,null,null,null,null,null,null,null,null,null,null,null,null,null,null,null,null,null,null,null,null,null,null,null,null,null,null,null,null,null,null,null,null,null,null,null,null,null,null,null,null,null,null,null,null,null,null,null,null,null,null,null,null,null,null,null,null,null,null,null,null,null,null,null,null,null,null,null,null,null,null,null,null,null,null,null,null,null,null,null,null,null,null,null,null,null,null,null,null,null,null,null,null,null,null,null,null,null,null,null,null,null,null,null,null,null,null,null,null,null,null,null,null,null,null,null,null,null,null,null,null,null,null,null,null,null,null,null,null,null,null,null,null,null,null,null,null,null,null,null,null,null,null,null,null,null,null,null,null,null,null,null,null,null,null,null,null,null,null,null,null,null,null,null,null,null,null,null,null,null,null,null,null,null,null,null,null,null,null,null,null,null,null,null,null,null,null,null,null,null,null,null,null,null,null,null,null,null,null,null,null,null,null,null,null,null,null,null,null,null,null,null,null,null,null,null,null,null,null,null,null,null,null,null,null,null,null,null,null,null,null,null,null,null,null,null,null,null,null,null,null,null,null,null,null,null,null,null,null,null,null,null,null,null,null,null,null,null,null,null,null,null,null,null,null,null,null,null,null,null,null,null,null,null,null,null,null,null,null,null,null,null,null,null,null,null,null,null,null,null,null,null,null,null,null,null,null,null,null,null,null,null,null,null,null,null,null,null,null,null,null,null,null,null,null,null,null,null,null,null,null,null,null,null,null,null,null,null,null,null,null,null,null,null,null,null,null,null,null,null,null,null,null,null,null,null,null,null,null,null,null,null,null,null,null,null,null,null,null,null,null,null,null,null,null,null,null,null,null,null,null,null,null,null,null,null,null,null,null,null,null,null,null,null,null,null,null,null,null,null,null,null,null,null,null,null,null,null,null,null,null,null,null,null,null,null,null,null,null,null,null,null,null,null,null,null,null,null,null,null,null,null,null,null,null,null,null,null,null,null,null,null,null,null,null,null,null,null,null,null,null,null,null,null,null,null,null,null,null,null,null,null,null,null,null,null,null,null,null,null,null,null,null,null,null,null,null,null,null,null,null,null,null,null,null,null,null,null,null,null,null,null,null,null],\"xaxis\":\"x\",\"y\":[null,null,null,null,null,null,null,null,null,null,null,null,null,null,null,null,null,null,null,null,null,null,null,null,null,null,null,null,null,null,null,null,null,null,null,null,null,null,null,null,null,null,null,null,null,null,null,null,null,null,null,null,null,null,null,null,null,null,null,null,null,null,null,null,null,null,null,null,null,null,null,null,null,null,null,null,null,null,null,null,null,null,null,null,null,null,null,null,null,null,null,null,null,null,null,null,null,null,null,null,null,null,null,null,null,null,null,null,null,null,null,null,null,null,null,null,null,null,null,null,null,null,null,null,null,null,null,null,null,null,null,null,null,null,null,null,null,null,null,null,null,null,null,null,null,null,null,null,null,null,null,null,null,null,null,null,null,null,null,null,null,null,null,null,null,null,null,null,null,null,null,null,null,null,null,null,null,null,null,null,null,null,null,null,null,null,null,null,null,null,null,null,null,null,null,null,null,null,null,null,null,null,null,null,null,null,null,null,null,null,null,null,null,null,null,null,null,null,null,null,null,null,null,null,null,null,null,null,null,null,null,null,null,null,null,null,null,null,null,null,null,null,null,null,null,null,null,null,null,null,null,null,null,null,null,null,null,null,null,null,null,null,null,null,null,null,null,null,null,null,null,null,null,null,null,null,null,null,null,null,null,null,null,null,null,null,null,null,null,null,null,null,null,null,null,null,null,null,null,null,null,null,null,null,null,null,null,null,null,null,null,null,null,null,null,null,null,null,null,null,null,null,null,null,null,null,null,null,null,null,null,null,null,null,null,null,null,null,null,null,null,null,null,null,null,null,null,null,null,null,null,null,null,null,null,null,null,null,null,null,null,null,null,null,null,null,null,null,null,null,null,null,null,null,null,null,null,null,null,null,null,null,null,null,null,null,null,null,null,null,null,null,null,null,null,null,null,null,null,null,null,null,null,null,null,null,null,null,null,null,null,null,null,null,null,null,null,null,null,null,null,null,null,null,null,null,null,null,null,null,null,null,null,null,null,null,null,null,null,null,null,null,null,null,null,null,null,null,null,null,null,null,null,null,null,null,null,null,null,null,null,null,null,null,null,null,null,null,null,null,null,null,null,null,null,null,null,null,null,null,null,null,null,null,null,null,null,null,null,null,null,null,null,null,null,null,null,null,null,null,null,null,null,null,null,null,null,null,null,null,null,null,null,null,null,null,null,null,null,null,null,null,null,null,null,null,null,null,null,null,null,null,null,null,null,null,null],\"yaxis\":\"y\",\"type\":\"scatter\"}],                        {\"template\":{\"data\":{\"histogram2dcontour\":[{\"type\":\"histogram2dcontour\",\"colorbar\":{\"outlinewidth\":0,\"ticks\":\"\"},\"colorscale\":[[0.0,\"#0d0887\"],[0.1111111111111111,\"#46039f\"],[0.2222222222222222,\"#7201a8\"],[0.3333333333333333,\"#9c179e\"],[0.4444444444444444,\"#bd3786\"],[0.5555555555555556,\"#d8576b\"],[0.6666666666666666,\"#ed7953\"],[0.7777777777777778,\"#fb9f3a\"],[0.8888888888888888,\"#fdca26\"],[1.0,\"#f0f921\"]]}],\"choropleth\":[{\"type\":\"choropleth\",\"colorbar\":{\"outlinewidth\":0,\"ticks\":\"\"}}],\"histogram2d\":[{\"type\":\"histogram2d\",\"colorbar\":{\"outlinewidth\":0,\"ticks\":\"\"},\"colorscale\":[[0.0,\"#0d0887\"],[0.1111111111111111,\"#46039f\"],[0.2222222222222222,\"#7201a8\"],[0.3333333333333333,\"#9c179e\"],[0.4444444444444444,\"#bd3786\"],[0.5555555555555556,\"#d8576b\"],[0.6666666666666666,\"#ed7953\"],[0.7777777777777778,\"#fb9f3a\"],[0.8888888888888888,\"#fdca26\"],[1.0,\"#f0f921\"]]}],\"heatmap\":[{\"type\":\"heatmap\",\"colorbar\":{\"outlinewidth\":0,\"ticks\":\"\"},\"colorscale\":[[0.0,\"#0d0887\"],[0.1111111111111111,\"#46039f\"],[0.2222222222222222,\"#7201a8\"],[0.3333333333333333,\"#9c179e\"],[0.4444444444444444,\"#bd3786\"],[0.5555555555555556,\"#d8576b\"],[0.6666666666666666,\"#ed7953\"],[0.7777777777777778,\"#fb9f3a\"],[0.8888888888888888,\"#fdca26\"],[1.0,\"#f0f921\"]]}],\"heatmapgl\":[{\"type\":\"heatmapgl\",\"colorbar\":{\"outlinewidth\":0,\"ticks\":\"\"},\"colorscale\":[[0.0,\"#0d0887\"],[0.1111111111111111,\"#46039f\"],[0.2222222222222222,\"#7201a8\"],[0.3333333333333333,\"#9c179e\"],[0.4444444444444444,\"#bd3786\"],[0.5555555555555556,\"#d8576b\"],[0.6666666666666666,\"#ed7953\"],[0.7777777777777778,\"#fb9f3a\"],[0.8888888888888888,\"#fdca26\"],[1.0,\"#f0f921\"]]}],\"contourcarpet\":[{\"type\":\"contourcarpet\",\"colorbar\":{\"outlinewidth\":0,\"ticks\":\"\"}}],\"contour\":[{\"type\":\"contour\",\"colorbar\":{\"outlinewidth\":0,\"ticks\":\"\"},\"colorscale\":[[0.0,\"#0d0887\"],[0.1111111111111111,\"#46039f\"],[0.2222222222222222,\"#7201a8\"],[0.3333333333333333,\"#9c179e\"],[0.4444444444444444,\"#bd3786\"],[0.5555555555555556,\"#d8576b\"],[0.6666666666666666,\"#ed7953\"],[0.7777777777777778,\"#fb9f3a\"],[0.8888888888888888,\"#fdca26\"],[1.0,\"#f0f921\"]]}],\"surface\":[{\"type\":\"surface\",\"colorbar\":{\"outlinewidth\":0,\"ticks\":\"\"},\"colorscale\":[[0.0,\"#0d0887\"],[0.1111111111111111,\"#46039f\"],[0.2222222222222222,\"#7201a8\"],[0.3333333333333333,\"#9c179e\"],[0.4444444444444444,\"#bd3786\"],[0.5555555555555556,\"#d8576b\"],[0.6666666666666666,\"#ed7953\"],[0.7777777777777778,\"#fb9f3a\"],[0.8888888888888888,\"#fdca26\"],[1.0,\"#f0f921\"]]}],\"mesh3d\":[{\"type\":\"mesh3d\",\"colorbar\":{\"outlinewidth\":0,\"ticks\":\"\"}}],\"scatter\":[{\"fillpattern\":{\"fillmode\":\"overlay\",\"size\":10,\"solidity\":0.2},\"type\":\"scatter\"}],\"parcoords\":[{\"type\":\"parcoords\",\"line\":{\"colorbar\":{\"outlinewidth\":0,\"ticks\":\"\"}}}],\"scatterpolargl\":[{\"type\":\"scatterpolargl\",\"marker\":{\"colorbar\":{\"outlinewidth\":0,\"ticks\":\"\"}}}],\"bar\":[{\"error_x\":{\"color\":\"#2a3f5f\"},\"error_y\":{\"color\":\"#2a3f5f\"},\"marker\":{\"line\":{\"color\":\"#E5ECF6\",\"width\":0.5},\"pattern\":{\"fillmode\":\"overlay\",\"size\":10,\"solidity\":0.2}},\"type\":\"bar\"}],\"scattergeo\":[{\"type\":\"scattergeo\",\"marker\":{\"colorbar\":{\"outlinewidth\":0,\"ticks\":\"\"}}}],\"scatterpolar\":[{\"type\":\"scatterpolar\",\"marker\":{\"colorbar\":{\"outlinewidth\":0,\"ticks\":\"\"}}}],\"histogram\":[{\"marker\":{\"pattern\":{\"fillmode\":\"overlay\",\"size\":10,\"solidity\":0.2}},\"type\":\"histogram\"}],\"scattergl\":[{\"type\":\"scattergl\",\"marker\":{\"colorbar\":{\"outlinewidth\":0,\"ticks\":\"\"}}}],\"scatter3d\":[{\"type\":\"scatter3d\",\"line\":{\"colorbar\":{\"outlinewidth\":0,\"ticks\":\"\"}},\"marker\":{\"colorbar\":{\"outlinewidth\":0,\"ticks\":\"\"}}}],\"scattermapbox\":[{\"type\":\"scattermapbox\",\"marker\":{\"colorbar\":{\"outlinewidth\":0,\"ticks\":\"\"}}}],\"scatterternary\":[{\"type\":\"scatterternary\",\"marker\":{\"colorbar\":{\"outlinewidth\":0,\"ticks\":\"\"}}}],\"scattercarpet\":[{\"type\":\"scattercarpet\",\"marker\":{\"colorbar\":{\"outlinewidth\":0,\"ticks\":\"\"}}}],\"carpet\":[{\"aaxis\":{\"endlinecolor\":\"#2a3f5f\",\"gridcolor\":\"white\",\"linecolor\":\"white\",\"minorgridcolor\":\"white\",\"startlinecolor\":\"#2a3f5f\"},\"baxis\":{\"endlinecolor\":\"#2a3f5f\",\"gridcolor\":\"white\",\"linecolor\":\"white\",\"minorgridcolor\":\"white\",\"startlinecolor\":\"#2a3f5f\"},\"type\":\"carpet\"}],\"table\":[{\"cells\":{\"fill\":{\"color\":\"#EBF0F8\"},\"line\":{\"color\":\"white\"}},\"header\":{\"fill\":{\"color\":\"#C8D4E3\"},\"line\":{\"color\":\"white\"}},\"type\":\"table\"}],\"barpolar\":[{\"marker\":{\"line\":{\"color\":\"#E5ECF6\",\"width\":0.5},\"pattern\":{\"fillmode\":\"overlay\",\"size\":10,\"solidity\":0.2}},\"type\":\"barpolar\"}],\"pie\":[{\"automargin\":true,\"type\":\"pie\"}]},\"layout\":{\"autotypenumbers\":\"strict\",\"colorway\":[\"#636efa\",\"#EF553B\",\"#00cc96\",\"#ab63fa\",\"#FFA15A\",\"#19d3f3\",\"#FF6692\",\"#B6E880\",\"#FF97FF\",\"#FECB52\"],\"font\":{\"color\":\"#2a3f5f\"},\"hovermode\":\"closest\",\"hoverlabel\":{\"align\":\"left\"},\"paper_bgcolor\":\"white\",\"plot_bgcolor\":\"#E5ECF6\",\"polar\":{\"bgcolor\":\"#E5ECF6\",\"angularaxis\":{\"gridcolor\":\"white\",\"linecolor\":\"white\",\"ticks\":\"\"},\"radialaxis\":{\"gridcolor\":\"white\",\"linecolor\":\"white\",\"ticks\":\"\"}},\"ternary\":{\"bgcolor\":\"#E5ECF6\",\"aaxis\":{\"gridcolor\":\"white\",\"linecolor\":\"white\",\"ticks\":\"\"},\"baxis\":{\"gridcolor\":\"white\",\"linecolor\":\"white\",\"ticks\":\"\"},\"caxis\":{\"gridcolor\":\"white\",\"linecolor\":\"white\",\"ticks\":\"\"}},\"coloraxis\":{\"colorbar\":{\"outlinewidth\":0,\"ticks\":\"\"}},\"colorscale\":{\"sequential\":[[0.0,\"#0d0887\"],[0.1111111111111111,\"#46039f\"],[0.2222222222222222,\"#7201a8\"],[0.3333333333333333,\"#9c179e\"],[0.4444444444444444,\"#bd3786\"],[0.5555555555555556,\"#d8576b\"],[0.6666666666666666,\"#ed7953\"],[0.7777777777777778,\"#fb9f3a\"],[0.8888888888888888,\"#fdca26\"],[1.0,\"#f0f921\"]],\"sequentialminus\":[[0.0,\"#0d0887\"],[0.1111111111111111,\"#46039f\"],[0.2222222222222222,\"#7201a8\"],[0.3333333333333333,\"#9c179e\"],[0.4444444444444444,\"#bd3786\"],[0.5555555555555556,\"#d8576b\"],[0.6666666666666666,\"#ed7953\"],[0.7777777777777778,\"#fb9f3a\"],[0.8888888888888888,\"#fdca26\"],[1.0,\"#f0f921\"]],\"diverging\":[[0,\"#8e0152\"],[0.1,\"#c51b7d\"],[0.2,\"#de77ae\"],[0.3,\"#f1b6da\"],[0.4,\"#fde0ef\"],[0.5,\"#f7f7f7\"],[0.6,\"#e6f5d0\"],[0.7,\"#b8e186\"],[0.8,\"#7fbc41\"],[0.9,\"#4d9221\"],[1,\"#276419\"]]},\"xaxis\":{\"gridcolor\":\"white\",\"linecolor\":\"white\",\"ticks\":\"\",\"title\":{\"standoff\":15},\"zerolinecolor\":\"white\",\"automargin\":true,\"zerolinewidth\":2},\"yaxis\":{\"gridcolor\":\"white\",\"linecolor\":\"white\",\"ticks\":\"\",\"title\":{\"standoff\":15},\"zerolinecolor\":\"white\",\"automargin\":true,\"zerolinewidth\":2},\"scene\":{\"xaxis\":{\"backgroundcolor\":\"#E5ECF6\",\"gridcolor\":\"white\",\"linecolor\":\"white\",\"showbackground\":true,\"ticks\":\"\",\"zerolinecolor\":\"white\",\"gridwidth\":2},\"yaxis\":{\"backgroundcolor\":\"#E5ECF6\",\"gridcolor\":\"white\",\"linecolor\":\"white\",\"showbackground\":true,\"ticks\":\"\",\"zerolinecolor\":\"white\",\"gridwidth\":2},\"zaxis\":{\"backgroundcolor\":\"#E5ECF6\",\"gridcolor\":\"white\",\"linecolor\":\"white\",\"showbackground\":true,\"ticks\":\"\",\"zerolinecolor\":\"white\",\"gridwidth\":2}},\"shapedefaults\":{\"line\":{\"color\":\"#2a3f5f\"}},\"annotationdefaults\":{\"arrowcolor\":\"#2a3f5f\",\"arrowhead\":0,\"arrowwidth\":1},\"geo\":{\"bgcolor\":\"white\",\"landcolor\":\"#E5ECF6\",\"subunitcolor\":\"white\",\"showland\":true,\"showlakes\":true,\"lakecolor\":\"white\"},\"title\":{\"x\":0.05},\"mapbox\":{\"style\":\"light\"}}},\"xaxis\":{\"anchor\":\"y\",\"domain\":[0.0,1.0],\"title\":{\"text\":\"GDP\"}},\"yaxis\":{\"anchor\":\"x\",\"domain\":[0.0,1.0],\"title\":{\"text\":\"% of alcohol drinkers\"}},\"legend\":{\"tracegroupgap\":0},\"margin\":{\"t\":60}},                        {\"responsive\": true}                    ).then(function(){\n",
       "                            \n",
       "var gd = document.getElementById('1c68b34e-c866-4710-b574-6f00df66adde');\n",
       "var x = new MutationObserver(function (mutations, observer) {{\n",
       "        var display = window.getComputedStyle(gd).display;\n",
       "        if (!display || display === 'none') {{\n",
       "            console.log([gd, 'removed!']);\n",
       "            Plotly.purge(gd);\n",
       "            observer.disconnect();\n",
       "        }}\n",
       "}});\n",
       "\n",
       "// Listen for the removal of the full notebook cells\n",
       "var notebookContainer = gd.closest('#notebook-container');\n",
       "if (notebookContainer) {{\n",
       "    x.observe(notebookContainer, {childList: true});\n",
       "}}\n",
       "\n",
       "// Listen for the clearing of the current output cell\n",
       "var outputEl = gd.closest('.output');\n",
       "if (outputEl) {{\n",
       "    x.observe(outputEl, {childList: true});\n",
       "}}\n",
       "\n",
       "                        })                };                });            </script>        </div>"
      ]
     },
     "metadata": {},
     "output_type": "display_data"
    }
   ],
   "source": [
    "px.scatter(df_consumption_pib[df_consumption_pib == 'BTSX'], x='GDP', y= '% of alcohol drinkers',  hover_name=\"Country\")"
   ]
  },
  {
   "cell_type": "code",
   "execution_count": 72,
   "metadata": {},
   "outputs": [
    {
     "data": {
      "application/vnd.plotly.v1+json": {
       "config": {
        "plotlyServerURL": "https://plot.ly"
       },
       "data": [
        {
         "hovertemplate": "<b>%{hovertext}</b><br><br>GDP=%{x}<br>% of alcohol drinkers=%{y}<extra></extra>",
         "hovertext": [
          "Libya",
          "Kuwait",
          "Afghanistan",
          "Solomon Islands",
          "Mauritania",
          "Pakistan",
          "Bangladesh",
          "Iran (Islamic Republic of)",
          "Sudan",
          "Morocco",
          "Egypt",
          "Jordan",
          "Algeria",
          "Iraq",
          "Tunisia",
          "Comoros",
          "Zimbabwe",
          "Oman",
          "Turkey",
          "Djibouti",
          "Bahrain",
          "Niger",
          "Tajikistan",
          "Madagascar",
          "Uzbekistan",
          "Kiribati",
          "Maldives",
          "Mozambique",
          "Timor-Leste",
          "Senegal",
          "Guinea",
          "Azerbaijan",
          "Mali",
          "Nauru",
          "Chad",
          "Ethiopia",
          "Indonesia",
          "Slovenia",
          "Vanuatu",
          "Papua New Guinea",
          "Malawi",
          "Kenya",
          "Tonga",
          "Tuvalu",
          "Micronesia (Federated States of)",
          "Togo",
          "Benin",
          "Kyrgyzstan",
          "Ghana",
          "Samoa",
          "Armenia",
          "Gambia",
          "Myanmar",
          "Zambia",
          "Guatemala",
          "Nepal",
          "Bhutan",
          "Guinea-Bissau",
          "Eswatini",
          "Fiji",
          "Lesotho",
          "Sri Lanka",
          "Malaysia",
          "Honduras",
          "United Arab Emirates",
          "Liberia",
          "El Salvador",
          "Turkmenistan",
          "Namibia",
          "Sierra Leone",
          "Somalia",
          "Mauritius",
          "Cambodia",
          "Botswana",
          "Burundi",
          "Nicaragua",
          "Philippines",
          "Cameroon",
          "Mongolia",
          "Sao Tome and Principe",
          "Jamaica",
          "Haiti",
          "Georgia",
          "Burkina Faso",
          "Paraguay",
          "Rwanda",
          "Democratic Republic of the Congo",
          "Uganda",
          "Costa Rica",
          "Viet Nam",
          "United Republic of Tanzania",
          "Côte d’Ivoire",
          "Central African Republic",
          "Cabo Verde",
          "Qatar",
          "India",
          "Colombia",
          "Guyana",
          "Lao People's Democratic Republic",
          "Kazakhstan",
          "Brazil",
          "Thailand",
          "Belize",
          "Suriname",
          "Brunei Darussalam",
          "Mexico",
          "Dominican Republic",
          "Lebanon",
          "Saudi Arabia",
          "Bahamas",
          "Dominica",
          "Bolivia (Plurinational State of)",
          "Saint Vincent and the Grenadines",
          "Ecuador",
          "Bosnia and Herzegovina",
          "Panama",
          "Angola",
          "Grenada",
          "Saint Lucia",
          "Antigua and Barbuda",
          "Barbados",
          "Albania",
          "Nigeria",
          "Congo",
          "Peru",
          "The former Yugoslav Republic of Macedonia",
          "Montenegro",
          "Seychelles",
          "Saint Kitts and Nevis",
          "Israel",
          "China",
          "Japan",
          "Trinidad and Tobago",
          "Croatia",
          "Serbia",
          "Malta",
          "Republic of Korea",
          "Canada",
          "Greece",
          "Bulgaria",
          "Gabon",
          "Italy",
          "Hungary",
          "Republic of Moldova",
          "Russian Federation",
          "Romania",
          "Argentina",
          "Chile",
          "Ukraine",
          "Poland",
          "Cyprus",
          "Spain",
          "Uruguay",
          "Portugal",
          "Singapore",
          "Slovakia",
          "Iceland",
          "United States of America",
          "Netherlands",
          "Equatorial Guinea",
          "Finland",
          "Sweden",
          "Estonia",
          "United Kingdom of Great Britain and Northern Ireland",
          "Denmark",
          "New Zealand",
          "Czechia",
          "Latvia",
          "France",
          "Belgium",
          "Austria",
          "Belarus",
          "Norway",
          "Australia",
          "Germany",
          "Lithuania",
          "Switzerland",
          "Ireland",
          "Luxembourg"
         ],
         "legendgroup": "",
         "marker": {
          "color": "#636efa",
          "symbol": "circle"
         },
         "mode": "markers",
         "name": "",
         "orientation": "v",
         "showlegend": false,
         "type": "scatter",
         "x": [
          10282.291080445799,
          49853.736280568395,
          1978.9615787218302,
          2482.87191978213,
          4983.2206333331,
          4622.77076938075,
          4818.09473660531,
          12433.296975476398,
          4022.86596657319,
          6916.34641150088,
          11951.4475270117,
          9816.554529716379,
          10681.6792969827,
          9255.25690289807,
          9727.504259265408,
          3140.6987716209196,
          2744.69075807126,
          27294.572976276402,
          28384.987784626297,
          5481.11481697609,
          40933.3526644217,
          1196.8775595747302,
          3657.57350716538,
          1510.1417261780898,
          6994.169411672621,
          2291.90721878662,
          13049.0466602078,
          1229.08001865892,
          3181.1371876024896,
          3300.0854932471,
          2670.82335507161,
          13699.665590318,
          2216.77326231685,
          13527.411941066,
          1519.91236158763,
          2296.82735215213,
          11444.9606828103,
          36547.7389559849,
          2762.791388307,
          4101.21888209216,
          1486.7782484347501,
          4220.440248463689,
          6378.1283460138,
          4411.00311573521,
          3466.4132928178196,
          2107.87726149934,
          3323.14445067303,
          4706.57023774883,
          5304.98352460298,
          6295.73184093032,
          12592.635367500901,
          2159.44190927585,
          4544.02156851419,
          3270.0351122855395,
          8393.28464317623,
          3800.06570306646,
          10909.1001689407,
          1847.4658239087803,
          8392.71756391091,
          10997.4734903847,
          2279.89587402333,
          12536.941756170401,
          26435.1715707484,
          5138.38539820015,
          67119.15324413701,
          1353.8429197635498,
          8056.543086128491,
          15538.4199701316,
          8893.813157202829,
          1648.05335993719,
          829.611428860091,
          19469.524588373897,
          4191.85000307807,
          16040.0084730125,
          731.063229715588,
          5280.14058082508,
          7953.58164428408,
          3576.34949945049,
          11470.6738325698,
          4051.60484448469,
          8741.55044328036,
          2773.08136431323,
          14089.3023335327,
          2160.51152951619,
          12335.472357184099,
          2098.7103615481,
          1072.21011269575,
          2177.59585383955,
          19679.2886412163,
          8200.33186703573,
          2635.3358910827,
          5174.1005527546295,
          928.589507504538,
          6045.06088485291,
          85266.2105859195,
          6118.3573301896495,
          13441.4929522564,
          18679.9802308198,
          7805.79855611968,
          25337.152399391,
          14063.9825053838,
          17286.866606887,
          6119.887686861539,
          16130.1708064491,
          62243.5831517924,
          17887.7507356971,
          17003.0130205346,
          11649.0501121276,
          44328.1839111257,
          30764.1159665551,
          9891.291939537192,
          7931.754309310621,
          12105.3813615785,
          10329.1987527594,
          14339.8311811662,
          25381.8484472504,
          6198.08384070806,
          15065.871953633101,
          12270.0132882689,
          17956.315715683002,
          12870.0425037649,
          13295.410884540901,
          4916.72138086439,
          3449.1456948178,
          11260.8457538125,
          15848.419293995501,
          18278.730791552,
          24361.8939424167,
          23259.3623116037,
          38341.3075704083,
          16410.7977967813,
          41380.0935773113,
          23728.1586459056,
          26465.1273096002,
          18210.004620461597,
          39222.1433509207,
          42251.4450571656,
          45856.6256264804,
          27287.0834009302,
          22383.805543642797,
          14399.868809411699,
          38992.1483807498,
          31007.768406543702,
          12324.736279383798,
          26456.3879381321,
          28832.6231487683,
          19686.523658911003,
          23324.524750650897,
          12377.0172931178,
          32238.157259275,
          37655.1803457421,
          36215.4475907307,
          21608.430271001398,
          32181.154537234303,
          93397.04880220199,
          30330.0428870265,
          52279.7288513646,
          60235.72849169691,
          54209.563835730194,
          17007.6247800252,
          47260.800458440994,
          50683.323509717804,
          35638.4213511812,
          41627.129269425,
          55938.2128086032,
          42404.3937381567,
          38319.3376633108,
          29932.4939100562,
          42025.6173730617,
          48210.033111344404,
          51935.603861815594,
          19148.1751007952,
          63585.90351429691,
          48697.8370282475,
          50922.358023448396,
          36732.034744031,
          68393.306003945,
          89688.9569584859,
          110261.157353302
         ],
         "xaxis": "x",
         "y": [
          0.1,
          0.6,
          0.7,
          0.7,
          0.9,
          1.2,
          2.2,
          3.5,
          2.3,
          2.6,
          2.8,
          3,
          3.2,
          3.1,
          5.2,
          4.1,
          17.6,
          8.3,
          6.9,
          19.7,
          8.8,
          20.2,
          20.7,
          20.9,
          20.8,
          12.1,
          7.9,
          21,
          21.6,
          21.1,
          21.6,
          21.9,
          21.9,
          22,
          22.4,
          22.6,
          22.7,
          13.5,
          13.6,
          13.7,
          23.7,
          23.9,
          14.2,
          14.4,
          15.2,
          25.7,
          26.1,
          25.9,
          26,
          16,
          26,
          26.7,
          27.1,
          27.3,
          27.3,
          27.1,
          29.6,
          28.8,
          28.8,
          17.7,
          17.8,
          28.7,
          29.6,
          29.8,
          18.5,
          30.8,
          29.4,
          30.4,
          30.3,
          30.9,
          31,
          31.2,
          30.9,
          32,
          31.6,
          32.5,
          33.1,
          33.8,
          33.6,
          34,
          34.9,
          35.1,
          35.1,
          36.9,
          36,
          35,
          36.4,
          36.3,
          36.6,
          99.4,
          36.4,
          38.5,
          37.6,
          39.4,
          45.6,
          38.8,
          38.3,
          39.1,
          40,
          39.9,
          40.3,
          40.9,
          41.5,
          42.2,
          33.3,
          42.7,
          43,
          6.1,
          5.8,
          43.8,
          45.2,
          45.4,
          46.6,
          46.5,
          47.9,
          47.7,
          47.7,
          49.6,
          49.7,
          49.4,
          50.5,
          51,
          52.6,
          51.7,
          53.2,
          53.7,
          54,
          54.9,
          54.8,
          55,
          55.9,
          57,
          58.7,
          59.7,
          60,
          63,
          63.9,
          64.5,
          65.4,
          66,
          66.5,
          67.8,
          66.6,
          66.6,
          58.1,
          67.2,
          67.4,
          67.6,
          61.8,
          68,
          68.8,
          68.6,
          68.9,
          69.2,
          70,
          71.3,
          71.5,
          71.7,
          72.1,
          72.9,
          72.5,
          73,
          72.8,
          73.4,
          74.4,
          74.6,
          75.4,
          75,
          75.3,
          76.5,
          78.1,
          73.6,
          79,
          79.4,
          79.4,
          79.1,
          81.2,
          81.3,
          91.8
         ],
         "yaxis": "y"
        }
       ],
       "layout": {
        "legend": {
         "tracegroupgap": 0
        },
        "margin": {
         "t": 60
        },
        "template": {
         "data": {
          "bar": [
           {
            "error_x": {
             "color": "#2a3f5f"
            },
            "error_y": {
             "color": "#2a3f5f"
            },
            "marker": {
             "line": {
              "color": "#E5ECF6",
              "width": 0.5
             },
             "pattern": {
              "fillmode": "overlay",
              "size": 10,
              "solidity": 0.2
             }
            },
            "type": "bar"
           }
          ],
          "barpolar": [
           {
            "marker": {
             "line": {
              "color": "#E5ECF6",
              "width": 0.5
             },
             "pattern": {
              "fillmode": "overlay",
              "size": 10,
              "solidity": 0.2
             }
            },
            "type": "barpolar"
           }
          ],
          "carpet": [
           {
            "aaxis": {
             "endlinecolor": "#2a3f5f",
             "gridcolor": "white",
             "linecolor": "white",
             "minorgridcolor": "white",
             "startlinecolor": "#2a3f5f"
            },
            "baxis": {
             "endlinecolor": "#2a3f5f",
             "gridcolor": "white",
             "linecolor": "white",
             "minorgridcolor": "white",
             "startlinecolor": "#2a3f5f"
            },
            "type": "carpet"
           }
          ],
          "choropleth": [
           {
            "colorbar": {
             "outlinewidth": 0,
             "ticks": ""
            },
            "type": "choropleth"
           }
          ],
          "contour": [
           {
            "colorbar": {
             "outlinewidth": 0,
             "ticks": ""
            },
            "colorscale": [
             [
              0,
              "#0d0887"
             ],
             [
              0.1111111111111111,
              "#46039f"
             ],
             [
              0.2222222222222222,
              "#7201a8"
             ],
             [
              0.3333333333333333,
              "#9c179e"
             ],
             [
              0.4444444444444444,
              "#bd3786"
             ],
             [
              0.5555555555555556,
              "#d8576b"
             ],
             [
              0.6666666666666666,
              "#ed7953"
             ],
             [
              0.7777777777777778,
              "#fb9f3a"
             ],
             [
              0.8888888888888888,
              "#fdca26"
             ],
             [
              1,
              "#f0f921"
             ]
            ],
            "type": "contour"
           }
          ],
          "contourcarpet": [
           {
            "colorbar": {
             "outlinewidth": 0,
             "ticks": ""
            },
            "type": "contourcarpet"
           }
          ],
          "heatmap": [
           {
            "colorbar": {
             "outlinewidth": 0,
             "ticks": ""
            },
            "colorscale": [
             [
              0,
              "#0d0887"
             ],
             [
              0.1111111111111111,
              "#46039f"
             ],
             [
              0.2222222222222222,
              "#7201a8"
             ],
             [
              0.3333333333333333,
              "#9c179e"
             ],
             [
              0.4444444444444444,
              "#bd3786"
             ],
             [
              0.5555555555555556,
              "#d8576b"
             ],
             [
              0.6666666666666666,
              "#ed7953"
             ],
             [
              0.7777777777777778,
              "#fb9f3a"
             ],
             [
              0.8888888888888888,
              "#fdca26"
             ],
             [
              1,
              "#f0f921"
             ]
            ],
            "type": "heatmap"
           }
          ],
          "heatmapgl": [
           {
            "colorbar": {
             "outlinewidth": 0,
             "ticks": ""
            },
            "colorscale": [
             [
              0,
              "#0d0887"
             ],
             [
              0.1111111111111111,
              "#46039f"
             ],
             [
              0.2222222222222222,
              "#7201a8"
             ],
             [
              0.3333333333333333,
              "#9c179e"
             ],
             [
              0.4444444444444444,
              "#bd3786"
             ],
             [
              0.5555555555555556,
              "#d8576b"
             ],
             [
              0.6666666666666666,
              "#ed7953"
             ],
             [
              0.7777777777777778,
              "#fb9f3a"
             ],
             [
              0.8888888888888888,
              "#fdca26"
             ],
             [
              1,
              "#f0f921"
             ]
            ],
            "type": "heatmapgl"
           }
          ],
          "histogram": [
           {
            "marker": {
             "pattern": {
              "fillmode": "overlay",
              "size": 10,
              "solidity": 0.2
             }
            },
            "type": "histogram"
           }
          ],
          "histogram2d": [
           {
            "colorbar": {
             "outlinewidth": 0,
             "ticks": ""
            },
            "colorscale": [
             [
              0,
              "#0d0887"
             ],
             [
              0.1111111111111111,
              "#46039f"
             ],
             [
              0.2222222222222222,
              "#7201a8"
             ],
             [
              0.3333333333333333,
              "#9c179e"
             ],
             [
              0.4444444444444444,
              "#bd3786"
             ],
             [
              0.5555555555555556,
              "#d8576b"
             ],
             [
              0.6666666666666666,
              "#ed7953"
             ],
             [
              0.7777777777777778,
              "#fb9f3a"
             ],
             [
              0.8888888888888888,
              "#fdca26"
             ],
             [
              1,
              "#f0f921"
             ]
            ],
            "type": "histogram2d"
           }
          ],
          "histogram2dcontour": [
           {
            "colorbar": {
             "outlinewidth": 0,
             "ticks": ""
            },
            "colorscale": [
             [
              0,
              "#0d0887"
             ],
             [
              0.1111111111111111,
              "#46039f"
             ],
             [
              0.2222222222222222,
              "#7201a8"
             ],
             [
              0.3333333333333333,
              "#9c179e"
             ],
             [
              0.4444444444444444,
              "#bd3786"
             ],
             [
              0.5555555555555556,
              "#d8576b"
             ],
             [
              0.6666666666666666,
              "#ed7953"
             ],
             [
              0.7777777777777778,
              "#fb9f3a"
             ],
             [
              0.8888888888888888,
              "#fdca26"
             ],
             [
              1,
              "#f0f921"
             ]
            ],
            "type": "histogram2dcontour"
           }
          ],
          "mesh3d": [
           {
            "colorbar": {
             "outlinewidth": 0,
             "ticks": ""
            },
            "type": "mesh3d"
           }
          ],
          "parcoords": [
           {
            "line": {
             "colorbar": {
              "outlinewidth": 0,
              "ticks": ""
             }
            },
            "type": "parcoords"
           }
          ],
          "pie": [
           {
            "automargin": true,
            "type": "pie"
           }
          ],
          "scatter": [
           {
            "fillpattern": {
             "fillmode": "overlay",
             "size": 10,
             "solidity": 0.2
            },
            "type": "scatter"
           }
          ],
          "scatter3d": [
           {
            "line": {
             "colorbar": {
              "outlinewidth": 0,
              "ticks": ""
             }
            },
            "marker": {
             "colorbar": {
              "outlinewidth": 0,
              "ticks": ""
             }
            },
            "type": "scatter3d"
           }
          ],
          "scattercarpet": [
           {
            "marker": {
             "colorbar": {
              "outlinewidth": 0,
              "ticks": ""
             }
            },
            "type": "scattercarpet"
           }
          ],
          "scattergeo": [
           {
            "marker": {
             "colorbar": {
              "outlinewidth": 0,
              "ticks": ""
             }
            },
            "type": "scattergeo"
           }
          ],
          "scattergl": [
           {
            "marker": {
             "colorbar": {
              "outlinewidth": 0,
              "ticks": ""
             }
            },
            "type": "scattergl"
           }
          ],
          "scattermapbox": [
           {
            "marker": {
             "colorbar": {
              "outlinewidth": 0,
              "ticks": ""
             }
            },
            "type": "scattermapbox"
           }
          ],
          "scatterpolar": [
           {
            "marker": {
             "colorbar": {
              "outlinewidth": 0,
              "ticks": ""
             }
            },
            "type": "scatterpolar"
           }
          ],
          "scatterpolargl": [
           {
            "marker": {
             "colorbar": {
              "outlinewidth": 0,
              "ticks": ""
             }
            },
            "type": "scatterpolargl"
           }
          ],
          "scatterternary": [
           {
            "marker": {
             "colorbar": {
              "outlinewidth": 0,
              "ticks": ""
             }
            },
            "type": "scatterternary"
           }
          ],
          "surface": [
           {
            "colorbar": {
             "outlinewidth": 0,
             "ticks": ""
            },
            "colorscale": [
             [
              0,
              "#0d0887"
             ],
             [
              0.1111111111111111,
              "#46039f"
             ],
             [
              0.2222222222222222,
              "#7201a8"
             ],
             [
              0.3333333333333333,
              "#9c179e"
             ],
             [
              0.4444444444444444,
              "#bd3786"
             ],
             [
              0.5555555555555556,
              "#d8576b"
             ],
             [
              0.6666666666666666,
              "#ed7953"
             ],
             [
              0.7777777777777778,
              "#fb9f3a"
             ],
             [
              0.8888888888888888,
              "#fdca26"
             ],
             [
              1,
              "#f0f921"
             ]
            ],
            "type": "surface"
           }
          ],
          "table": [
           {
            "cells": {
             "fill": {
              "color": "#EBF0F8"
             },
             "line": {
              "color": "white"
             }
            },
            "header": {
             "fill": {
              "color": "#C8D4E3"
             },
             "line": {
              "color": "white"
             }
            },
            "type": "table"
           }
          ]
         },
         "layout": {
          "annotationdefaults": {
           "arrowcolor": "#2a3f5f",
           "arrowhead": 0,
           "arrowwidth": 1
          },
          "autotypenumbers": "strict",
          "coloraxis": {
           "colorbar": {
            "outlinewidth": 0,
            "ticks": ""
           }
          },
          "colorscale": {
           "diverging": [
            [
             0,
             "#8e0152"
            ],
            [
             0.1,
             "#c51b7d"
            ],
            [
             0.2,
             "#de77ae"
            ],
            [
             0.3,
             "#f1b6da"
            ],
            [
             0.4,
             "#fde0ef"
            ],
            [
             0.5,
             "#f7f7f7"
            ],
            [
             0.6,
             "#e6f5d0"
            ],
            [
             0.7,
             "#b8e186"
            ],
            [
             0.8,
             "#7fbc41"
            ],
            [
             0.9,
             "#4d9221"
            ],
            [
             1,
             "#276419"
            ]
           ],
           "sequential": [
            [
             0,
             "#0d0887"
            ],
            [
             0.1111111111111111,
             "#46039f"
            ],
            [
             0.2222222222222222,
             "#7201a8"
            ],
            [
             0.3333333333333333,
             "#9c179e"
            ],
            [
             0.4444444444444444,
             "#bd3786"
            ],
            [
             0.5555555555555556,
             "#d8576b"
            ],
            [
             0.6666666666666666,
             "#ed7953"
            ],
            [
             0.7777777777777778,
             "#fb9f3a"
            ],
            [
             0.8888888888888888,
             "#fdca26"
            ],
            [
             1,
             "#f0f921"
            ]
           ],
           "sequentialminus": [
            [
             0,
             "#0d0887"
            ],
            [
             0.1111111111111111,
             "#46039f"
            ],
            [
             0.2222222222222222,
             "#7201a8"
            ],
            [
             0.3333333333333333,
             "#9c179e"
            ],
            [
             0.4444444444444444,
             "#bd3786"
            ],
            [
             0.5555555555555556,
             "#d8576b"
            ],
            [
             0.6666666666666666,
             "#ed7953"
            ],
            [
             0.7777777777777778,
             "#fb9f3a"
            ],
            [
             0.8888888888888888,
             "#fdca26"
            ],
            [
             1,
             "#f0f921"
            ]
           ]
          },
          "colorway": [
           "#636efa",
           "#EF553B",
           "#00cc96",
           "#ab63fa",
           "#FFA15A",
           "#19d3f3",
           "#FF6692",
           "#B6E880",
           "#FF97FF",
           "#FECB52"
          ],
          "font": {
           "color": "#2a3f5f"
          },
          "geo": {
           "bgcolor": "white",
           "lakecolor": "white",
           "landcolor": "#E5ECF6",
           "showlakes": true,
           "showland": true,
           "subunitcolor": "white"
          },
          "hoverlabel": {
           "align": "left"
          },
          "hovermode": "closest",
          "mapbox": {
           "style": "light"
          },
          "paper_bgcolor": "white",
          "plot_bgcolor": "#E5ECF6",
          "polar": {
           "angularaxis": {
            "gridcolor": "white",
            "linecolor": "white",
            "ticks": ""
           },
           "bgcolor": "#E5ECF6",
           "radialaxis": {
            "gridcolor": "white",
            "linecolor": "white",
            "ticks": ""
           }
          },
          "scene": {
           "xaxis": {
            "backgroundcolor": "#E5ECF6",
            "gridcolor": "white",
            "gridwidth": 2,
            "linecolor": "white",
            "showbackground": true,
            "ticks": "",
            "zerolinecolor": "white"
           },
           "yaxis": {
            "backgroundcolor": "#E5ECF6",
            "gridcolor": "white",
            "gridwidth": 2,
            "linecolor": "white",
            "showbackground": true,
            "ticks": "",
            "zerolinecolor": "white"
           },
           "zaxis": {
            "backgroundcolor": "#E5ECF6",
            "gridcolor": "white",
            "gridwidth": 2,
            "linecolor": "white",
            "showbackground": true,
            "ticks": "",
            "zerolinecolor": "white"
           }
          },
          "shapedefaults": {
           "line": {
            "color": "#2a3f5f"
           }
          },
          "ternary": {
           "aaxis": {
            "gridcolor": "white",
            "linecolor": "white",
            "ticks": ""
           },
           "baxis": {
            "gridcolor": "white",
            "linecolor": "white",
            "ticks": ""
           },
           "bgcolor": "#E5ECF6",
           "caxis": {
            "gridcolor": "white",
            "linecolor": "white",
            "ticks": ""
           }
          },
          "title": {
           "x": 0.05
          },
          "xaxis": {
           "automargin": true,
           "gridcolor": "white",
           "linecolor": "white",
           "ticks": "",
           "title": {
            "standoff": 15
           },
           "zerolinecolor": "white",
           "zerolinewidth": 2
          },
          "yaxis": {
           "automargin": true,
           "gridcolor": "white",
           "linecolor": "white",
           "ticks": "",
           "title": {
            "standoff": 15
           },
           "zerolinecolor": "white",
           "zerolinewidth": 2
          }
         }
        },
        "xaxis": {
         "anchor": "y",
         "domain": [
          0,
          1
         ],
         "title": {
          "text": "GDP"
         }
        },
        "yaxis": {
         "anchor": "x",
         "domain": [
          0,
          1
         ],
         "title": {
          "text": "% of alcohol drinkers"
         }
        }
       }
      },
      "text/html": [
       "<div>                            <div id=\"43e1c8da-9cfd-4463-a680-27af54555aa8\" class=\"plotly-graph-div\" style=\"height:525px; width:100%;\"></div>            <script type=\"text/javascript\">                require([\"plotly\"], function(Plotly) {                    window.PLOTLYENV=window.PLOTLYENV || {};                                    if (document.getElementById(\"43e1c8da-9cfd-4463-a680-27af54555aa8\")) {                    Plotly.newPlot(                        \"43e1c8da-9cfd-4463-a680-27af54555aa8\",                        [{\"hovertemplate\":\"<b>%{hovertext}</b><br><br>GDP=%{x}<br>% of alcohol drinkers=%{y}<extra></extra>\",\"hovertext\":[\"Libya\",\"Kuwait\",\"Afghanistan\",\"Solomon Islands\",\"Mauritania\",\"Pakistan\",\"Bangladesh\",\"Iran (Islamic Republic of)\",\"Sudan\",\"Morocco\",\"Egypt\",\"Jordan\",\"Algeria\",\"Iraq\",\"Tunisia\",\"Comoros\",\"Zimbabwe\",\"Oman\",\"Turkey\",\"Djibouti\",\"Bahrain\",\"Niger\",\"Tajikistan\",\"Madagascar\",\"Uzbekistan\",\"Kiribati\",\"Maldives\",\"Mozambique\",\"Timor-Leste\",\"Senegal\",\"Guinea\",\"Azerbaijan\",\"Mali\",\"Nauru\",\"Chad\",\"Ethiopia\",\"Indonesia\",\"Slovenia\",\"Vanuatu\",\"Papua New Guinea\",\"Malawi\",\"Kenya\",\"Tonga\",\"Tuvalu\",\"Micronesia (Federated States of)\",\"Togo\",\"Benin\",\"Kyrgyzstan\",\"Ghana\",\"Samoa\",\"Armenia\",\"Gambia\",\"Myanmar\",\"Zambia\",\"Guatemala\",\"Nepal\",\"Bhutan\",\"Guinea-Bissau\",\"Eswatini\",\"Fiji\",\"Lesotho\",\"Sri Lanka\",\"Malaysia\",\"Honduras\",\"United Arab Emirates\",\"Liberia\",\"El Salvador\",\"Turkmenistan\",\"Namibia\",\"Sierra Leone\",\"Somalia\",\"Mauritius\",\"Cambodia\",\"Botswana\",\"Burundi\",\"Nicaragua\",\"Philippines\",\"Cameroon\",\"Mongolia\",\"Sao Tome and Principe\",\"Jamaica\",\"Haiti\",\"Georgia\",\"Burkina Faso\",\"Paraguay\",\"Rwanda\",\"Democratic Republic of the Congo\",\"Uganda\",\"Costa Rica\",\"Viet Nam\",\"United Republic of Tanzania\",\"C\\u00f4te d\\u2019Ivoire\",\"Central African Republic\",\"Cabo Verde\",\"Qatar\",\"India\",\"Colombia\",\"Guyana\",\"Lao People's Democratic Republic\",\"Kazakhstan\",\"Brazil\",\"Thailand\",\"Belize\",\"Suriname\",\"Brunei Darussalam\",\"Mexico\",\"Dominican Republic\",\"Lebanon\",\"Saudi Arabia\",\"Bahamas\",\"Dominica\",\"Bolivia (Plurinational State of)\",\"Saint Vincent and the Grenadines\",\"Ecuador\",\"Bosnia and Herzegovina\",\"Panama\",\"Angola\",\"Grenada\",\"Saint Lucia\",\"Antigua and Barbuda\",\"Barbados\",\"Albania\",\"Nigeria\",\"Congo\",\"Peru\",\"The former Yugoslav Republic of Macedonia\",\"Montenegro\",\"Seychelles\",\"Saint Kitts and Nevis\",\"Israel\",\"China\",\"Japan\",\"Trinidad and Tobago\",\"Croatia\",\"Serbia\",\"Malta\",\"Republic of Korea\",\"Canada\",\"Greece\",\"Bulgaria\",\"Gabon\",\"Italy\",\"Hungary\",\"Republic of Moldova\",\"Russian Federation\",\"Romania\",\"Argentina\",\"Chile\",\"Ukraine\",\"Poland\",\"Cyprus\",\"Spain\",\"Uruguay\",\"Portugal\",\"Singapore\",\"Slovakia\",\"Iceland\",\"United States of America\",\"Netherlands\",\"Equatorial Guinea\",\"Finland\",\"Sweden\",\"Estonia\",\"United Kingdom of Great Britain and Northern Ireland\",\"Denmark\",\"New Zealand\",\"Czechia\",\"Latvia\",\"France\",\"Belgium\",\"Austria\",\"Belarus\",\"Norway\",\"Australia\",\"Germany\",\"Lithuania\",\"Switzerland\",\"Ireland\",\"Luxembourg\"],\"legendgroup\":\"\",\"marker\":{\"color\":\"#636efa\",\"symbol\":\"circle\"},\"mode\":\"markers\",\"name\":\"\",\"orientation\":\"v\",\"showlegend\":false,\"x\":[10282.291080445799,49853.736280568395,1978.9615787218302,2482.87191978213,4983.2206333331,4622.77076938075,4818.09473660531,12433.296975476398,4022.86596657319,6916.34641150088,11951.4475270117,9816.554529716379,10681.6792969827,9255.25690289807,9727.504259265408,3140.6987716209196,2744.69075807126,27294.572976276402,28384.987784626297,5481.11481697609,40933.3526644217,1196.8775595747302,3657.57350716538,1510.1417261780898,6994.169411672621,2291.90721878662,13049.0466602078,1229.08001865892,3181.1371876024896,3300.0854932471,2670.82335507161,13699.665590318,2216.77326231685,13527.411941066,1519.91236158763,2296.82735215213,11444.9606828103,36547.7389559849,2762.791388307,4101.21888209216,1486.7782484347501,4220.440248463689,6378.1283460138,4411.00311573521,3466.4132928178196,2107.87726149934,3323.14445067303,4706.57023774883,5304.98352460298,6295.73184093032,12592.635367500901,2159.44190927585,4544.02156851419,3270.0351122855395,8393.28464317623,3800.06570306646,10909.1001689407,1847.4658239087803,8392.71756391091,10997.4734903847,2279.89587402333,12536.941756170401,26435.1715707484,5138.38539820015,67119.15324413701,1353.8429197635498,8056.543086128491,15538.4199701316,8893.813157202829,1648.05335993719,829.611428860091,19469.524588373897,4191.85000307807,16040.0084730125,731.063229715588,5280.14058082508,7953.58164428408,3576.34949945049,11470.6738325698,4051.60484448469,8741.55044328036,2773.08136431323,14089.3023335327,2160.51152951619,12335.472357184099,2098.7103615481,1072.21011269575,2177.59585383955,19679.2886412163,8200.33186703573,2635.3358910827,5174.1005527546295,928.589507504538,6045.06088485291,85266.2105859195,6118.3573301896495,13441.4929522564,18679.9802308198,7805.79855611968,25337.152399391,14063.9825053838,17286.866606887,6119.887686861539,16130.1708064491,62243.5831517924,17887.7507356971,17003.0130205346,11649.0501121276,44328.1839111257,30764.1159665551,9891.291939537192,7931.754309310621,12105.3813615785,10329.1987527594,14339.8311811662,25381.8484472504,6198.08384070806,15065.871953633101,12270.0132882689,17956.315715683002,12870.0425037649,13295.410884540901,4916.72138086439,3449.1456948178,11260.8457538125,15848.419293995501,18278.730791552,24361.8939424167,23259.3623116037,38341.3075704083,16410.7977967813,41380.0935773113,23728.1586459056,26465.1273096002,18210.004620461597,39222.1433509207,42251.4450571656,45856.6256264804,27287.0834009302,22383.805543642797,14399.868809411699,38992.1483807498,31007.768406543702,12324.736279383798,26456.3879381321,28832.6231487683,19686.523658911003,23324.524750650897,12377.0172931178,32238.157259275,37655.1803457421,36215.4475907307,21608.430271001398,32181.154537234303,93397.04880220199,30330.0428870265,52279.7288513646,60235.72849169691,54209.563835730194,17007.6247800252,47260.800458440994,50683.323509717804,35638.4213511812,41627.129269425,55938.2128086032,42404.3937381567,38319.3376633108,29932.4939100562,42025.6173730617,48210.033111344404,51935.603861815594,19148.1751007952,63585.90351429691,48697.8370282475,50922.358023448396,36732.034744031,68393.306003945,89688.9569584859,110261.157353302],\"xaxis\":\"x\",\"y\":[0.1,0.6,0.7,0.7,0.9,1.2,2.2,3.5,2.3,2.6,2.8,3.0,3.2,3.1,5.2,4.1,17.6,8.3,6.9,19.7,8.8,20.2,20.7,20.9,20.8,12.1,7.9,21.0,21.6,21.1,21.6,21.9,21.9,22.0,22.4,22.6,22.7,13.5,13.6,13.7,23.7,23.9,14.2,14.4,15.2,25.7,26.1,25.9,26.0,16.0,26.0,26.7,27.1,27.3,27.3,27.1,29.6,28.8,28.8,17.7,17.8,28.7,29.6,29.8,18.5,30.8,29.4,30.4,30.3,30.9,31.0,31.2,30.9,32.0,31.6,32.5,33.1,33.8,33.6,34.0,34.9,35.1,35.1,36.9,36.0,35.0,36.4,36.3,36.6,99.4,36.4,38.5,37.6,39.4,45.6,38.8,38.3,39.1,40.0,39.9,40.3,40.9,41.5,42.2,33.3,42.7,43.0,6.1,5.8,43.8,45.2,45.4,46.6,46.5,47.9,47.7,47.7,49.6,49.7,49.4,50.5,51.0,52.6,51.7,53.2,53.7,54.0,54.9,54.8,55.0,55.9,57.0,58.7,59.7,60.0,63.0,63.9,64.5,65.4,66.0,66.5,67.8,66.6,66.6,58.1,67.2,67.4,67.6,61.8,68.0,68.8,68.6,68.9,69.2,70.0,71.3,71.5,71.7,72.1,72.9,72.5,73.0,72.8,73.4,74.4,74.6,75.4,75.0,75.3,76.5,78.1,73.6,79.0,79.4,79.4,79.1,81.2,81.3,91.8],\"yaxis\":\"y\",\"type\":\"scatter\"}],                        {\"template\":{\"data\":{\"histogram2dcontour\":[{\"type\":\"histogram2dcontour\",\"colorbar\":{\"outlinewidth\":0,\"ticks\":\"\"},\"colorscale\":[[0.0,\"#0d0887\"],[0.1111111111111111,\"#46039f\"],[0.2222222222222222,\"#7201a8\"],[0.3333333333333333,\"#9c179e\"],[0.4444444444444444,\"#bd3786\"],[0.5555555555555556,\"#d8576b\"],[0.6666666666666666,\"#ed7953\"],[0.7777777777777778,\"#fb9f3a\"],[0.8888888888888888,\"#fdca26\"],[1.0,\"#f0f921\"]]}],\"choropleth\":[{\"type\":\"choropleth\",\"colorbar\":{\"outlinewidth\":0,\"ticks\":\"\"}}],\"histogram2d\":[{\"type\":\"histogram2d\",\"colorbar\":{\"outlinewidth\":0,\"ticks\":\"\"},\"colorscale\":[[0.0,\"#0d0887\"],[0.1111111111111111,\"#46039f\"],[0.2222222222222222,\"#7201a8\"],[0.3333333333333333,\"#9c179e\"],[0.4444444444444444,\"#bd3786\"],[0.5555555555555556,\"#d8576b\"],[0.6666666666666666,\"#ed7953\"],[0.7777777777777778,\"#fb9f3a\"],[0.8888888888888888,\"#fdca26\"],[1.0,\"#f0f921\"]]}],\"heatmap\":[{\"type\":\"heatmap\",\"colorbar\":{\"outlinewidth\":0,\"ticks\":\"\"},\"colorscale\":[[0.0,\"#0d0887\"],[0.1111111111111111,\"#46039f\"],[0.2222222222222222,\"#7201a8\"],[0.3333333333333333,\"#9c179e\"],[0.4444444444444444,\"#bd3786\"],[0.5555555555555556,\"#d8576b\"],[0.6666666666666666,\"#ed7953\"],[0.7777777777777778,\"#fb9f3a\"],[0.8888888888888888,\"#fdca26\"],[1.0,\"#f0f921\"]]}],\"heatmapgl\":[{\"type\":\"heatmapgl\",\"colorbar\":{\"outlinewidth\":0,\"ticks\":\"\"},\"colorscale\":[[0.0,\"#0d0887\"],[0.1111111111111111,\"#46039f\"],[0.2222222222222222,\"#7201a8\"],[0.3333333333333333,\"#9c179e\"],[0.4444444444444444,\"#bd3786\"],[0.5555555555555556,\"#d8576b\"],[0.6666666666666666,\"#ed7953\"],[0.7777777777777778,\"#fb9f3a\"],[0.8888888888888888,\"#fdca26\"],[1.0,\"#f0f921\"]]}],\"contourcarpet\":[{\"type\":\"contourcarpet\",\"colorbar\":{\"outlinewidth\":0,\"ticks\":\"\"}}],\"contour\":[{\"type\":\"contour\",\"colorbar\":{\"outlinewidth\":0,\"ticks\":\"\"},\"colorscale\":[[0.0,\"#0d0887\"],[0.1111111111111111,\"#46039f\"],[0.2222222222222222,\"#7201a8\"],[0.3333333333333333,\"#9c179e\"],[0.4444444444444444,\"#bd3786\"],[0.5555555555555556,\"#d8576b\"],[0.6666666666666666,\"#ed7953\"],[0.7777777777777778,\"#fb9f3a\"],[0.8888888888888888,\"#fdca26\"],[1.0,\"#f0f921\"]]}],\"surface\":[{\"type\":\"surface\",\"colorbar\":{\"outlinewidth\":0,\"ticks\":\"\"},\"colorscale\":[[0.0,\"#0d0887\"],[0.1111111111111111,\"#46039f\"],[0.2222222222222222,\"#7201a8\"],[0.3333333333333333,\"#9c179e\"],[0.4444444444444444,\"#bd3786\"],[0.5555555555555556,\"#d8576b\"],[0.6666666666666666,\"#ed7953\"],[0.7777777777777778,\"#fb9f3a\"],[0.8888888888888888,\"#fdca26\"],[1.0,\"#f0f921\"]]}],\"mesh3d\":[{\"type\":\"mesh3d\",\"colorbar\":{\"outlinewidth\":0,\"ticks\":\"\"}}],\"scatter\":[{\"fillpattern\":{\"fillmode\":\"overlay\",\"size\":10,\"solidity\":0.2},\"type\":\"scatter\"}],\"parcoords\":[{\"type\":\"parcoords\",\"line\":{\"colorbar\":{\"outlinewidth\":0,\"ticks\":\"\"}}}],\"scatterpolargl\":[{\"type\":\"scatterpolargl\",\"marker\":{\"colorbar\":{\"outlinewidth\":0,\"ticks\":\"\"}}}],\"bar\":[{\"error_x\":{\"color\":\"#2a3f5f\"},\"error_y\":{\"color\":\"#2a3f5f\"},\"marker\":{\"line\":{\"color\":\"#E5ECF6\",\"width\":0.5},\"pattern\":{\"fillmode\":\"overlay\",\"size\":10,\"solidity\":0.2}},\"type\":\"bar\"}],\"scattergeo\":[{\"type\":\"scattergeo\",\"marker\":{\"colorbar\":{\"outlinewidth\":0,\"ticks\":\"\"}}}],\"scatterpolar\":[{\"type\":\"scatterpolar\",\"marker\":{\"colorbar\":{\"outlinewidth\":0,\"ticks\":\"\"}}}],\"histogram\":[{\"marker\":{\"pattern\":{\"fillmode\":\"overlay\",\"size\":10,\"solidity\":0.2}},\"type\":\"histogram\"}],\"scattergl\":[{\"type\":\"scattergl\",\"marker\":{\"colorbar\":{\"outlinewidth\":0,\"ticks\":\"\"}}}],\"scatter3d\":[{\"type\":\"scatter3d\",\"line\":{\"colorbar\":{\"outlinewidth\":0,\"ticks\":\"\"}},\"marker\":{\"colorbar\":{\"outlinewidth\":0,\"ticks\":\"\"}}}],\"scattermapbox\":[{\"type\":\"scattermapbox\",\"marker\":{\"colorbar\":{\"outlinewidth\":0,\"ticks\":\"\"}}}],\"scatterternary\":[{\"type\":\"scatterternary\",\"marker\":{\"colorbar\":{\"outlinewidth\":0,\"ticks\":\"\"}}}],\"scattercarpet\":[{\"type\":\"scattercarpet\",\"marker\":{\"colorbar\":{\"outlinewidth\":0,\"ticks\":\"\"}}}],\"carpet\":[{\"aaxis\":{\"endlinecolor\":\"#2a3f5f\",\"gridcolor\":\"white\",\"linecolor\":\"white\",\"minorgridcolor\":\"white\",\"startlinecolor\":\"#2a3f5f\"},\"baxis\":{\"endlinecolor\":\"#2a3f5f\",\"gridcolor\":\"white\",\"linecolor\":\"white\",\"minorgridcolor\":\"white\",\"startlinecolor\":\"#2a3f5f\"},\"type\":\"carpet\"}],\"table\":[{\"cells\":{\"fill\":{\"color\":\"#EBF0F8\"},\"line\":{\"color\":\"white\"}},\"header\":{\"fill\":{\"color\":\"#C8D4E3\"},\"line\":{\"color\":\"white\"}},\"type\":\"table\"}],\"barpolar\":[{\"marker\":{\"line\":{\"color\":\"#E5ECF6\",\"width\":0.5},\"pattern\":{\"fillmode\":\"overlay\",\"size\":10,\"solidity\":0.2}},\"type\":\"barpolar\"}],\"pie\":[{\"automargin\":true,\"type\":\"pie\"}]},\"layout\":{\"autotypenumbers\":\"strict\",\"colorway\":[\"#636efa\",\"#EF553B\",\"#00cc96\",\"#ab63fa\",\"#FFA15A\",\"#19d3f3\",\"#FF6692\",\"#B6E880\",\"#FF97FF\",\"#FECB52\"],\"font\":{\"color\":\"#2a3f5f\"},\"hovermode\":\"closest\",\"hoverlabel\":{\"align\":\"left\"},\"paper_bgcolor\":\"white\",\"plot_bgcolor\":\"#E5ECF6\",\"polar\":{\"bgcolor\":\"#E5ECF6\",\"angularaxis\":{\"gridcolor\":\"white\",\"linecolor\":\"white\",\"ticks\":\"\"},\"radialaxis\":{\"gridcolor\":\"white\",\"linecolor\":\"white\",\"ticks\":\"\"}},\"ternary\":{\"bgcolor\":\"#E5ECF6\",\"aaxis\":{\"gridcolor\":\"white\",\"linecolor\":\"white\",\"ticks\":\"\"},\"baxis\":{\"gridcolor\":\"white\",\"linecolor\":\"white\",\"ticks\":\"\"},\"caxis\":{\"gridcolor\":\"white\",\"linecolor\":\"white\",\"ticks\":\"\"}},\"coloraxis\":{\"colorbar\":{\"outlinewidth\":0,\"ticks\":\"\"}},\"colorscale\":{\"sequential\":[[0.0,\"#0d0887\"],[0.1111111111111111,\"#46039f\"],[0.2222222222222222,\"#7201a8\"],[0.3333333333333333,\"#9c179e\"],[0.4444444444444444,\"#bd3786\"],[0.5555555555555556,\"#d8576b\"],[0.6666666666666666,\"#ed7953\"],[0.7777777777777778,\"#fb9f3a\"],[0.8888888888888888,\"#fdca26\"],[1.0,\"#f0f921\"]],\"sequentialminus\":[[0.0,\"#0d0887\"],[0.1111111111111111,\"#46039f\"],[0.2222222222222222,\"#7201a8\"],[0.3333333333333333,\"#9c179e\"],[0.4444444444444444,\"#bd3786\"],[0.5555555555555556,\"#d8576b\"],[0.6666666666666666,\"#ed7953\"],[0.7777777777777778,\"#fb9f3a\"],[0.8888888888888888,\"#fdca26\"],[1.0,\"#f0f921\"]],\"diverging\":[[0,\"#8e0152\"],[0.1,\"#c51b7d\"],[0.2,\"#de77ae\"],[0.3,\"#f1b6da\"],[0.4,\"#fde0ef\"],[0.5,\"#f7f7f7\"],[0.6,\"#e6f5d0\"],[0.7,\"#b8e186\"],[0.8,\"#7fbc41\"],[0.9,\"#4d9221\"],[1,\"#276419\"]]},\"xaxis\":{\"gridcolor\":\"white\",\"linecolor\":\"white\",\"ticks\":\"\",\"title\":{\"standoff\":15},\"zerolinecolor\":\"white\",\"automargin\":true,\"zerolinewidth\":2},\"yaxis\":{\"gridcolor\":\"white\",\"linecolor\":\"white\",\"ticks\":\"\",\"title\":{\"standoff\":15},\"zerolinecolor\":\"white\",\"automargin\":true,\"zerolinewidth\":2},\"scene\":{\"xaxis\":{\"backgroundcolor\":\"#E5ECF6\",\"gridcolor\":\"white\",\"linecolor\":\"white\",\"showbackground\":true,\"ticks\":\"\",\"zerolinecolor\":\"white\",\"gridwidth\":2},\"yaxis\":{\"backgroundcolor\":\"#E5ECF6\",\"gridcolor\":\"white\",\"linecolor\":\"white\",\"showbackground\":true,\"ticks\":\"\",\"zerolinecolor\":\"white\",\"gridwidth\":2},\"zaxis\":{\"backgroundcolor\":\"#E5ECF6\",\"gridcolor\":\"white\",\"linecolor\":\"white\",\"showbackground\":true,\"ticks\":\"\",\"zerolinecolor\":\"white\",\"gridwidth\":2}},\"shapedefaults\":{\"line\":{\"color\":\"#2a3f5f\"}},\"annotationdefaults\":{\"arrowcolor\":\"#2a3f5f\",\"arrowhead\":0,\"arrowwidth\":1},\"geo\":{\"bgcolor\":\"white\",\"landcolor\":\"#E5ECF6\",\"subunitcolor\":\"white\",\"showland\":true,\"showlakes\":true,\"lakecolor\":\"white\"},\"title\":{\"x\":0.05},\"mapbox\":{\"style\":\"light\"}}},\"xaxis\":{\"anchor\":\"y\",\"domain\":[0.0,1.0],\"title\":{\"text\":\"GDP\"}},\"yaxis\":{\"anchor\":\"x\",\"domain\":[0.0,1.0],\"title\":{\"text\":\"% of alcohol drinkers\"}},\"legend\":{\"tracegroupgap\":0},\"margin\":{\"t\":60}},                        {\"responsive\": true}                    ).then(function(){\n",
       "                            \n",
       "var gd = document.getElementById('43e1c8da-9cfd-4463-a680-27af54555aa8');\n",
       "var x = new MutationObserver(function (mutations, observer) {{\n",
       "        var display = window.getComputedStyle(gd).display;\n",
       "        if (!display || display === 'none') {{\n",
       "            console.log([gd, 'removed!']);\n",
       "            Plotly.purge(gd);\n",
       "            observer.disconnect();\n",
       "        }}\n",
       "}});\n",
       "\n",
       "// Listen for the removal of the full notebook cells\n",
       "var notebookContainer = gd.closest('#notebook-container');\n",
       "if (notebookContainer) {{\n",
       "    x.observe(notebookContainer, {childList: true});\n",
       "}}\n",
       "\n",
       "// Listen for the clearing of the current output cell\n",
       "var outputEl = gd.closest('.output');\n",
       "if (outputEl) {{\n",
       "    x.observe(outputEl, {childList: true});\n",
       "}}\n",
       "\n",
       "                        })                };                });            </script>        </div>"
      ]
     },
     "metadata": {},
     "output_type": "display_data"
    }
   ],
   "source": [
    "px.scatter(df_consumption_pib[df_consumption_pib.Sex == 'BTSX'], x='GDP', y= '% of alcohol drinkers', hover_name=\"Country\")"
   ]
  },
  {
   "cell_type": "code",
   "execution_count": 76,
   "metadata": {},
   "outputs": [
    {
     "data": {
      "application/vnd.plotly.v1+json": {
       "config": {
        "plotlyServerURL": "https://plot.ly"
       },
       "data": [
        {
         "hovertemplate": "<b>%{hovertext}</b><br><br>Zone=EMR<br>GDP=%{x}<br>% of alcohol drinkers=%{y}<extra></extra>",
         "hovertext": [
          "Libya",
          "Kuwait",
          "Afghanistan",
          "Pakistan",
          "Iran (Islamic Republic of)",
          "Sudan",
          "Morocco",
          "Egypt",
          "Jordan",
          "Iraq",
          "Tunisia",
          "Oman",
          "Djibouti",
          "Bahrain",
          "United Arab Emirates",
          "Somalia",
          "Qatar",
          "Lebanon",
          "Saudi Arabia"
         ],
         "legendgroup": "EMR",
         "marker": {
          "color": "#636efa",
          "symbol": "circle"
         },
         "mode": "markers",
         "name": "EMR",
         "orientation": "v",
         "showlegend": true,
         "type": "scatter",
         "x": [
          10282.291080445799,
          49853.736280568395,
          1978.9615787218302,
          4622.77076938075,
          12433.296975476398,
          4022.86596657319,
          6916.34641150088,
          11951.4475270117,
          9816.554529716379,
          9255.25690289807,
          9727.504259265408,
          27294.572976276402,
          5481.11481697609,
          40933.3526644217,
          67119.15324413701,
          829.611428860091,
          85266.2105859195,
          11649.0501121276,
          44328.1839111257
         ],
         "xaxis": "x",
         "y": [
          0.1,
          0.6,
          0.7,
          1.2,
          3.5,
          2.3,
          2.6,
          2.8,
          3,
          3.1,
          5.2,
          8.3,
          19.7,
          8.8,
          18.5,
          31,
          45.6,
          6.1,
          5.8
         ],
         "yaxis": "y"
        },
        {
         "hovertemplate": "<b>%{hovertext}</b><br><br>Zone=WPR<br>GDP=%{x}<br>% of alcohol drinkers=%{y}<extra></extra>",
         "hovertext": [
          "Solomon Islands",
          "Kiribati",
          "Nauru",
          "Vanuatu",
          "Papua New Guinea",
          "Tonga",
          "Tuvalu",
          "Micronesia (Federated States of)",
          "Samoa",
          "Fiji",
          "Malaysia",
          "Cambodia",
          "Philippines",
          "Mongolia",
          "Viet Nam",
          "Lao People's Democratic Republic",
          "Brunei Darussalam",
          "China",
          "Japan",
          "Republic of Korea",
          "Singapore",
          "New Zealand",
          "Australia"
         ],
         "legendgroup": "WPR",
         "marker": {
          "color": "#EF553B",
          "symbol": "circle"
         },
         "mode": "markers",
         "name": "WPR",
         "orientation": "v",
         "showlegend": true,
         "type": "scatter",
         "x": [
          2482.87191978213,
          2291.90721878662,
          13527.411941066,
          2762.791388307,
          4101.21888209216,
          6378.1283460138,
          4411.00311573521,
          3466.4132928178196,
          6295.73184093032,
          10997.4734903847,
          26435.1715707484,
          4191.85000307807,
          7953.58164428408,
          11470.6738325698,
          8200.33186703573,
          7805.79855611968,
          62243.5831517924,
          16410.7977967813,
          41380.0935773113,
          42251.4450571656,
          93397.04880220199,
          42404.3937381567,
          48697.8370282475
         ],
         "xaxis": "x",
         "y": [
          0.7,
          12.1,
          22,
          13.6,
          13.7,
          14.2,
          14.4,
          15.2,
          16,
          17.7,
          29.6,
          30.9,
          33.1,
          33.6,
          99.4,
          40,
          33.3,
          55.9,
          57,
          63.9,
          70,
          74.6,
          79.4
         ],
         "yaxis": "y"
        },
        {
         "hovertemplate": "<b>%{hovertext}</b><br><br>Zone=AFR<br>GDP=%{x}<br>% of alcohol drinkers=%{y}<extra></extra>",
         "hovertext": [
          "Mauritania",
          "Algeria",
          "Comoros",
          "Zimbabwe",
          "Niger",
          "Madagascar",
          "Mozambique",
          "Senegal",
          "Guinea",
          "Mali",
          "Chad",
          "Ethiopia",
          "Malawi",
          "Kenya",
          "Togo",
          "Benin",
          "Ghana",
          "Gambia",
          "Zambia",
          "Guinea-Bissau",
          "Eswatini",
          "Lesotho",
          "Liberia",
          "Namibia",
          "Sierra Leone",
          "Mauritius",
          "Botswana",
          "Burundi",
          "Cameroon",
          "Sao Tome and Principe",
          "Burkina Faso",
          "Rwanda",
          "Democratic Republic of the Congo",
          "Uganda",
          "United Republic of Tanzania",
          "Côte d’Ivoire",
          "Central African Republic",
          "Cabo Verde",
          "Angola",
          "Nigeria",
          "Congo",
          "Seychelles",
          "Gabon",
          "Equatorial Guinea"
         ],
         "legendgroup": "AFR",
         "marker": {
          "color": "#00cc96",
          "symbol": "circle"
         },
         "mode": "markers",
         "name": "AFR",
         "orientation": "v",
         "showlegend": true,
         "type": "scatter",
         "x": [
          4983.2206333331,
          10681.6792969827,
          3140.6987716209196,
          2744.69075807126,
          1196.8775595747302,
          1510.1417261780898,
          1229.08001865892,
          3300.0854932471,
          2670.82335507161,
          2216.77326231685,
          1519.91236158763,
          2296.82735215213,
          1486.7782484347501,
          4220.440248463689,
          2107.87726149934,
          3323.14445067303,
          5304.98352460298,
          2159.44190927585,
          3270.0351122855395,
          1847.4658239087803,
          8392.71756391091,
          2279.89587402333,
          1353.8429197635498,
          8893.813157202829,
          1648.05335993719,
          19469.524588373897,
          16040.0084730125,
          731.063229715588,
          3576.34949945049,
          4051.60484448469,
          2160.51152951619,
          2098.7103615481,
          1072.21011269575,
          2177.59585383955,
          2635.3358910827,
          5174.1005527546295,
          928.589507504538,
          6045.06088485291,
          6198.08384070806,
          4916.72138086439,
          3449.1456948178,
          24361.8939424167,
          14399.868809411699,
          17007.6247800252
         ],
         "xaxis": "x",
         "y": [
          0.9,
          3.2,
          4.1,
          17.6,
          20.2,
          20.9,
          21,
          21.1,
          21.6,
          21.9,
          22.4,
          22.6,
          23.7,
          23.9,
          25.7,
          26.1,
          26,
          26.7,
          27.3,
          28.8,
          28.8,
          17.8,
          30.8,
          30.3,
          30.9,
          31.2,
          32,
          31.6,
          33.8,
          34,
          36.9,
          35,
          36.4,
          36.3,
          36.4,
          38.5,
          37.6,
          39.4,
          47.7,
          52.6,
          51.7,
          54.9,
          66.5,
          72.9
         ],
         "yaxis": "y"
        },
        {
         "hovertemplate": "<b>%{hovertext}</b><br><br>Zone=SEAR<br>GDP=%{x}<br>% of alcohol drinkers=%{y}<extra></extra>",
         "hovertext": [
          "Bangladesh",
          "Maldives",
          "Timor-Leste",
          "Indonesia",
          "Myanmar",
          "Nepal",
          "Bhutan",
          "Sri Lanka",
          "India",
          "Thailand"
         ],
         "legendgroup": "SEAR",
         "marker": {
          "color": "#ab63fa",
          "symbol": "circle"
         },
         "mode": "markers",
         "name": "SEAR",
         "orientation": "v",
         "showlegend": true,
         "type": "scatter",
         "x": [
          4818.09473660531,
          13049.0466602078,
          3181.1371876024896,
          11444.9606828103,
          4544.02156851419,
          3800.06570306646,
          10909.1001689407,
          12536.941756170401,
          6118.3573301896495,
          17286.866606887
         ],
         "xaxis": "x",
         "y": [
          2.2,
          7.9,
          21.6,
          22.7,
          27.1,
          27.1,
          29.6,
          28.7,
          38.8,
          40.9
         ],
         "yaxis": "y"
        },
        {
         "hovertemplate": "<b>%{hovertext}</b><br><br>Zone=EUR<br>GDP=%{x}<br>% of alcohol drinkers=%{y}<extra></extra>",
         "hovertext": [
          "Turkey",
          "Tajikistan",
          "Uzbekistan",
          "Azerbaijan",
          "Slovenia",
          "Kyrgyzstan",
          "Armenia",
          "Turkmenistan",
          "Georgia",
          "Kazakhstan",
          "Bosnia and Herzegovina",
          "Albania",
          "The former Yugoslav Republic of Macedonia",
          "Montenegro",
          "Israel",
          "Croatia",
          "Serbia",
          "Malta",
          "Greece",
          "Bulgaria",
          "Italy",
          "Hungary",
          "Republic of Moldova",
          "Russian Federation",
          "Romania",
          "Ukraine",
          "Poland",
          "Cyprus",
          "Spain",
          "Portugal",
          "Slovakia",
          "Iceland",
          "Netherlands",
          "Finland",
          "Sweden",
          "Estonia",
          "United Kingdom of Great Britain and Northern Ireland",
          "Denmark",
          "Czechia",
          "Latvia",
          "France",
          "Belgium",
          "Austria",
          "Belarus",
          "Norway",
          "Germany",
          "Lithuania",
          "Switzerland",
          "Ireland",
          "Luxembourg"
         ],
         "legendgroup": "EUR",
         "marker": {
          "color": "#FFA15A",
          "symbol": "circle"
         },
         "mode": "markers",
         "name": "EUR",
         "orientation": "v",
         "showlegend": true,
         "type": "scatter",
         "x": [
          28384.987784626297,
          3657.57350716538,
          6994.169411672621,
          13699.665590318,
          36547.7389559849,
          4706.57023774883,
          12592.635367500901,
          15538.4199701316,
          14089.3023335327,
          25337.152399391,
          14339.8311811662,
          13295.410884540901,
          15848.419293995501,
          18278.730791552,
          38341.3075704083,
          26465.1273096002,
          18210.004620461597,
          39222.1433509207,
          27287.0834009302,
          22383.805543642797,
          38992.1483807498,
          31007.768406543702,
          12324.736279383798,
          26456.3879381321,
          28832.6231487683,
          12377.0172931178,
          32238.157259275,
          37655.1803457421,
          36215.4475907307,
          32181.154537234303,
          30330.0428870265,
          52279.7288513646,
          54209.563835730194,
          47260.800458440994,
          50683.323509717804,
          35638.4213511812,
          41627.129269425,
          55938.2128086032,
          38319.3376633108,
          29932.4939100562,
          42025.6173730617,
          48210.033111344404,
          51935.603861815594,
          19148.1751007952,
          63585.90351429691,
          50922.358023448396,
          36732.034744031,
          68393.306003945,
          89688.9569584859,
          110261.157353302
         ],
         "xaxis": "x",
         "y": [
          6.9,
          20.7,
          20.8,
          21.9,
          13.5,
          25.9,
          26,
          30.4,
          35.1,
          39.9,
          47.9,
          51,
          53.7,
          54,
          55,
          59.7,
          60,
          63,
          65.4,
          66,
          67.8,
          66.6,
          66.6,
          58.1,
          67.2,
          61.8,
          68,
          68.8,
          68.6,
          69.2,
          71.3,
          71.5,
          72.1,
          72.5,
          73,
          72.8,
          73.4,
          74.4,
          75.4,
          75,
          75.3,
          76.5,
          78.1,
          73.6,
          79,
          79.4,
          79.1,
          81.2,
          81.3,
          91.8
         ],
         "yaxis": "y"
        },
        {
         "hovertemplate": "<b>%{hovertext}</b><br><br>Zone=AMR<br>GDP=%{x}<br>% of alcohol drinkers=%{y}<extra></extra>",
         "hovertext": [
          "Guatemala",
          "Honduras",
          "El Salvador",
          "Nicaragua",
          "Jamaica",
          "Haiti",
          "Paraguay",
          "Costa Rica",
          "Colombia",
          "Guyana",
          "Brazil",
          "Belize",
          "Suriname",
          "Mexico",
          "Dominican Republic",
          "Bahamas",
          "Dominica",
          "Bolivia (Plurinational State of)",
          "Saint Vincent and the Grenadines",
          "Ecuador",
          "Panama",
          "Grenada",
          "Saint Lucia",
          "Antigua and Barbuda",
          "Barbados",
          "Peru",
          "Saint Kitts and Nevis",
          "Trinidad and Tobago",
          "Canada",
          "Argentina",
          "Chile",
          "Uruguay",
          "United States of America"
         ],
         "legendgroup": "AMR",
         "marker": {
          "color": "#19d3f3",
          "symbol": "circle"
         },
         "mode": "markers",
         "name": "AMR",
         "orientation": "v",
         "showlegend": true,
         "type": "scatter",
         "x": [
          8393.28464317623,
          5138.38539820015,
          8056.543086128491,
          5280.14058082508,
          8741.55044328036,
          2773.08136431323,
          12335.472357184099,
          19679.2886412163,
          13441.4929522564,
          18679.9802308198,
          14063.9825053838,
          6119.887686861539,
          16130.1708064491,
          17887.7507356971,
          17003.0130205346,
          30764.1159665551,
          9891.291939537192,
          7931.754309310621,
          12105.3813615785,
          10329.1987527594,
          25381.8484472504,
          15065.871953633101,
          12270.0132882689,
          17956.315715683002,
          12870.0425037649,
          11260.8457538125,
          23259.3623116037,
          23728.1586459056,
          45856.6256264804,
          19686.523658911003,
          23324.524750650897,
          21608.430271001398,
          60235.72849169691
         ],
         "xaxis": "x",
         "y": [
          27.3,
          29.8,
          29.4,
          32.5,
          34.9,
          35.1,
          36,
          36.6,
          38.3,
          39.1,
          40.3,
          41.5,
          42.2,
          42.7,
          43,
          43.8,
          45.2,
          45.4,
          46.6,
          46.5,
          47.7,
          49.6,
          49.7,
          49.4,
          50.5,
          53.2,
          54.8,
          58.7,
          64.5,
          67.4,
          67.6,
          68.9,
          71.7
         ],
         "yaxis": "y"
        }
       ],
       "layout": {
        "legend": {
         "title": {
          "text": "Zone"
         },
         "tracegroupgap": 0
        },
        "margin": {
         "t": 60
        },
        "template": {
         "data": {
          "bar": [
           {
            "error_x": {
             "color": "#2a3f5f"
            },
            "error_y": {
             "color": "#2a3f5f"
            },
            "marker": {
             "line": {
              "color": "#E5ECF6",
              "width": 0.5
             },
             "pattern": {
              "fillmode": "overlay",
              "size": 10,
              "solidity": 0.2
             }
            },
            "type": "bar"
           }
          ],
          "barpolar": [
           {
            "marker": {
             "line": {
              "color": "#E5ECF6",
              "width": 0.5
             },
             "pattern": {
              "fillmode": "overlay",
              "size": 10,
              "solidity": 0.2
             }
            },
            "type": "barpolar"
           }
          ],
          "carpet": [
           {
            "aaxis": {
             "endlinecolor": "#2a3f5f",
             "gridcolor": "white",
             "linecolor": "white",
             "minorgridcolor": "white",
             "startlinecolor": "#2a3f5f"
            },
            "baxis": {
             "endlinecolor": "#2a3f5f",
             "gridcolor": "white",
             "linecolor": "white",
             "minorgridcolor": "white",
             "startlinecolor": "#2a3f5f"
            },
            "type": "carpet"
           }
          ],
          "choropleth": [
           {
            "colorbar": {
             "outlinewidth": 0,
             "ticks": ""
            },
            "type": "choropleth"
           }
          ],
          "contour": [
           {
            "colorbar": {
             "outlinewidth": 0,
             "ticks": ""
            },
            "colorscale": [
             [
              0,
              "#0d0887"
             ],
             [
              0.1111111111111111,
              "#46039f"
             ],
             [
              0.2222222222222222,
              "#7201a8"
             ],
             [
              0.3333333333333333,
              "#9c179e"
             ],
             [
              0.4444444444444444,
              "#bd3786"
             ],
             [
              0.5555555555555556,
              "#d8576b"
             ],
             [
              0.6666666666666666,
              "#ed7953"
             ],
             [
              0.7777777777777778,
              "#fb9f3a"
             ],
             [
              0.8888888888888888,
              "#fdca26"
             ],
             [
              1,
              "#f0f921"
             ]
            ],
            "type": "contour"
           }
          ],
          "contourcarpet": [
           {
            "colorbar": {
             "outlinewidth": 0,
             "ticks": ""
            },
            "type": "contourcarpet"
           }
          ],
          "heatmap": [
           {
            "colorbar": {
             "outlinewidth": 0,
             "ticks": ""
            },
            "colorscale": [
             [
              0,
              "#0d0887"
             ],
             [
              0.1111111111111111,
              "#46039f"
             ],
             [
              0.2222222222222222,
              "#7201a8"
             ],
             [
              0.3333333333333333,
              "#9c179e"
             ],
             [
              0.4444444444444444,
              "#bd3786"
             ],
             [
              0.5555555555555556,
              "#d8576b"
             ],
             [
              0.6666666666666666,
              "#ed7953"
             ],
             [
              0.7777777777777778,
              "#fb9f3a"
             ],
             [
              0.8888888888888888,
              "#fdca26"
             ],
             [
              1,
              "#f0f921"
             ]
            ],
            "type": "heatmap"
           }
          ],
          "heatmapgl": [
           {
            "colorbar": {
             "outlinewidth": 0,
             "ticks": ""
            },
            "colorscale": [
             [
              0,
              "#0d0887"
             ],
             [
              0.1111111111111111,
              "#46039f"
             ],
             [
              0.2222222222222222,
              "#7201a8"
             ],
             [
              0.3333333333333333,
              "#9c179e"
             ],
             [
              0.4444444444444444,
              "#bd3786"
             ],
             [
              0.5555555555555556,
              "#d8576b"
             ],
             [
              0.6666666666666666,
              "#ed7953"
             ],
             [
              0.7777777777777778,
              "#fb9f3a"
             ],
             [
              0.8888888888888888,
              "#fdca26"
             ],
             [
              1,
              "#f0f921"
             ]
            ],
            "type": "heatmapgl"
           }
          ],
          "histogram": [
           {
            "marker": {
             "pattern": {
              "fillmode": "overlay",
              "size": 10,
              "solidity": 0.2
             }
            },
            "type": "histogram"
           }
          ],
          "histogram2d": [
           {
            "colorbar": {
             "outlinewidth": 0,
             "ticks": ""
            },
            "colorscale": [
             [
              0,
              "#0d0887"
             ],
             [
              0.1111111111111111,
              "#46039f"
             ],
             [
              0.2222222222222222,
              "#7201a8"
             ],
             [
              0.3333333333333333,
              "#9c179e"
             ],
             [
              0.4444444444444444,
              "#bd3786"
             ],
             [
              0.5555555555555556,
              "#d8576b"
             ],
             [
              0.6666666666666666,
              "#ed7953"
             ],
             [
              0.7777777777777778,
              "#fb9f3a"
             ],
             [
              0.8888888888888888,
              "#fdca26"
             ],
             [
              1,
              "#f0f921"
             ]
            ],
            "type": "histogram2d"
           }
          ],
          "histogram2dcontour": [
           {
            "colorbar": {
             "outlinewidth": 0,
             "ticks": ""
            },
            "colorscale": [
             [
              0,
              "#0d0887"
             ],
             [
              0.1111111111111111,
              "#46039f"
             ],
             [
              0.2222222222222222,
              "#7201a8"
             ],
             [
              0.3333333333333333,
              "#9c179e"
             ],
             [
              0.4444444444444444,
              "#bd3786"
             ],
             [
              0.5555555555555556,
              "#d8576b"
             ],
             [
              0.6666666666666666,
              "#ed7953"
             ],
             [
              0.7777777777777778,
              "#fb9f3a"
             ],
             [
              0.8888888888888888,
              "#fdca26"
             ],
             [
              1,
              "#f0f921"
             ]
            ],
            "type": "histogram2dcontour"
           }
          ],
          "mesh3d": [
           {
            "colorbar": {
             "outlinewidth": 0,
             "ticks": ""
            },
            "type": "mesh3d"
           }
          ],
          "parcoords": [
           {
            "line": {
             "colorbar": {
              "outlinewidth": 0,
              "ticks": ""
             }
            },
            "type": "parcoords"
           }
          ],
          "pie": [
           {
            "automargin": true,
            "type": "pie"
           }
          ],
          "scatter": [
           {
            "fillpattern": {
             "fillmode": "overlay",
             "size": 10,
             "solidity": 0.2
            },
            "type": "scatter"
           }
          ],
          "scatter3d": [
           {
            "line": {
             "colorbar": {
              "outlinewidth": 0,
              "ticks": ""
             }
            },
            "marker": {
             "colorbar": {
              "outlinewidth": 0,
              "ticks": ""
             }
            },
            "type": "scatter3d"
           }
          ],
          "scattercarpet": [
           {
            "marker": {
             "colorbar": {
              "outlinewidth": 0,
              "ticks": ""
             }
            },
            "type": "scattercarpet"
           }
          ],
          "scattergeo": [
           {
            "marker": {
             "colorbar": {
              "outlinewidth": 0,
              "ticks": ""
             }
            },
            "type": "scattergeo"
           }
          ],
          "scattergl": [
           {
            "marker": {
             "colorbar": {
              "outlinewidth": 0,
              "ticks": ""
             }
            },
            "type": "scattergl"
           }
          ],
          "scattermapbox": [
           {
            "marker": {
             "colorbar": {
              "outlinewidth": 0,
              "ticks": ""
             }
            },
            "type": "scattermapbox"
           }
          ],
          "scatterpolar": [
           {
            "marker": {
             "colorbar": {
              "outlinewidth": 0,
              "ticks": ""
             }
            },
            "type": "scatterpolar"
           }
          ],
          "scatterpolargl": [
           {
            "marker": {
             "colorbar": {
              "outlinewidth": 0,
              "ticks": ""
             }
            },
            "type": "scatterpolargl"
           }
          ],
          "scatterternary": [
           {
            "marker": {
             "colorbar": {
              "outlinewidth": 0,
              "ticks": ""
             }
            },
            "type": "scatterternary"
           }
          ],
          "surface": [
           {
            "colorbar": {
             "outlinewidth": 0,
             "ticks": ""
            },
            "colorscale": [
             [
              0,
              "#0d0887"
             ],
             [
              0.1111111111111111,
              "#46039f"
             ],
             [
              0.2222222222222222,
              "#7201a8"
             ],
             [
              0.3333333333333333,
              "#9c179e"
             ],
             [
              0.4444444444444444,
              "#bd3786"
             ],
             [
              0.5555555555555556,
              "#d8576b"
             ],
             [
              0.6666666666666666,
              "#ed7953"
             ],
             [
              0.7777777777777778,
              "#fb9f3a"
             ],
             [
              0.8888888888888888,
              "#fdca26"
             ],
             [
              1,
              "#f0f921"
             ]
            ],
            "type": "surface"
           }
          ],
          "table": [
           {
            "cells": {
             "fill": {
              "color": "#EBF0F8"
             },
             "line": {
              "color": "white"
             }
            },
            "header": {
             "fill": {
              "color": "#C8D4E3"
             },
             "line": {
              "color": "white"
             }
            },
            "type": "table"
           }
          ]
         },
         "layout": {
          "annotationdefaults": {
           "arrowcolor": "#2a3f5f",
           "arrowhead": 0,
           "arrowwidth": 1
          },
          "autotypenumbers": "strict",
          "coloraxis": {
           "colorbar": {
            "outlinewidth": 0,
            "ticks": ""
           }
          },
          "colorscale": {
           "diverging": [
            [
             0,
             "#8e0152"
            ],
            [
             0.1,
             "#c51b7d"
            ],
            [
             0.2,
             "#de77ae"
            ],
            [
             0.3,
             "#f1b6da"
            ],
            [
             0.4,
             "#fde0ef"
            ],
            [
             0.5,
             "#f7f7f7"
            ],
            [
             0.6,
             "#e6f5d0"
            ],
            [
             0.7,
             "#b8e186"
            ],
            [
             0.8,
             "#7fbc41"
            ],
            [
             0.9,
             "#4d9221"
            ],
            [
             1,
             "#276419"
            ]
           ],
           "sequential": [
            [
             0,
             "#0d0887"
            ],
            [
             0.1111111111111111,
             "#46039f"
            ],
            [
             0.2222222222222222,
             "#7201a8"
            ],
            [
             0.3333333333333333,
             "#9c179e"
            ],
            [
             0.4444444444444444,
             "#bd3786"
            ],
            [
             0.5555555555555556,
             "#d8576b"
            ],
            [
             0.6666666666666666,
             "#ed7953"
            ],
            [
             0.7777777777777778,
             "#fb9f3a"
            ],
            [
             0.8888888888888888,
             "#fdca26"
            ],
            [
             1,
             "#f0f921"
            ]
           ],
           "sequentialminus": [
            [
             0,
             "#0d0887"
            ],
            [
             0.1111111111111111,
             "#46039f"
            ],
            [
             0.2222222222222222,
             "#7201a8"
            ],
            [
             0.3333333333333333,
             "#9c179e"
            ],
            [
             0.4444444444444444,
             "#bd3786"
            ],
            [
             0.5555555555555556,
             "#d8576b"
            ],
            [
             0.6666666666666666,
             "#ed7953"
            ],
            [
             0.7777777777777778,
             "#fb9f3a"
            ],
            [
             0.8888888888888888,
             "#fdca26"
            ],
            [
             1,
             "#f0f921"
            ]
           ]
          },
          "colorway": [
           "#636efa",
           "#EF553B",
           "#00cc96",
           "#ab63fa",
           "#FFA15A",
           "#19d3f3",
           "#FF6692",
           "#B6E880",
           "#FF97FF",
           "#FECB52"
          ],
          "font": {
           "color": "#2a3f5f"
          },
          "geo": {
           "bgcolor": "white",
           "lakecolor": "white",
           "landcolor": "#E5ECF6",
           "showlakes": true,
           "showland": true,
           "subunitcolor": "white"
          },
          "hoverlabel": {
           "align": "left"
          },
          "hovermode": "closest",
          "mapbox": {
           "style": "light"
          },
          "paper_bgcolor": "white",
          "plot_bgcolor": "#E5ECF6",
          "polar": {
           "angularaxis": {
            "gridcolor": "white",
            "linecolor": "white",
            "ticks": ""
           },
           "bgcolor": "#E5ECF6",
           "radialaxis": {
            "gridcolor": "white",
            "linecolor": "white",
            "ticks": ""
           }
          },
          "scene": {
           "xaxis": {
            "backgroundcolor": "#E5ECF6",
            "gridcolor": "white",
            "gridwidth": 2,
            "linecolor": "white",
            "showbackground": true,
            "ticks": "",
            "zerolinecolor": "white"
           },
           "yaxis": {
            "backgroundcolor": "#E5ECF6",
            "gridcolor": "white",
            "gridwidth": 2,
            "linecolor": "white",
            "showbackground": true,
            "ticks": "",
            "zerolinecolor": "white"
           },
           "zaxis": {
            "backgroundcolor": "#E5ECF6",
            "gridcolor": "white",
            "gridwidth": 2,
            "linecolor": "white",
            "showbackground": true,
            "ticks": "",
            "zerolinecolor": "white"
           }
          },
          "shapedefaults": {
           "line": {
            "color": "#2a3f5f"
           }
          },
          "ternary": {
           "aaxis": {
            "gridcolor": "white",
            "linecolor": "white",
            "ticks": ""
           },
           "baxis": {
            "gridcolor": "white",
            "linecolor": "white",
            "ticks": ""
           },
           "bgcolor": "#E5ECF6",
           "caxis": {
            "gridcolor": "white",
            "linecolor": "white",
            "ticks": ""
           }
          },
          "title": {
           "x": 0.05
          },
          "xaxis": {
           "automargin": true,
           "gridcolor": "white",
           "linecolor": "white",
           "ticks": "",
           "title": {
            "standoff": 15
           },
           "zerolinecolor": "white",
           "zerolinewidth": 2
          },
          "yaxis": {
           "automargin": true,
           "gridcolor": "white",
           "linecolor": "white",
           "ticks": "",
           "title": {
            "standoff": 15
           },
           "zerolinecolor": "white",
           "zerolinewidth": 2
          }
         }
        },
        "xaxis": {
         "anchor": "y",
         "domain": [
          0,
          1
         ],
         "title": {
          "text": "GDP"
         },
         "type": "log"
        },
        "yaxis": {
         "anchor": "x",
         "domain": [
          0,
          1
         ],
         "title": {
          "text": "% of alcohol drinkers"
         }
        }
       }
      },
      "text/html": [
       "<div>                            <div id=\"cedfe087-4331-43d4-bb35-4bedd4d1f5fd\" class=\"plotly-graph-div\" style=\"height:525px; width:100%;\"></div>            <script type=\"text/javascript\">                require([\"plotly\"], function(Plotly) {                    window.PLOTLYENV=window.PLOTLYENV || {};                                    if (document.getElementById(\"cedfe087-4331-43d4-bb35-4bedd4d1f5fd\")) {                    Plotly.newPlot(                        \"cedfe087-4331-43d4-bb35-4bedd4d1f5fd\",                        [{\"hovertemplate\":\"<b>%{hovertext}</b><br><br>Zone=EMR<br>GDP=%{x}<br>% of alcohol drinkers=%{y}<extra></extra>\",\"hovertext\":[\"Libya\",\"Kuwait\",\"Afghanistan\",\"Pakistan\",\"Iran (Islamic Republic of)\",\"Sudan\",\"Morocco\",\"Egypt\",\"Jordan\",\"Iraq\",\"Tunisia\",\"Oman\",\"Djibouti\",\"Bahrain\",\"United Arab Emirates\",\"Somalia\",\"Qatar\",\"Lebanon\",\"Saudi Arabia\"],\"legendgroup\":\"EMR\",\"marker\":{\"color\":\"#636efa\",\"symbol\":\"circle\"},\"mode\":\"markers\",\"name\":\"EMR\",\"orientation\":\"v\",\"showlegend\":true,\"x\":[10282.291080445799,49853.736280568395,1978.9615787218302,4622.77076938075,12433.296975476398,4022.86596657319,6916.34641150088,11951.4475270117,9816.554529716379,9255.25690289807,9727.504259265408,27294.572976276402,5481.11481697609,40933.3526644217,67119.15324413701,829.611428860091,85266.2105859195,11649.0501121276,44328.1839111257],\"xaxis\":\"x\",\"y\":[0.1,0.6,0.7,1.2,3.5,2.3,2.6,2.8,3.0,3.1,5.2,8.3,19.7,8.8,18.5,31.0,45.6,6.1,5.8],\"yaxis\":\"y\",\"type\":\"scatter\"},{\"hovertemplate\":\"<b>%{hovertext}</b><br><br>Zone=WPR<br>GDP=%{x}<br>% of alcohol drinkers=%{y}<extra></extra>\",\"hovertext\":[\"Solomon Islands\",\"Kiribati\",\"Nauru\",\"Vanuatu\",\"Papua New Guinea\",\"Tonga\",\"Tuvalu\",\"Micronesia (Federated States of)\",\"Samoa\",\"Fiji\",\"Malaysia\",\"Cambodia\",\"Philippines\",\"Mongolia\",\"Viet Nam\",\"Lao People's Democratic Republic\",\"Brunei Darussalam\",\"China\",\"Japan\",\"Republic of Korea\",\"Singapore\",\"New Zealand\",\"Australia\"],\"legendgroup\":\"WPR\",\"marker\":{\"color\":\"#EF553B\",\"symbol\":\"circle\"},\"mode\":\"markers\",\"name\":\"WPR\",\"orientation\":\"v\",\"showlegend\":true,\"x\":[2482.87191978213,2291.90721878662,13527.411941066,2762.791388307,4101.21888209216,6378.1283460138,4411.00311573521,3466.4132928178196,6295.73184093032,10997.4734903847,26435.1715707484,4191.85000307807,7953.58164428408,11470.6738325698,8200.33186703573,7805.79855611968,62243.5831517924,16410.7977967813,41380.0935773113,42251.4450571656,93397.04880220199,42404.3937381567,48697.8370282475],\"xaxis\":\"x\",\"y\":[0.7,12.1,22.0,13.6,13.7,14.2,14.4,15.2,16.0,17.7,29.6,30.9,33.1,33.6,99.4,40.0,33.3,55.9,57.0,63.9,70.0,74.6,79.4],\"yaxis\":\"y\",\"type\":\"scatter\"},{\"hovertemplate\":\"<b>%{hovertext}</b><br><br>Zone=AFR<br>GDP=%{x}<br>% of alcohol drinkers=%{y}<extra></extra>\",\"hovertext\":[\"Mauritania\",\"Algeria\",\"Comoros\",\"Zimbabwe\",\"Niger\",\"Madagascar\",\"Mozambique\",\"Senegal\",\"Guinea\",\"Mali\",\"Chad\",\"Ethiopia\",\"Malawi\",\"Kenya\",\"Togo\",\"Benin\",\"Ghana\",\"Gambia\",\"Zambia\",\"Guinea-Bissau\",\"Eswatini\",\"Lesotho\",\"Liberia\",\"Namibia\",\"Sierra Leone\",\"Mauritius\",\"Botswana\",\"Burundi\",\"Cameroon\",\"Sao Tome and Principe\",\"Burkina Faso\",\"Rwanda\",\"Democratic Republic of the Congo\",\"Uganda\",\"United Republic of Tanzania\",\"C\\u00f4te d\\u2019Ivoire\",\"Central African Republic\",\"Cabo Verde\",\"Angola\",\"Nigeria\",\"Congo\",\"Seychelles\",\"Gabon\",\"Equatorial Guinea\"],\"legendgroup\":\"AFR\",\"marker\":{\"color\":\"#00cc96\",\"symbol\":\"circle\"},\"mode\":\"markers\",\"name\":\"AFR\",\"orientation\":\"v\",\"showlegend\":true,\"x\":[4983.2206333331,10681.6792969827,3140.6987716209196,2744.69075807126,1196.8775595747302,1510.1417261780898,1229.08001865892,3300.0854932471,2670.82335507161,2216.77326231685,1519.91236158763,2296.82735215213,1486.7782484347501,4220.440248463689,2107.87726149934,3323.14445067303,5304.98352460298,2159.44190927585,3270.0351122855395,1847.4658239087803,8392.71756391091,2279.89587402333,1353.8429197635498,8893.813157202829,1648.05335993719,19469.524588373897,16040.0084730125,731.063229715588,3576.34949945049,4051.60484448469,2160.51152951619,2098.7103615481,1072.21011269575,2177.59585383955,2635.3358910827,5174.1005527546295,928.589507504538,6045.06088485291,6198.08384070806,4916.72138086439,3449.1456948178,24361.8939424167,14399.868809411699,17007.6247800252],\"xaxis\":\"x\",\"y\":[0.9,3.2,4.1,17.6,20.2,20.9,21.0,21.1,21.6,21.9,22.4,22.6,23.7,23.9,25.7,26.1,26.0,26.7,27.3,28.8,28.8,17.8,30.8,30.3,30.9,31.2,32.0,31.6,33.8,34.0,36.9,35.0,36.4,36.3,36.4,38.5,37.6,39.4,47.7,52.6,51.7,54.9,66.5,72.9],\"yaxis\":\"y\",\"type\":\"scatter\"},{\"hovertemplate\":\"<b>%{hovertext}</b><br><br>Zone=SEAR<br>GDP=%{x}<br>% of alcohol drinkers=%{y}<extra></extra>\",\"hovertext\":[\"Bangladesh\",\"Maldives\",\"Timor-Leste\",\"Indonesia\",\"Myanmar\",\"Nepal\",\"Bhutan\",\"Sri Lanka\",\"India\",\"Thailand\"],\"legendgroup\":\"SEAR\",\"marker\":{\"color\":\"#ab63fa\",\"symbol\":\"circle\"},\"mode\":\"markers\",\"name\":\"SEAR\",\"orientation\":\"v\",\"showlegend\":true,\"x\":[4818.09473660531,13049.0466602078,3181.1371876024896,11444.9606828103,4544.02156851419,3800.06570306646,10909.1001689407,12536.941756170401,6118.3573301896495,17286.866606887],\"xaxis\":\"x\",\"y\":[2.2,7.9,21.6,22.7,27.1,27.1,29.6,28.7,38.8,40.9],\"yaxis\":\"y\",\"type\":\"scatter\"},{\"hovertemplate\":\"<b>%{hovertext}</b><br><br>Zone=EUR<br>GDP=%{x}<br>% of alcohol drinkers=%{y}<extra></extra>\",\"hovertext\":[\"Turkey\",\"Tajikistan\",\"Uzbekistan\",\"Azerbaijan\",\"Slovenia\",\"Kyrgyzstan\",\"Armenia\",\"Turkmenistan\",\"Georgia\",\"Kazakhstan\",\"Bosnia and Herzegovina\",\"Albania\",\"The former Yugoslav Republic of Macedonia\",\"Montenegro\",\"Israel\",\"Croatia\",\"Serbia\",\"Malta\",\"Greece\",\"Bulgaria\",\"Italy\",\"Hungary\",\"Republic of Moldova\",\"Russian Federation\",\"Romania\",\"Ukraine\",\"Poland\",\"Cyprus\",\"Spain\",\"Portugal\",\"Slovakia\",\"Iceland\",\"Netherlands\",\"Finland\",\"Sweden\",\"Estonia\",\"United Kingdom of Great Britain and Northern Ireland\",\"Denmark\",\"Czechia\",\"Latvia\",\"France\",\"Belgium\",\"Austria\",\"Belarus\",\"Norway\",\"Germany\",\"Lithuania\",\"Switzerland\",\"Ireland\",\"Luxembourg\"],\"legendgroup\":\"EUR\",\"marker\":{\"color\":\"#FFA15A\",\"symbol\":\"circle\"},\"mode\":\"markers\",\"name\":\"EUR\",\"orientation\":\"v\",\"showlegend\":true,\"x\":[28384.987784626297,3657.57350716538,6994.169411672621,13699.665590318,36547.7389559849,4706.57023774883,12592.635367500901,15538.4199701316,14089.3023335327,25337.152399391,14339.8311811662,13295.410884540901,15848.419293995501,18278.730791552,38341.3075704083,26465.1273096002,18210.004620461597,39222.1433509207,27287.0834009302,22383.805543642797,38992.1483807498,31007.768406543702,12324.736279383798,26456.3879381321,28832.6231487683,12377.0172931178,32238.157259275,37655.1803457421,36215.4475907307,32181.154537234303,30330.0428870265,52279.7288513646,54209.563835730194,47260.800458440994,50683.323509717804,35638.4213511812,41627.129269425,55938.2128086032,38319.3376633108,29932.4939100562,42025.6173730617,48210.033111344404,51935.603861815594,19148.1751007952,63585.90351429691,50922.358023448396,36732.034744031,68393.306003945,89688.9569584859,110261.157353302],\"xaxis\":\"x\",\"y\":[6.9,20.7,20.8,21.9,13.5,25.9,26.0,30.4,35.1,39.9,47.9,51.0,53.7,54.0,55.0,59.7,60.0,63.0,65.4,66.0,67.8,66.6,66.6,58.1,67.2,61.8,68.0,68.8,68.6,69.2,71.3,71.5,72.1,72.5,73.0,72.8,73.4,74.4,75.4,75.0,75.3,76.5,78.1,73.6,79.0,79.4,79.1,81.2,81.3,91.8],\"yaxis\":\"y\",\"type\":\"scatter\"},{\"hovertemplate\":\"<b>%{hovertext}</b><br><br>Zone=AMR<br>GDP=%{x}<br>% of alcohol drinkers=%{y}<extra></extra>\",\"hovertext\":[\"Guatemala\",\"Honduras\",\"El Salvador\",\"Nicaragua\",\"Jamaica\",\"Haiti\",\"Paraguay\",\"Costa Rica\",\"Colombia\",\"Guyana\",\"Brazil\",\"Belize\",\"Suriname\",\"Mexico\",\"Dominican Republic\",\"Bahamas\",\"Dominica\",\"Bolivia (Plurinational State of)\",\"Saint Vincent and the Grenadines\",\"Ecuador\",\"Panama\",\"Grenada\",\"Saint Lucia\",\"Antigua and Barbuda\",\"Barbados\",\"Peru\",\"Saint Kitts and Nevis\",\"Trinidad and Tobago\",\"Canada\",\"Argentina\",\"Chile\",\"Uruguay\",\"United States of America\"],\"legendgroup\":\"AMR\",\"marker\":{\"color\":\"#19d3f3\",\"symbol\":\"circle\"},\"mode\":\"markers\",\"name\":\"AMR\",\"orientation\":\"v\",\"showlegend\":true,\"x\":[8393.28464317623,5138.38539820015,8056.543086128491,5280.14058082508,8741.55044328036,2773.08136431323,12335.472357184099,19679.2886412163,13441.4929522564,18679.9802308198,14063.9825053838,6119.887686861539,16130.1708064491,17887.7507356971,17003.0130205346,30764.1159665551,9891.291939537192,7931.754309310621,12105.3813615785,10329.1987527594,25381.8484472504,15065.871953633101,12270.0132882689,17956.315715683002,12870.0425037649,11260.8457538125,23259.3623116037,23728.1586459056,45856.6256264804,19686.523658911003,23324.524750650897,21608.430271001398,60235.72849169691],\"xaxis\":\"x\",\"y\":[27.3,29.8,29.4,32.5,34.9,35.1,36.0,36.6,38.3,39.1,40.3,41.5,42.2,42.7,43.0,43.8,45.2,45.4,46.6,46.5,47.7,49.6,49.7,49.4,50.5,53.2,54.8,58.7,64.5,67.4,67.6,68.9,71.7],\"yaxis\":\"y\",\"type\":\"scatter\"}],                        {\"template\":{\"data\":{\"histogram2dcontour\":[{\"type\":\"histogram2dcontour\",\"colorbar\":{\"outlinewidth\":0,\"ticks\":\"\"},\"colorscale\":[[0.0,\"#0d0887\"],[0.1111111111111111,\"#46039f\"],[0.2222222222222222,\"#7201a8\"],[0.3333333333333333,\"#9c179e\"],[0.4444444444444444,\"#bd3786\"],[0.5555555555555556,\"#d8576b\"],[0.6666666666666666,\"#ed7953\"],[0.7777777777777778,\"#fb9f3a\"],[0.8888888888888888,\"#fdca26\"],[1.0,\"#f0f921\"]]}],\"choropleth\":[{\"type\":\"choropleth\",\"colorbar\":{\"outlinewidth\":0,\"ticks\":\"\"}}],\"histogram2d\":[{\"type\":\"histogram2d\",\"colorbar\":{\"outlinewidth\":0,\"ticks\":\"\"},\"colorscale\":[[0.0,\"#0d0887\"],[0.1111111111111111,\"#46039f\"],[0.2222222222222222,\"#7201a8\"],[0.3333333333333333,\"#9c179e\"],[0.4444444444444444,\"#bd3786\"],[0.5555555555555556,\"#d8576b\"],[0.6666666666666666,\"#ed7953\"],[0.7777777777777778,\"#fb9f3a\"],[0.8888888888888888,\"#fdca26\"],[1.0,\"#f0f921\"]]}],\"heatmap\":[{\"type\":\"heatmap\",\"colorbar\":{\"outlinewidth\":0,\"ticks\":\"\"},\"colorscale\":[[0.0,\"#0d0887\"],[0.1111111111111111,\"#46039f\"],[0.2222222222222222,\"#7201a8\"],[0.3333333333333333,\"#9c179e\"],[0.4444444444444444,\"#bd3786\"],[0.5555555555555556,\"#d8576b\"],[0.6666666666666666,\"#ed7953\"],[0.7777777777777778,\"#fb9f3a\"],[0.8888888888888888,\"#fdca26\"],[1.0,\"#f0f921\"]]}],\"heatmapgl\":[{\"type\":\"heatmapgl\",\"colorbar\":{\"outlinewidth\":0,\"ticks\":\"\"},\"colorscale\":[[0.0,\"#0d0887\"],[0.1111111111111111,\"#46039f\"],[0.2222222222222222,\"#7201a8\"],[0.3333333333333333,\"#9c179e\"],[0.4444444444444444,\"#bd3786\"],[0.5555555555555556,\"#d8576b\"],[0.6666666666666666,\"#ed7953\"],[0.7777777777777778,\"#fb9f3a\"],[0.8888888888888888,\"#fdca26\"],[1.0,\"#f0f921\"]]}],\"contourcarpet\":[{\"type\":\"contourcarpet\",\"colorbar\":{\"outlinewidth\":0,\"ticks\":\"\"}}],\"contour\":[{\"type\":\"contour\",\"colorbar\":{\"outlinewidth\":0,\"ticks\":\"\"},\"colorscale\":[[0.0,\"#0d0887\"],[0.1111111111111111,\"#46039f\"],[0.2222222222222222,\"#7201a8\"],[0.3333333333333333,\"#9c179e\"],[0.4444444444444444,\"#bd3786\"],[0.5555555555555556,\"#d8576b\"],[0.6666666666666666,\"#ed7953\"],[0.7777777777777778,\"#fb9f3a\"],[0.8888888888888888,\"#fdca26\"],[1.0,\"#f0f921\"]]}],\"surface\":[{\"type\":\"surface\",\"colorbar\":{\"outlinewidth\":0,\"ticks\":\"\"},\"colorscale\":[[0.0,\"#0d0887\"],[0.1111111111111111,\"#46039f\"],[0.2222222222222222,\"#7201a8\"],[0.3333333333333333,\"#9c179e\"],[0.4444444444444444,\"#bd3786\"],[0.5555555555555556,\"#d8576b\"],[0.6666666666666666,\"#ed7953\"],[0.7777777777777778,\"#fb9f3a\"],[0.8888888888888888,\"#fdca26\"],[1.0,\"#f0f921\"]]}],\"mesh3d\":[{\"type\":\"mesh3d\",\"colorbar\":{\"outlinewidth\":0,\"ticks\":\"\"}}],\"scatter\":[{\"fillpattern\":{\"fillmode\":\"overlay\",\"size\":10,\"solidity\":0.2},\"type\":\"scatter\"}],\"parcoords\":[{\"type\":\"parcoords\",\"line\":{\"colorbar\":{\"outlinewidth\":0,\"ticks\":\"\"}}}],\"scatterpolargl\":[{\"type\":\"scatterpolargl\",\"marker\":{\"colorbar\":{\"outlinewidth\":0,\"ticks\":\"\"}}}],\"bar\":[{\"error_x\":{\"color\":\"#2a3f5f\"},\"error_y\":{\"color\":\"#2a3f5f\"},\"marker\":{\"line\":{\"color\":\"#E5ECF6\",\"width\":0.5},\"pattern\":{\"fillmode\":\"overlay\",\"size\":10,\"solidity\":0.2}},\"type\":\"bar\"}],\"scattergeo\":[{\"type\":\"scattergeo\",\"marker\":{\"colorbar\":{\"outlinewidth\":0,\"ticks\":\"\"}}}],\"scatterpolar\":[{\"type\":\"scatterpolar\",\"marker\":{\"colorbar\":{\"outlinewidth\":0,\"ticks\":\"\"}}}],\"histogram\":[{\"marker\":{\"pattern\":{\"fillmode\":\"overlay\",\"size\":10,\"solidity\":0.2}},\"type\":\"histogram\"}],\"scattergl\":[{\"type\":\"scattergl\",\"marker\":{\"colorbar\":{\"outlinewidth\":0,\"ticks\":\"\"}}}],\"scatter3d\":[{\"type\":\"scatter3d\",\"line\":{\"colorbar\":{\"outlinewidth\":0,\"ticks\":\"\"}},\"marker\":{\"colorbar\":{\"outlinewidth\":0,\"ticks\":\"\"}}}],\"scattermapbox\":[{\"type\":\"scattermapbox\",\"marker\":{\"colorbar\":{\"outlinewidth\":0,\"ticks\":\"\"}}}],\"scatterternary\":[{\"type\":\"scatterternary\",\"marker\":{\"colorbar\":{\"outlinewidth\":0,\"ticks\":\"\"}}}],\"scattercarpet\":[{\"type\":\"scattercarpet\",\"marker\":{\"colorbar\":{\"outlinewidth\":0,\"ticks\":\"\"}}}],\"carpet\":[{\"aaxis\":{\"endlinecolor\":\"#2a3f5f\",\"gridcolor\":\"white\",\"linecolor\":\"white\",\"minorgridcolor\":\"white\",\"startlinecolor\":\"#2a3f5f\"},\"baxis\":{\"endlinecolor\":\"#2a3f5f\",\"gridcolor\":\"white\",\"linecolor\":\"white\",\"minorgridcolor\":\"white\",\"startlinecolor\":\"#2a3f5f\"},\"type\":\"carpet\"}],\"table\":[{\"cells\":{\"fill\":{\"color\":\"#EBF0F8\"},\"line\":{\"color\":\"white\"}},\"header\":{\"fill\":{\"color\":\"#C8D4E3\"},\"line\":{\"color\":\"white\"}},\"type\":\"table\"}],\"barpolar\":[{\"marker\":{\"line\":{\"color\":\"#E5ECF6\",\"width\":0.5},\"pattern\":{\"fillmode\":\"overlay\",\"size\":10,\"solidity\":0.2}},\"type\":\"barpolar\"}],\"pie\":[{\"automargin\":true,\"type\":\"pie\"}]},\"layout\":{\"autotypenumbers\":\"strict\",\"colorway\":[\"#636efa\",\"#EF553B\",\"#00cc96\",\"#ab63fa\",\"#FFA15A\",\"#19d3f3\",\"#FF6692\",\"#B6E880\",\"#FF97FF\",\"#FECB52\"],\"font\":{\"color\":\"#2a3f5f\"},\"hovermode\":\"closest\",\"hoverlabel\":{\"align\":\"left\"},\"paper_bgcolor\":\"white\",\"plot_bgcolor\":\"#E5ECF6\",\"polar\":{\"bgcolor\":\"#E5ECF6\",\"angularaxis\":{\"gridcolor\":\"white\",\"linecolor\":\"white\",\"ticks\":\"\"},\"radialaxis\":{\"gridcolor\":\"white\",\"linecolor\":\"white\",\"ticks\":\"\"}},\"ternary\":{\"bgcolor\":\"#E5ECF6\",\"aaxis\":{\"gridcolor\":\"white\",\"linecolor\":\"white\",\"ticks\":\"\"},\"baxis\":{\"gridcolor\":\"white\",\"linecolor\":\"white\",\"ticks\":\"\"},\"caxis\":{\"gridcolor\":\"white\",\"linecolor\":\"white\",\"ticks\":\"\"}},\"coloraxis\":{\"colorbar\":{\"outlinewidth\":0,\"ticks\":\"\"}},\"colorscale\":{\"sequential\":[[0.0,\"#0d0887\"],[0.1111111111111111,\"#46039f\"],[0.2222222222222222,\"#7201a8\"],[0.3333333333333333,\"#9c179e\"],[0.4444444444444444,\"#bd3786\"],[0.5555555555555556,\"#d8576b\"],[0.6666666666666666,\"#ed7953\"],[0.7777777777777778,\"#fb9f3a\"],[0.8888888888888888,\"#fdca26\"],[1.0,\"#f0f921\"]],\"sequentialminus\":[[0.0,\"#0d0887\"],[0.1111111111111111,\"#46039f\"],[0.2222222222222222,\"#7201a8\"],[0.3333333333333333,\"#9c179e\"],[0.4444444444444444,\"#bd3786\"],[0.5555555555555556,\"#d8576b\"],[0.6666666666666666,\"#ed7953\"],[0.7777777777777778,\"#fb9f3a\"],[0.8888888888888888,\"#fdca26\"],[1.0,\"#f0f921\"]],\"diverging\":[[0,\"#8e0152\"],[0.1,\"#c51b7d\"],[0.2,\"#de77ae\"],[0.3,\"#f1b6da\"],[0.4,\"#fde0ef\"],[0.5,\"#f7f7f7\"],[0.6,\"#e6f5d0\"],[0.7,\"#b8e186\"],[0.8,\"#7fbc41\"],[0.9,\"#4d9221\"],[1,\"#276419\"]]},\"xaxis\":{\"gridcolor\":\"white\",\"linecolor\":\"white\",\"ticks\":\"\",\"title\":{\"standoff\":15},\"zerolinecolor\":\"white\",\"automargin\":true,\"zerolinewidth\":2},\"yaxis\":{\"gridcolor\":\"white\",\"linecolor\":\"white\",\"ticks\":\"\",\"title\":{\"standoff\":15},\"zerolinecolor\":\"white\",\"automargin\":true,\"zerolinewidth\":2},\"scene\":{\"xaxis\":{\"backgroundcolor\":\"#E5ECF6\",\"gridcolor\":\"white\",\"linecolor\":\"white\",\"showbackground\":true,\"ticks\":\"\",\"zerolinecolor\":\"white\",\"gridwidth\":2},\"yaxis\":{\"backgroundcolor\":\"#E5ECF6\",\"gridcolor\":\"white\",\"linecolor\":\"white\",\"showbackground\":true,\"ticks\":\"\",\"zerolinecolor\":\"white\",\"gridwidth\":2},\"zaxis\":{\"backgroundcolor\":\"#E5ECF6\",\"gridcolor\":\"white\",\"linecolor\":\"white\",\"showbackground\":true,\"ticks\":\"\",\"zerolinecolor\":\"white\",\"gridwidth\":2}},\"shapedefaults\":{\"line\":{\"color\":\"#2a3f5f\"}},\"annotationdefaults\":{\"arrowcolor\":\"#2a3f5f\",\"arrowhead\":0,\"arrowwidth\":1},\"geo\":{\"bgcolor\":\"white\",\"landcolor\":\"#E5ECF6\",\"subunitcolor\":\"white\",\"showland\":true,\"showlakes\":true,\"lakecolor\":\"white\"},\"title\":{\"x\":0.05},\"mapbox\":{\"style\":\"light\"}}},\"xaxis\":{\"anchor\":\"y\",\"domain\":[0.0,1.0],\"title\":{\"text\":\"GDP\"},\"type\":\"log\"},\"yaxis\":{\"anchor\":\"x\",\"domain\":[0.0,1.0],\"title\":{\"text\":\"% of alcohol drinkers\"}},\"legend\":{\"title\":{\"text\":\"Zone\"},\"tracegroupgap\":0},\"margin\":{\"t\":60}},                        {\"responsive\": true}                    ).then(function(){\n",
       "                            \n",
       "var gd = document.getElementById('cedfe087-4331-43d4-bb35-4bedd4d1f5fd');\n",
       "var x = new MutationObserver(function (mutations, observer) {{\n",
       "        var display = window.getComputedStyle(gd).display;\n",
       "        if (!display || display === 'none') {{\n",
       "            console.log([gd, 'removed!']);\n",
       "            Plotly.purge(gd);\n",
       "            observer.disconnect();\n",
       "        }}\n",
       "}});\n",
       "\n",
       "// Listen for the removal of the full notebook cells\n",
       "var notebookContainer = gd.closest('#notebook-container');\n",
       "if (notebookContainer) {{\n",
       "    x.observe(notebookContainer, {childList: true});\n",
       "}}\n",
       "\n",
       "// Listen for the clearing of the current output cell\n",
       "var outputEl = gd.closest('.output');\n",
       "if (outputEl) {{\n",
       "    x.observe(outputEl, {childList: true});\n",
       "}}\n",
       "\n",
       "                        })                };                });            </script>        </div>"
      ]
     },
     "metadata": {},
     "output_type": "display_data"
    }
   ],
   "source": [
    "px.scatter(df_consumption_pib[df_consumption_pib.Sex == 'BTSX'], x='GDP', y= '% of alcohol drinkers', color = 'Zone', hover_name=\"Country\", log_x=True)"
   ]
  },
  {
   "cell_type": "code",
   "execution_count": 23,
   "metadata": {},
   "outputs": [
    {
     "data": {
      "text/plain": [
       "Zone                      object\n",
       "Code                      object\n",
       "Country                   object\n",
       "Sex                       object\n",
       "% of alcohol drinkers     object\n",
       "Year                       int64\n",
       "GDP                      float64\n",
       "dtype: object"
      ]
     },
     "execution_count": 23,
     "metadata": {},
     "output_type": "execute_result"
    }
   ],
   "source": []
  },
  {
   "cell_type": "markdown",
   "metadata": {},
   "source": [
    "### Data Visualisation with World Map"
   ]
  },
  {
   "cell_type": "code",
   "execution_count": 11,
   "metadata": {},
   "outputs": [
    {
     "name": "stdout",
     "output_type": "stream",
     "text": [
      "Collecting chart_studio\n",
      "  Downloading chart_studio-1.1.0-py3-none-any.whl (64 kB)\n",
      "     |████████████████████████████████| 64 kB 3.9 MB/s             \n",
      "\u001b[?25hRequirement already satisfied: plotly in /home/luca/anaconda3/lib/python3.6/site-packages (from chart_studio) (5.7.0)\n",
      "Requirement already satisfied: six in /home/luca/anaconda3/lib/python3.6/site-packages (from chart_studio) (1.12.0)\n",
      "Requirement already satisfied: requests in /home/luca/anaconda3/lib/python3.6/site-packages (from chart_studio) (2.22.0)\n",
      "Collecting retrying>=1.3.3\n",
      "  Downloading retrying-1.3.3.tar.gz (10 kB)\n",
      "  Preparing metadata (setup.py) ... \u001b[?25ldone\n",
      "\u001b[?25hRequirement already satisfied: tenacity>=6.2.0 in /home/luca/anaconda3/lib/python3.6/site-packages (from plotly->chart_studio) (8.0.1)\n",
      "Requirement already satisfied: idna<2.9,>=2.5 in /home/luca/anaconda3/lib/python3.6/site-packages (from requests->chart_studio) (2.8)\n",
      "Requirement already satisfied: chardet<3.1.0,>=3.0.2 in /home/luca/anaconda3/lib/python3.6/site-packages (from requests->chart_studio) (3.0.4)\n",
      "Requirement already satisfied: certifi>=2017.4.17 in /home/luca/anaconda3/lib/python3.6/site-packages (from requests->chart_studio) (2019.6.16)\n",
      "Requirement already satisfied: urllib3!=1.25.0,!=1.25.1,<1.26,>=1.21.1 in /home/luca/anaconda3/lib/python3.6/site-packages (from requests->chart_studio) (1.25.3)\n",
      "Building wheels for collected packages: retrying\n",
      "  Building wheel for retrying (setup.py) ... \u001b[?25ldone\n",
      "\u001b[?25h  Created wheel for retrying: filename=retrying-1.3.3-py3-none-any.whl size=6253 sha256=5499079757d64d5316ce94e6895092879f4f9ebae16de820fea9c8438e23452a\n",
      "  Stored in directory: /home/luca/.cache/pip/wheels/ac/cb/8a/b27bf6323e2f4c462dcbf77d70b7c5e7868a7fbe12871770cf\n",
      "Successfully built retrying\n",
      "Installing collected packages: retrying, chart-studio\n",
      "Successfully installed chart-studio-1.1.0 retrying-1.3.3\n"
     ]
    }
   ],
   "source": [
    "!pip install chart_studio"
   ]
  },
  {
   "cell_type": "code",
   "execution_count": 12,
   "metadata": {},
   "outputs": [],
   "source": [
    "import chart_studio.plotly as py\n",
    "import plotly.graph_objs as go \n",
    "from plotly.offline import download_plotlyjs, init_notebook_mode, plot, iplot"
   ]
  },
  {
   "cell_type": "code",
   "execution_count": 13,
   "metadata": {},
   "outputs": [
    {
     "data": {
      "text/html": [
       "        <script type=\"text/javascript\">\n",
       "        window.PlotlyConfig = {MathJaxConfig: 'local'};\n",
       "        if (window.MathJax) {MathJax.Hub.Config({SVG: {font: \"STIX-Web\"}});}\n",
       "        if (typeof require !== 'undefined') {\n",
       "        require.undef(\"plotly\");\n",
       "        requirejs.config({\n",
       "            paths: {\n",
       "                'plotly': ['https://cdn.plot.ly/plotly-2.11.1.min']\n",
       "            }\n",
       "        });\n",
       "        require(['plotly'], function(Plotly) {\n",
       "            window._Plotly = Plotly;\n",
       "        });\n",
       "        }\n",
       "        </script>\n",
       "        "
      ]
     },
     "metadata": {},
     "output_type": "display_data"
    }
   ],
   "source": [
    "init_notebook_mode(connected=True) "
   ]
  },
  {
   "cell_type": "code",
   "execution_count": 14,
   "metadata": {},
   "outputs": [],
   "source": [
    "df_crimes = pd.read_csv('data/gho_alcohol_related_crimes.csv')\n",
    "df_crimes.dropna(how='all', axis=1, inplace=True)\n",
    "df_crimes = df_crimes[df_crimes['FactValueNumeric'].notna()]\n"
   ]
  },
  {
   "cell_type": "code",
   "execution_count": 15,
   "metadata": {},
   "outputs": [],
   "source": [
    "data = dict(\n",
    "        type = 'choropleth',\n",
    "        locations = df_crimes['Location'],\n",
    "    locationmode = 'country names',\n",
    "        z = df_crimes['Value'],\n",
    "        text = df_crimes['Location'],\n",
    "        colorbar = {'title' : 'alcohol related crimes per country'},\n",
    "      ) "
   ]
  },
  {
   "cell_type": "code",
   "execution_count": 16,
   "metadata": {},
   "outputs": [],
   "source": [
    "layout = dict(\n",
    "    title = 'alcohol related crimes per country',\n",
    "    geo = dict(\n",
    "        showframe = False,\n",
    "        projection = {'type':'natural earth'}\n",
    "    )\n",
    ")"
   ]
  },
  {
   "cell_type": "code",
   "execution_count": 17,
   "metadata": {},
   "outputs": [
    {
     "data": {
      "application/vnd.plotly.v1+json": {
       "config": {
        "linkText": "Export to plot.ly",
        "plotlyServerURL": "https://plot.ly",
        "showLink": false
       },
       "data": [
        {
         "colorbar": {
          "title": {
           "text": "alcohol related crimes per country"
          }
         },
         "locationmode": "country names",
         "locations": [
          "Georgia",
          "Finland",
          "Latvia",
          "Ireland",
          "Ukraine",
          "Belarus",
          "Azerbaijan",
          "Lithuania",
          "Norway",
          "Georgia",
          "Finland",
          "Slovakia",
          "Latvia",
          "Ireland",
          "Estonia",
          "United States of America",
          "Belarus",
          "Ukraine",
          "Czechia",
          "Lithuania",
          "Palau",
          "Azerbaijan",
          "New Zealand",
          "Chile",
          "Croatia",
          "Norway",
          "Finland",
          "Georgia",
          "Slovakia",
          "Latvia",
          "Ireland",
          "United States of America",
          "Belarus",
          "Czechia",
          "Palau",
          "Ukraine",
          "Lithuania",
          "Estonia",
          "Azerbaijan",
          "New Zealand",
          "Chile",
          "Croatia",
          "Norway",
          "Finland",
          "Georgia",
          "Slovakia",
          "United States of America",
          "Ireland",
          "Iran (Islamic Republic of)",
          "Czechia",
          "Belarus",
          "Latvia",
          "Lithuania",
          "Ukraine",
          "Palau",
          "Azerbaijan",
          "Hungary",
          "Estonia",
          "Croatia",
          "Chile",
          "Norway",
          "Finland",
          "Lithuania",
          "United States of America",
          "Czechia",
          "Iran (Islamic Republic of)",
          "Belarus",
          "Ireland",
          "Ukraine",
          "Azerbaijan",
          "Palau",
          "Hungary",
          "Croatia",
          "Estonia",
          "United Kingdom of Great Britain and Northern Ireland",
          "Slovakia",
          "Chile",
          "Norway",
          "Finland",
          "Lithuania",
          "Czechia",
          "United States of America",
          "Belarus",
          "Ireland",
          "Latvia",
          "Palau",
          "Ukraine",
          "Azerbaijan",
          "Estonia",
          "Croatia",
          "Hungary",
          "Grenada",
          "Slovakia",
          "Chile",
          "Norway",
          "Finland",
          "Iran (Islamic Republic of)",
          "Czechia",
          "United States of America",
          "Palau",
          "Belarus",
          "Ireland",
          "Ukraine",
          "Latvia",
          "Azerbaijan",
          "Croatia",
          "Hungary",
          "Estonia",
          "Slovakia",
          "Chile",
          "Lithuania",
          "Norway",
          "Finland",
          "Iran (Islamic Republic of)",
          "Palau",
          "Czechia",
          "United States of America",
          "Azerbaijan",
          "Belarus",
          "Ireland",
          "Ukraine",
          "Latvia",
          "Hungary",
          "Slovakia",
          "Chile",
          "Estonia",
          "Lithuania",
          "Iran (Islamic Republic of)",
          "Finland",
          "Norway",
          "Palau",
          "Czechia",
          "Belarus",
          "United States of America",
          "Mongolia",
          "Ireland",
          "Ukraine",
          "Latvia",
          "Micronesia (Federated States of)",
          "Chile",
          "Estonia",
          "Iran (Islamic Republic of)",
          "Finland",
          "Norway",
          "Belarus",
          "United States of America",
          "Mongolia",
          "Ireland",
          "Ukraine",
          "Latvia",
          "Micronesia (Federated States of)",
          "Czechia",
          "Estonia",
          "Chile",
          "Norway",
          "Finland",
          "Iran (Islamic Republic of)",
          "Belarus",
          "United States of America",
          "Ireland",
          "Ukraine",
          "Azerbaijan",
          "Latvia",
          "Czechia",
          "Micronesia (Federated States of)",
          "Estonia",
          "Chile",
          "Norway",
          "Finland",
          "Ireland",
          "Ukraine",
          "Latvia",
          "Marshall Islands",
          "Micronesia (Federated States of)",
          "Finland",
          "Norway",
          "Ukraine",
          "Mongolia",
          "Latvia",
          "Micronesia (Federated States of)",
          "Norway",
          "Finland",
          "Mongolia",
          "Ukraine",
          "Canada",
          "Latvia",
          "Micronesia (Federated States of)",
          "Norway",
          "Iran (Islamic Republic of)",
          "Finland",
          "Mongolia",
          "Ukraine",
          "Latvia",
          "Norway",
          "Mongolia",
          "Ukraine",
          "Latvia",
          "Azerbaijan",
          "Hungary",
          "Mongolia",
          "Latvia",
          "Latvia",
          "Latvia",
          "Iran (Islamic Republic of)",
          "Latvia",
          "Ukraine",
          "Latvia",
          "Azerbaijan",
          "Russian Federation",
          "Latvia",
          "Ukraine",
          "Hungary",
          "Latvia",
          "Ukraine",
          "Hungary",
          "Russian Federation",
          "Latvia",
          "Solomon Islands",
          "Ukraine",
          "Hungary",
          "Russian Federation",
          "Latvia",
          "Hungary",
          "Ukraine",
          "Russian Federation",
          "Venezuela (Bolivarian Republic of)",
          "Latvia",
          "Hungary",
          "Ukraine"
         ],
         "text": [
          "Georgia",
          "Finland",
          "Latvia",
          "Ireland",
          "Ukraine",
          "Belarus",
          "Azerbaijan",
          "Lithuania",
          "Norway",
          "Georgia",
          "Finland",
          "Slovakia",
          "Latvia",
          "Ireland",
          "Estonia",
          "United States of America",
          "Belarus",
          "Ukraine",
          "Czechia",
          "Lithuania",
          "Palau",
          "Azerbaijan",
          "New Zealand",
          "Chile",
          "Croatia",
          "Norway",
          "Finland",
          "Georgia",
          "Slovakia",
          "Latvia",
          "Ireland",
          "United States of America",
          "Belarus",
          "Czechia",
          "Palau",
          "Ukraine",
          "Lithuania",
          "Estonia",
          "Azerbaijan",
          "New Zealand",
          "Chile",
          "Croatia",
          "Norway",
          "Finland",
          "Georgia",
          "Slovakia",
          "United States of America",
          "Ireland",
          "Iran (Islamic Republic of)",
          "Czechia",
          "Belarus",
          "Latvia",
          "Lithuania",
          "Ukraine",
          "Palau",
          "Azerbaijan",
          "Hungary",
          "Estonia",
          "Croatia",
          "Chile",
          "Norway",
          "Finland",
          "Lithuania",
          "United States of America",
          "Czechia",
          "Iran (Islamic Republic of)",
          "Belarus",
          "Ireland",
          "Ukraine",
          "Azerbaijan",
          "Palau",
          "Hungary",
          "Croatia",
          "Estonia",
          "United Kingdom of Great Britain and Northern Ireland",
          "Slovakia",
          "Chile",
          "Norway",
          "Finland",
          "Lithuania",
          "Czechia",
          "United States of America",
          "Belarus",
          "Ireland",
          "Latvia",
          "Palau",
          "Ukraine",
          "Azerbaijan",
          "Estonia",
          "Croatia",
          "Hungary",
          "Grenada",
          "Slovakia",
          "Chile",
          "Norway",
          "Finland",
          "Iran (Islamic Republic of)",
          "Czechia",
          "United States of America",
          "Palau",
          "Belarus",
          "Ireland",
          "Ukraine",
          "Latvia",
          "Azerbaijan",
          "Croatia",
          "Hungary",
          "Estonia",
          "Slovakia",
          "Chile",
          "Lithuania",
          "Norway",
          "Finland",
          "Iran (Islamic Republic of)",
          "Palau",
          "Czechia",
          "United States of America",
          "Azerbaijan",
          "Belarus",
          "Ireland",
          "Ukraine",
          "Latvia",
          "Hungary",
          "Slovakia",
          "Chile",
          "Estonia",
          "Lithuania",
          "Iran (Islamic Republic of)",
          "Finland",
          "Norway",
          "Palau",
          "Czechia",
          "Belarus",
          "United States of America",
          "Mongolia",
          "Ireland",
          "Ukraine",
          "Latvia",
          "Micronesia (Federated States of)",
          "Chile",
          "Estonia",
          "Iran (Islamic Republic of)",
          "Finland",
          "Norway",
          "Belarus",
          "United States of America",
          "Mongolia",
          "Ireland",
          "Ukraine",
          "Latvia",
          "Micronesia (Federated States of)",
          "Czechia",
          "Estonia",
          "Chile",
          "Norway",
          "Finland",
          "Iran (Islamic Republic of)",
          "Belarus",
          "United States of America",
          "Ireland",
          "Ukraine",
          "Azerbaijan",
          "Latvia",
          "Czechia",
          "Micronesia (Federated States of)",
          "Estonia",
          "Chile",
          "Norway",
          "Finland",
          "Ireland",
          "Ukraine",
          "Latvia",
          "Marshall Islands",
          "Micronesia (Federated States of)",
          "Finland",
          "Norway",
          "Ukraine",
          "Mongolia",
          "Latvia",
          "Micronesia (Federated States of)",
          "Norway",
          "Finland",
          "Mongolia",
          "Ukraine",
          "Canada",
          "Latvia",
          "Micronesia (Federated States of)",
          "Norway",
          "Iran (Islamic Republic of)",
          "Finland",
          "Mongolia",
          "Ukraine",
          "Latvia",
          "Norway",
          "Mongolia",
          "Ukraine",
          "Latvia",
          "Azerbaijan",
          "Hungary",
          "Mongolia",
          "Latvia",
          "Latvia",
          "Latvia",
          "Iran (Islamic Republic of)",
          "Latvia",
          "Ukraine",
          "Latvia",
          "Azerbaijan",
          "Russian Federation",
          "Latvia",
          "Ukraine",
          "Hungary",
          "Latvia",
          "Ukraine",
          "Hungary",
          "Russian Federation",
          "Latvia",
          "Solomon Islands",
          "Ukraine",
          "Hungary",
          "Russian Federation",
          "Latvia",
          "Hungary",
          "Ukraine",
          "Russian Federation",
          "Venezuela (Bolivarian Republic of)",
          "Latvia",
          "Hungary",
          "Ukraine"
         ],
         "type": "choropleth",
         "z": [
          "0.7",
          "0.8",
          "10.1",
          "14.6",
          "15.7",
          "18.2",
          "2.3",
          "26",
          "0.4",
          "0.8",
          "0.9",
          "10.9",
          "11.2",
          "15.2",
          "15.8",
          "16.5",
          "19.5",
          "20.3",
          "21.4",
          "26",
          "29.2",
          "3.8",
          "30",
          "4.6",
          "9.2",
          "0.4",
          "1.1",
          "1.2",
          "10.6",
          "11.6",
          "16.9",
          "17.4",
          "20.6",
          "21.2",
          "22.3",
          "24",
          "26",
          "27.6",
          "4.1",
          "41",
          "6.1",
          "6.4",
          "0.4",
          "1.1",
          "1.8",
          "11.2",
          "18.3",
          "19.2",
          "2.3",
          "20.6",
          "21.2",
          "22.1",
          "24",
          "25.1",
          "3.1",
          "3.5",
          "3.5",
          "38.8",
          "5.6",
          "7.8",
          "0.4",
          "1.1",
          "15",
          "18.1",
          "18.9",
          "2.2",
          "20.4",
          "20.5",
          "25.1",
          "3.8",
          "30.8",
          "4",
          "4.8",
          "45.3",
          "55.7",
          "6.1",
          "7.2",
          "0.5",
          "0.9",
          "15",
          "15.4",
          "18.9",
          "20.7",
          "22.1",
          "22.1",
          "26.5",
          "26.9",
          "3.5",
          "35.5",
          "4.1",
          "4.6",
          "40",
          "5.7",
          "7.9",
          "0.5",
          "0.7",
          "0.8",
          "16.2",
          "19",
          "19.5",
          "20.2",
          "23.1",
          "26.3",
          "26.9",
          "3.1",
          "3.4",
          "5.7",
          "53",
          "6.2",
          "6.8",
          "7.3",
          "0.6",
          "0.7",
          "0.8",
          "14",
          "17.4",
          "19.4",
          "2.9",
          "20.4",
          "25",
          "26.1",
          "31.7",
          "5.4",
          "6.2",
          "6.6",
          "67.1",
          "7.7",
          "0.5",
          "0.7",
          "0.9",
          "12.1",
          "14.2",
          "17.9",
          "18.7",
          "22.6",
          "26.3",
          "26.7",
          "33.3",
          "42.7",
          "6.2",
          "75.7",
          "0.5",
          "0.7",
          "0.9",
          "17.1",
          "18.5",
          "19",
          "26",
          "26",
          "32",
          "39.7",
          "5.5",
          "69.8",
          "7.1",
          "0.8",
          "0.9",
          "1.3",
          "16.7",
          "17.9",
          "25",
          "25.6",
          "3.3",
          "32.3",
          "4.1",
          "42.7",
          "71.5",
          "8.4",
          "0.8",
          "0.9",
          "23.7",
          "26",
          "34.8",
          "70",
          "71.6",
          "0.7",
          "0.7",
          "24.4",
          "24.7",
          "38.4",
          "55.1",
          "0.7",
          "0.8",
          "21.8",
          "23.8",
          "35.8",
          "39",
          "52.7",
          "0.8",
          "0.9",
          "1",
          "18.2",
          "23",
          "37.6",
          "0.8",
          "18.3",
          "23.9",
          "39.7",
          "4.9",
          "5",
          "18.8",
          "44.6",
          "46.3",
          "46.4",
          "0.6",
          "47.2",
          "28.4",
          "47.6",
          "7.2",
          "34.9",
          "52.8",
          "66.8",
          "7.1",
          "50.3",
          "65.5",
          "7.2",
          "35.7",
          "45.4",
          "54",
          "55.5",
          "6.7",
          "34.9",
          "41.9",
          "5.8",
          "52.5",
          "18.2",
          "20",
          "39.2",
          "5.5",
          "54.4"
         ]
        }
       ],
       "layout": {
        "geo": {
         "projection": {
          "type": "natural earth"
         },
         "showframe": false
        },
        "template": {
         "data": {
          "bar": [
           {
            "error_x": {
             "color": "#2a3f5f"
            },
            "error_y": {
             "color": "#2a3f5f"
            },
            "marker": {
             "line": {
              "color": "#E5ECF6",
              "width": 0.5
             },
             "pattern": {
              "fillmode": "overlay",
              "size": 10,
              "solidity": 0.2
             }
            },
            "type": "bar"
           }
          ],
          "barpolar": [
           {
            "marker": {
             "line": {
              "color": "#E5ECF6",
              "width": 0.5
             },
             "pattern": {
              "fillmode": "overlay",
              "size": 10,
              "solidity": 0.2
             }
            },
            "type": "barpolar"
           }
          ],
          "carpet": [
           {
            "aaxis": {
             "endlinecolor": "#2a3f5f",
             "gridcolor": "white",
             "linecolor": "white",
             "minorgridcolor": "white",
             "startlinecolor": "#2a3f5f"
            },
            "baxis": {
             "endlinecolor": "#2a3f5f",
             "gridcolor": "white",
             "linecolor": "white",
             "minorgridcolor": "white",
             "startlinecolor": "#2a3f5f"
            },
            "type": "carpet"
           }
          ],
          "choropleth": [
           {
            "colorbar": {
             "outlinewidth": 0,
             "ticks": ""
            },
            "type": "choropleth"
           }
          ],
          "contour": [
           {
            "colorbar": {
             "outlinewidth": 0,
             "ticks": ""
            },
            "colorscale": [
             [
              0,
              "#0d0887"
             ],
             [
              0.1111111111111111,
              "#46039f"
             ],
             [
              0.2222222222222222,
              "#7201a8"
             ],
             [
              0.3333333333333333,
              "#9c179e"
             ],
             [
              0.4444444444444444,
              "#bd3786"
             ],
             [
              0.5555555555555556,
              "#d8576b"
             ],
             [
              0.6666666666666666,
              "#ed7953"
             ],
             [
              0.7777777777777778,
              "#fb9f3a"
             ],
             [
              0.8888888888888888,
              "#fdca26"
             ],
             [
              1,
              "#f0f921"
             ]
            ],
            "type": "contour"
           }
          ],
          "contourcarpet": [
           {
            "colorbar": {
             "outlinewidth": 0,
             "ticks": ""
            },
            "type": "contourcarpet"
           }
          ],
          "heatmap": [
           {
            "colorbar": {
             "outlinewidth": 0,
             "ticks": ""
            },
            "colorscale": [
             [
              0,
              "#0d0887"
             ],
             [
              0.1111111111111111,
              "#46039f"
             ],
             [
              0.2222222222222222,
              "#7201a8"
             ],
             [
              0.3333333333333333,
              "#9c179e"
             ],
             [
              0.4444444444444444,
              "#bd3786"
             ],
             [
              0.5555555555555556,
              "#d8576b"
             ],
             [
              0.6666666666666666,
              "#ed7953"
             ],
             [
              0.7777777777777778,
              "#fb9f3a"
             ],
             [
              0.8888888888888888,
              "#fdca26"
             ],
             [
              1,
              "#f0f921"
             ]
            ],
            "type": "heatmap"
           }
          ],
          "heatmapgl": [
           {
            "colorbar": {
             "outlinewidth": 0,
             "ticks": ""
            },
            "colorscale": [
             [
              0,
              "#0d0887"
             ],
             [
              0.1111111111111111,
              "#46039f"
             ],
             [
              0.2222222222222222,
              "#7201a8"
             ],
             [
              0.3333333333333333,
              "#9c179e"
             ],
             [
              0.4444444444444444,
              "#bd3786"
             ],
             [
              0.5555555555555556,
              "#d8576b"
             ],
             [
              0.6666666666666666,
              "#ed7953"
             ],
             [
              0.7777777777777778,
              "#fb9f3a"
             ],
             [
              0.8888888888888888,
              "#fdca26"
             ],
             [
              1,
              "#f0f921"
             ]
            ],
            "type": "heatmapgl"
           }
          ],
          "histogram": [
           {
            "marker": {
             "pattern": {
              "fillmode": "overlay",
              "size": 10,
              "solidity": 0.2
             }
            },
            "type": "histogram"
           }
          ],
          "histogram2d": [
           {
            "colorbar": {
             "outlinewidth": 0,
             "ticks": ""
            },
            "colorscale": [
             [
              0,
              "#0d0887"
             ],
             [
              0.1111111111111111,
              "#46039f"
             ],
             [
              0.2222222222222222,
              "#7201a8"
             ],
             [
              0.3333333333333333,
              "#9c179e"
             ],
             [
              0.4444444444444444,
              "#bd3786"
             ],
             [
              0.5555555555555556,
              "#d8576b"
             ],
             [
              0.6666666666666666,
              "#ed7953"
             ],
             [
              0.7777777777777778,
              "#fb9f3a"
             ],
             [
              0.8888888888888888,
              "#fdca26"
             ],
             [
              1,
              "#f0f921"
             ]
            ],
            "type": "histogram2d"
           }
          ],
          "histogram2dcontour": [
           {
            "colorbar": {
             "outlinewidth": 0,
             "ticks": ""
            },
            "colorscale": [
             [
              0,
              "#0d0887"
             ],
             [
              0.1111111111111111,
              "#46039f"
             ],
             [
              0.2222222222222222,
              "#7201a8"
             ],
             [
              0.3333333333333333,
              "#9c179e"
             ],
             [
              0.4444444444444444,
              "#bd3786"
             ],
             [
              0.5555555555555556,
              "#d8576b"
             ],
             [
              0.6666666666666666,
              "#ed7953"
             ],
             [
              0.7777777777777778,
              "#fb9f3a"
             ],
             [
              0.8888888888888888,
              "#fdca26"
             ],
             [
              1,
              "#f0f921"
             ]
            ],
            "type": "histogram2dcontour"
           }
          ],
          "mesh3d": [
           {
            "colorbar": {
             "outlinewidth": 0,
             "ticks": ""
            },
            "type": "mesh3d"
           }
          ],
          "parcoords": [
           {
            "line": {
             "colorbar": {
              "outlinewidth": 0,
              "ticks": ""
             }
            },
            "type": "parcoords"
           }
          ],
          "pie": [
           {
            "automargin": true,
            "type": "pie"
           }
          ],
          "scatter": [
           {
            "fillpattern": {
             "fillmode": "overlay",
             "size": 10,
             "solidity": 0.2
            },
            "type": "scatter"
           }
          ],
          "scatter3d": [
           {
            "line": {
             "colorbar": {
              "outlinewidth": 0,
              "ticks": ""
             }
            },
            "marker": {
             "colorbar": {
              "outlinewidth": 0,
              "ticks": ""
             }
            },
            "type": "scatter3d"
           }
          ],
          "scattercarpet": [
           {
            "marker": {
             "colorbar": {
              "outlinewidth": 0,
              "ticks": ""
             }
            },
            "type": "scattercarpet"
           }
          ],
          "scattergeo": [
           {
            "marker": {
             "colorbar": {
              "outlinewidth": 0,
              "ticks": ""
             }
            },
            "type": "scattergeo"
           }
          ],
          "scattergl": [
           {
            "marker": {
             "colorbar": {
              "outlinewidth": 0,
              "ticks": ""
             }
            },
            "type": "scattergl"
           }
          ],
          "scattermapbox": [
           {
            "marker": {
             "colorbar": {
              "outlinewidth": 0,
              "ticks": ""
             }
            },
            "type": "scattermapbox"
           }
          ],
          "scatterpolar": [
           {
            "marker": {
             "colorbar": {
              "outlinewidth": 0,
              "ticks": ""
             }
            },
            "type": "scatterpolar"
           }
          ],
          "scatterpolargl": [
           {
            "marker": {
             "colorbar": {
              "outlinewidth": 0,
              "ticks": ""
             }
            },
            "type": "scatterpolargl"
           }
          ],
          "scatterternary": [
           {
            "marker": {
             "colorbar": {
              "outlinewidth": 0,
              "ticks": ""
             }
            },
            "type": "scatterternary"
           }
          ],
          "surface": [
           {
            "colorbar": {
             "outlinewidth": 0,
             "ticks": ""
            },
            "colorscale": [
             [
              0,
              "#0d0887"
             ],
             [
              0.1111111111111111,
              "#46039f"
             ],
             [
              0.2222222222222222,
              "#7201a8"
             ],
             [
              0.3333333333333333,
              "#9c179e"
             ],
             [
              0.4444444444444444,
              "#bd3786"
             ],
             [
              0.5555555555555556,
              "#d8576b"
             ],
             [
              0.6666666666666666,
              "#ed7953"
             ],
             [
              0.7777777777777778,
              "#fb9f3a"
             ],
             [
              0.8888888888888888,
              "#fdca26"
             ],
             [
              1,
              "#f0f921"
             ]
            ],
            "type": "surface"
           }
          ],
          "table": [
           {
            "cells": {
             "fill": {
              "color": "#EBF0F8"
             },
             "line": {
              "color": "white"
             }
            },
            "header": {
             "fill": {
              "color": "#C8D4E3"
             },
             "line": {
              "color": "white"
             }
            },
            "type": "table"
           }
          ]
         },
         "layout": {
          "annotationdefaults": {
           "arrowcolor": "#2a3f5f",
           "arrowhead": 0,
           "arrowwidth": 1
          },
          "autotypenumbers": "strict",
          "coloraxis": {
           "colorbar": {
            "outlinewidth": 0,
            "ticks": ""
           }
          },
          "colorscale": {
           "diverging": [
            [
             0,
             "#8e0152"
            ],
            [
             0.1,
             "#c51b7d"
            ],
            [
             0.2,
             "#de77ae"
            ],
            [
             0.3,
             "#f1b6da"
            ],
            [
             0.4,
             "#fde0ef"
            ],
            [
             0.5,
             "#f7f7f7"
            ],
            [
             0.6,
             "#e6f5d0"
            ],
            [
             0.7,
             "#b8e186"
            ],
            [
             0.8,
             "#7fbc41"
            ],
            [
             0.9,
             "#4d9221"
            ],
            [
             1,
             "#276419"
            ]
           ],
           "sequential": [
            [
             0,
             "#0d0887"
            ],
            [
             0.1111111111111111,
             "#46039f"
            ],
            [
             0.2222222222222222,
             "#7201a8"
            ],
            [
             0.3333333333333333,
             "#9c179e"
            ],
            [
             0.4444444444444444,
             "#bd3786"
            ],
            [
             0.5555555555555556,
             "#d8576b"
            ],
            [
             0.6666666666666666,
             "#ed7953"
            ],
            [
             0.7777777777777778,
             "#fb9f3a"
            ],
            [
             0.8888888888888888,
             "#fdca26"
            ],
            [
             1,
             "#f0f921"
            ]
           ],
           "sequentialminus": [
            [
             0,
             "#0d0887"
            ],
            [
             0.1111111111111111,
             "#46039f"
            ],
            [
             0.2222222222222222,
             "#7201a8"
            ],
            [
             0.3333333333333333,
             "#9c179e"
            ],
            [
             0.4444444444444444,
             "#bd3786"
            ],
            [
             0.5555555555555556,
             "#d8576b"
            ],
            [
             0.6666666666666666,
             "#ed7953"
            ],
            [
             0.7777777777777778,
             "#fb9f3a"
            ],
            [
             0.8888888888888888,
             "#fdca26"
            ],
            [
             1,
             "#f0f921"
            ]
           ]
          },
          "colorway": [
           "#636efa",
           "#EF553B",
           "#00cc96",
           "#ab63fa",
           "#FFA15A",
           "#19d3f3",
           "#FF6692",
           "#B6E880",
           "#FF97FF",
           "#FECB52"
          ],
          "font": {
           "color": "#2a3f5f"
          },
          "geo": {
           "bgcolor": "white",
           "lakecolor": "white",
           "landcolor": "#E5ECF6",
           "showlakes": true,
           "showland": true,
           "subunitcolor": "white"
          },
          "hoverlabel": {
           "align": "left"
          },
          "hovermode": "closest",
          "mapbox": {
           "style": "light"
          },
          "paper_bgcolor": "white",
          "plot_bgcolor": "#E5ECF6",
          "polar": {
           "angularaxis": {
            "gridcolor": "white",
            "linecolor": "white",
            "ticks": ""
           },
           "bgcolor": "#E5ECF6",
           "radialaxis": {
            "gridcolor": "white",
            "linecolor": "white",
            "ticks": ""
           }
          },
          "scene": {
           "xaxis": {
            "backgroundcolor": "#E5ECF6",
            "gridcolor": "white",
            "gridwidth": 2,
            "linecolor": "white",
            "showbackground": true,
            "ticks": "",
            "zerolinecolor": "white"
           },
           "yaxis": {
            "backgroundcolor": "#E5ECF6",
            "gridcolor": "white",
            "gridwidth": 2,
            "linecolor": "white",
            "showbackground": true,
            "ticks": "",
            "zerolinecolor": "white"
           },
           "zaxis": {
            "backgroundcolor": "#E5ECF6",
            "gridcolor": "white",
            "gridwidth": 2,
            "linecolor": "white",
            "showbackground": true,
            "ticks": "",
            "zerolinecolor": "white"
           }
          },
          "shapedefaults": {
           "line": {
            "color": "#2a3f5f"
           }
          },
          "ternary": {
           "aaxis": {
            "gridcolor": "white",
            "linecolor": "white",
            "ticks": ""
           },
           "baxis": {
            "gridcolor": "white",
            "linecolor": "white",
            "ticks": ""
           },
           "bgcolor": "#E5ECF6",
           "caxis": {
            "gridcolor": "white",
            "linecolor": "white",
            "ticks": ""
           }
          },
          "title": {
           "x": 0.05
          },
          "xaxis": {
           "automargin": true,
           "gridcolor": "white",
           "linecolor": "white",
           "ticks": "",
           "title": {
            "standoff": 15
           },
           "zerolinecolor": "white",
           "zerolinewidth": 2
          },
          "yaxis": {
           "automargin": true,
           "gridcolor": "white",
           "linecolor": "white",
           "ticks": "",
           "title": {
            "standoff": 15
           },
           "zerolinecolor": "white",
           "zerolinewidth": 2
          }
         }
        },
        "title": {
         "text": "alcohol related crimes per country"
        }
       }
      },
      "text/html": [
       "<div>                            <div id=\"6c4a0c35-4e50-43aa-b83a-7de885709e28\" class=\"plotly-graph-div\" style=\"height:525px; width:100%;\"></div>            <script type=\"text/javascript\">                require([\"plotly\"], function(Plotly) {                    window.PLOTLYENV=window.PLOTLYENV || {};                                    if (document.getElementById(\"6c4a0c35-4e50-43aa-b83a-7de885709e28\")) {                    Plotly.newPlot(                        \"6c4a0c35-4e50-43aa-b83a-7de885709e28\",                        [{\"colorbar\":{\"title\":{\"text\":\"alcohol related crimes per country\"}},\"locationmode\":\"country names\",\"locations\":[\"Georgia\",\"Finland\",\"Latvia\",\"Ireland\",\"Ukraine\",\"Belarus\",\"Azerbaijan\",\"Lithuania\",\"Norway\",\"Georgia\",\"Finland\",\"Slovakia\",\"Latvia\",\"Ireland\",\"Estonia\",\"United States of America\",\"Belarus\",\"Ukraine\",\"Czechia\",\"Lithuania\",\"Palau\",\"Azerbaijan\",\"New Zealand\",\"Chile\",\"Croatia\",\"Norway\",\"Finland\",\"Georgia\",\"Slovakia\",\"Latvia\",\"Ireland\",\"United States of America\",\"Belarus\",\"Czechia\",\"Palau\",\"Ukraine\",\"Lithuania\",\"Estonia\",\"Azerbaijan\",\"New Zealand\",\"Chile\",\"Croatia\",\"Norway\",\"Finland\",\"Georgia\",\"Slovakia\",\"United States of America\",\"Ireland\",\"Iran (Islamic Republic of)\",\"Czechia\",\"Belarus\",\"Latvia\",\"Lithuania\",\"Ukraine\",\"Palau\",\"Azerbaijan\",\"Hungary\",\"Estonia\",\"Croatia\",\"Chile\",\"Norway\",\"Finland\",\"Lithuania\",\"United States of America\",\"Czechia\",\"Iran (Islamic Republic of)\",\"Belarus\",\"Ireland\",\"Ukraine\",\"Azerbaijan\",\"Palau\",\"Hungary\",\"Croatia\",\"Estonia\",\"United Kingdom of Great Britain and Northern Ireland\",\"Slovakia\",\"Chile\",\"Norway\",\"Finland\",\"Lithuania\",\"Czechia\",\"United States of America\",\"Belarus\",\"Ireland\",\"Latvia\",\"Palau\",\"Ukraine\",\"Azerbaijan\",\"Estonia\",\"Croatia\",\"Hungary\",\"Grenada\",\"Slovakia\",\"Chile\",\"Norway\",\"Finland\",\"Iran (Islamic Republic of)\",\"Czechia\",\"United States of America\",\"Palau\",\"Belarus\",\"Ireland\",\"Ukraine\",\"Latvia\",\"Azerbaijan\",\"Croatia\",\"Hungary\",\"Estonia\",\"Slovakia\",\"Chile\",\"Lithuania\",\"Norway\",\"Finland\",\"Iran (Islamic Republic of)\",\"Palau\",\"Czechia\",\"United States of America\",\"Azerbaijan\",\"Belarus\",\"Ireland\",\"Ukraine\",\"Latvia\",\"Hungary\",\"Slovakia\",\"Chile\",\"Estonia\",\"Lithuania\",\"Iran (Islamic Republic of)\",\"Finland\",\"Norway\",\"Palau\",\"Czechia\",\"Belarus\",\"United States of America\",\"Mongolia\",\"Ireland\",\"Ukraine\",\"Latvia\",\"Micronesia (Federated States of)\",\"Chile\",\"Estonia\",\"Iran (Islamic Republic of)\",\"Finland\",\"Norway\",\"Belarus\",\"United States of America\",\"Mongolia\",\"Ireland\",\"Ukraine\",\"Latvia\",\"Micronesia (Federated States of)\",\"Czechia\",\"Estonia\",\"Chile\",\"Norway\",\"Finland\",\"Iran (Islamic Republic of)\",\"Belarus\",\"United States of America\",\"Ireland\",\"Ukraine\",\"Azerbaijan\",\"Latvia\",\"Czechia\",\"Micronesia (Federated States of)\",\"Estonia\",\"Chile\",\"Norway\",\"Finland\",\"Ireland\",\"Ukraine\",\"Latvia\",\"Marshall Islands\",\"Micronesia (Federated States of)\",\"Finland\",\"Norway\",\"Ukraine\",\"Mongolia\",\"Latvia\",\"Micronesia (Federated States of)\",\"Norway\",\"Finland\",\"Mongolia\",\"Ukraine\",\"Canada\",\"Latvia\",\"Micronesia (Federated States of)\",\"Norway\",\"Iran (Islamic Republic of)\",\"Finland\",\"Mongolia\",\"Ukraine\",\"Latvia\",\"Norway\",\"Mongolia\",\"Ukraine\",\"Latvia\",\"Azerbaijan\",\"Hungary\",\"Mongolia\",\"Latvia\",\"Latvia\",\"Latvia\",\"Iran (Islamic Republic of)\",\"Latvia\",\"Ukraine\",\"Latvia\",\"Azerbaijan\",\"Russian Federation\",\"Latvia\",\"Ukraine\",\"Hungary\",\"Latvia\",\"Ukraine\",\"Hungary\",\"Russian Federation\",\"Latvia\",\"Solomon Islands\",\"Ukraine\",\"Hungary\",\"Russian Federation\",\"Latvia\",\"Hungary\",\"Ukraine\",\"Russian Federation\",\"Venezuela (Bolivarian Republic of)\",\"Latvia\",\"Hungary\",\"Ukraine\"],\"text\":[\"Georgia\",\"Finland\",\"Latvia\",\"Ireland\",\"Ukraine\",\"Belarus\",\"Azerbaijan\",\"Lithuania\",\"Norway\",\"Georgia\",\"Finland\",\"Slovakia\",\"Latvia\",\"Ireland\",\"Estonia\",\"United States of America\",\"Belarus\",\"Ukraine\",\"Czechia\",\"Lithuania\",\"Palau\",\"Azerbaijan\",\"New Zealand\",\"Chile\",\"Croatia\",\"Norway\",\"Finland\",\"Georgia\",\"Slovakia\",\"Latvia\",\"Ireland\",\"United States of America\",\"Belarus\",\"Czechia\",\"Palau\",\"Ukraine\",\"Lithuania\",\"Estonia\",\"Azerbaijan\",\"New Zealand\",\"Chile\",\"Croatia\",\"Norway\",\"Finland\",\"Georgia\",\"Slovakia\",\"United States of America\",\"Ireland\",\"Iran (Islamic Republic of)\",\"Czechia\",\"Belarus\",\"Latvia\",\"Lithuania\",\"Ukraine\",\"Palau\",\"Azerbaijan\",\"Hungary\",\"Estonia\",\"Croatia\",\"Chile\",\"Norway\",\"Finland\",\"Lithuania\",\"United States of America\",\"Czechia\",\"Iran (Islamic Republic of)\",\"Belarus\",\"Ireland\",\"Ukraine\",\"Azerbaijan\",\"Palau\",\"Hungary\",\"Croatia\",\"Estonia\",\"United Kingdom of Great Britain and Northern Ireland\",\"Slovakia\",\"Chile\",\"Norway\",\"Finland\",\"Lithuania\",\"Czechia\",\"United States of America\",\"Belarus\",\"Ireland\",\"Latvia\",\"Palau\",\"Ukraine\",\"Azerbaijan\",\"Estonia\",\"Croatia\",\"Hungary\",\"Grenada\",\"Slovakia\",\"Chile\",\"Norway\",\"Finland\",\"Iran (Islamic Republic of)\",\"Czechia\",\"United States of America\",\"Palau\",\"Belarus\",\"Ireland\",\"Ukraine\",\"Latvia\",\"Azerbaijan\",\"Croatia\",\"Hungary\",\"Estonia\",\"Slovakia\",\"Chile\",\"Lithuania\",\"Norway\",\"Finland\",\"Iran (Islamic Republic of)\",\"Palau\",\"Czechia\",\"United States of America\",\"Azerbaijan\",\"Belarus\",\"Ireland\",\"Ukraine\",\"Latvia\",\"Hungary\",\"Slovakia\",\"Chile\",\"Estonia\",\"Lithuania\",\"Iran (Islamic Republic of)\",\"Finland\",\"Norway\",\"Palau\",\"Czechia\",\"Belarus\",\"United States of America\",\"Mongolia\",\"Ireland\",\"Ukraine\",\"Latvia\",\"Micronesia (Federated States of)\",\"Chile\",\"Estonia\",\"Iran (Islamic Republic of)\",\"Finland\",\"Norway\",\"Belarus\",\"United States of America\",\"Mongolia\",\"Ireland\",\"Ukraine\",\"Latvia\",\"Micronesia (Federated States of)\",\"Czechia\",\"Estonia\",\"Chile\",\"Norway\",\"Finland\",\"Iran (Islamic Republic of)\",\"Belarus\",\"United States of America\",\"Ireland\",\"Ukraine\",\"Azerbaijan\",\"Latvia\",\"Czechia\",\"Micronesia (Federated States of)\",\"Estonia\",\"Chile\",\"Norway\",\"Finland\",\"Ireland\",\"Ukraine\",\"Latvia\",\"Marshall Islands\",\"Micronesia (Federated States of)\",\"Finland\",\"Norway\",\"Ukraine\",\"Mongolia\",\"Latvia\",\"Micronesia (Federated States of)\",\"Norway\",\"Finland\",\"Mongolia\",\"Ukraine\",\"Canada\",\"Latvia\",\"Micronesia (Federated States of)\",\"Norway\",\"Iran (Islamic Republic of)\",\"Finland\",\"Mongolia\",\"Ukraine\",\"Latvia\",\"Norway\",\"Mongolia\",\"Ukraine\",\"Latvia\",\"Azerbaijan\",\"Hungary\",\"Mongolia\",\"Latvia\",\"Latvia\",\"Latvia\",\"Iran (Islamic Republic of)\",\"Latvia\",\"Ukraine\",\"Latvia\",\"Azerbaijan\",\"Russian Federation\",\"Latvia\",\"Ukraine\",\"Hungary\",\"Latvia\",\"Ukraine\",\"Hungary\",\"Russian Federation\",\"Latvia\",\"Solomon Islands\",\"Ukraine\",\"Hungary\",\"Russian Federation\",\"Latvia\",\"Hungary\",\"Ukraine\",\"Russian Federation\",\"Venezuela (Bolivarian Republic of)\",\"Latvia\",\"Hungary\",\"Ukraine\"],\"z\":[\"0.7\",\"0.8\",\"10.1\",\"14.6\",\"15.7\",\"18.2\",\"2.3\",\"26\",\"0.4\",\"0.8\",\"0.9\",\"10.9\",\"11.2\",\"15.2\",\"15.8\",\"16.5\",\"19.5\",\"20.3\",\"21.4\",\"26\",\"29.2\",\"3.8\",\"30\",\"4.6\",\"9.2\",\"0.4\",\"1.1\",\"1.2\",\"10.6\",\"11.6\",\"16.9\",\"17.4\",\"20.6\",\"21.2\",\"22.3\",\"24\",\"26\",\"27.6\",\"4.1\",\"41\",\"6.1\",\"6.4\",\"0.4\",\"1.1\",\"1.8\",\"11.2\",\"18.3\",\"19.2\",\"2.3\",\"20.6\",\"21.2\",\"22.1\",\"24\",\"25.1\",\"3.1\",\"3.5\",\"3.5\",\"38.8\",\"5.6\",\"7.8\",\"0.4\",\"1.1\",\"15\",\"18.1\",\"18.9\",\"2.2\",\"20.4\",\"20.5\",\"25.1\",\"3.8\",\"30.8\",\"4\",\"4.8\",\"45.3\",\"55.7\",\"6.1\",\"7.2\",\"0.5\",\"0.9\",\"15\",\"15.4\",\"18.9\",\"20.7\",\"22.1\",\"22.1\",\"26.5\",\"26.9\",\"3.5\",\"35.5\",\"4.1\",\"4.6\",\"40\",\"5.7\",\"7.9\",\"0.5\",\"0.7\",\"0.8\",\"16.2\",\"19\",\"19.5\",\"20.2\",\"23.1\",\"26.3\",\"26.9\",\"3.1\",\"3.4\",\"5.7\",\"53\",\"6.2\",\"6.8\",\"7.3\",\"0.6\",\"0.7\",\"0.8\",\"14\",\"17.4\",\"19.4\",\"2.9\",\"20.4\",\"25\",\"26.1\",\"31.7\",\"5.4\",\"6.2\",\"6.6\",\"67.1\",\"7.7\",\"0.5\",\"0.7\",\"0.9\",\"12.1\",\"14.2\",\"17.9\",\"18.7\",\"22.6\",\"26.3\",\"26.7\",\"33.3\",\"42.7\",\"6.2\",\"75.7\",\"0.5\",\"0.7\",\"0.9\",\"17.1\",\"18.5\",\"19\",\"26\",\"26\",\"32\",\"39.7\",\"5.5\",\"69.8\",\"7.1\",\"0.8\",\"0.9\",\"1.3\",\"16.7\",\"17.9\",\"25\",\"25.6\",\"3.3\",\"32.3\",\"4.1\",\"42.7\",\"71.5\",\"8.4\",\"0.8\",\"0.9\",\"23.7\",\"26\",\"34.8\",\"70\",\"71.6\",\"0.7\",\"0.7\",\"24.4\",\"24.7\",\"38.4\",\"55.1\",\"0.7\",\"0.8\",\"21.8\",\"23.8\",\"35.8\",\"39\",\"52.7\",\"0.8\",\"0.9\",\"1\",\"18.2\",\"23\",\"37.6\",\"0.8\",\"18.3\",\"23.9\",\"39.7\",\"4.9\",\"5\",\"18.8\",\"44.6\",\"46.3\",\"46.4\",\"0.6\",\"47.2\",\"28.4\",\"47.6\",\"7.2\",\"34.9\",\"52.8\",\"66.8\",\"7.1\",\"50.3\",\"65.5\",\"7.2\",\"35.7\",\"45.4\",\"54\",\"55.5\",\"6.7\",\"34.9\",\"41.9\",\"5.8\",\"52.5\",\"18.2\",\"20\",\"39.2\",\"5.5\",\"54.4\"],\"type\":\"choropleth\"}],                        {\"geo\":{\"projection\":{\"type\":\"natural earth\"},\"showframe\":false},\"template\":{\"data\":{\"barpolar\":[{\"marker\":{\"line\":{\"color\":\"#E5ECF6\",\"width\":0.5},\"pattern\":{\"fillmode\":\"overlay\",\"size\":10,\"solidity\":0.2}},\"type\":\"barpolar\"}],\"bar\":[{\"error_x\":{\"color\":\"#2a3f5f\"},\"error_y\":{\"color\":\"#2a3f5f\"},\"marker\":{\"line\":{\"color\":\"#E5ECF6\",\"width\":0.5},\"pattern\":{\"fillmode\":\"overlay\",\"size\":10,\"solidity\":0.2}},\"type\":\"bar\"}],\"carpet\":[{\"aaxis\":{\"endlinecolor\":\"#2a3f5f\",\"gridcolor\":\"white\",\"linecolor\":\"white\",\"minorgridcolor\":\"white\",\"startlinecolor\":\"#2a3f5f\"},\"baxis\":{\"endlinecolor\":\"#2a3f5f\",\"gridcolor\":\"white\",\"linecolor\":\"white\",\"minorgridcolor\":\"white\",\"startlinecolor\":\"#2a3f5f\"},\"type\":\"carpet\"}],\"choropleth\":[{\"colorbar\":{\"outlinewidth\":0,\"ticks\":\"\"},\"type\":\"choropleth\"}],\"contourcarpet\":[{\"colorbar\":{\"outlinewidth\":0,\"ticks\":\"\"},\"type\":\"contourcarpet\"}],\"contour\":[{\"colorbar\":{\"outlinewidth\":0,\"ticks\":\"\"},\"colorscale\":[[0.0,\"#0d0887\"],[0.1111111111111111,\"#46039f\"],[0.2222222222222222,\"#7201a8\"],[0.3333333333333333,\"#9c179e\"],[0.4444444444444444,\"#bd3786\"],[0.5555555555555556,\"#d8576b\"],[0.6666666666666666,\"#ed7953\"],[0.7777777777777778,\"#fb9f3a\"],[0.8888888888888888,\"#fdca26\"],[1.0,\"#f0f921\"]],\"type\":\"contour\"}],\"heatmapgl\":[{\"colorbar\":{\"outlinewidth\":0,\"ticks\":\"\"},\"colorscale\":[[0.0,\"#0d0887\"],[0.1111111111111111,\"#46039f\"],[0.2222222222222222,\"#7201a8\"],[0.3333333333333333,\"#9c179e\"],[0.4444444444444444,\"#bd3786\"],[0.5555555555555556,\"#d8576b\"],[0.6666666666666666,\"#ed7953\"],[0.7777777777777778,\"#fb9f3a\"],[0.8888888888888888,\"#fdca26\"],[1.0,\"#f0f921\"]],\"type\":\"heatmapgl\"}],\"heatmap\":[{\"colorbar\":{\"outlinewidth\":0,\"ticks\":\"\"},\"colorscale\":[[0.0,\"#0d0887\"],[0.1111111111111111,\"#46039f\"],[0.2222222222222222,\"#7201a8\"],[0.3333333333333333,\"#9c179e\"],[0.4444444444444444,\"#bd3786\"],[0.5555555555555556,\"#d8576b\"],[0.6666666666666666,\"#ed7953\"],[0.7777777777777778,\"#fb9f3a\"],[0.8888888888888888,\"#fdca26\"],[1.0,\"#f0f921\"]],\"type\":\"heatmap\"}],\"histogram2dcontour\":[{\"colorbar\":{\"outlinewidth\":0,\"ticks\":\"\"},\"colorscale\":[[0.0,\"#0d0887\"],[0.1111111111111111,\"#46039f\"],[0.2222222222222222,\"#7201a8\"],[0.3333333333333333,\"#9c179e\"],[0.4444444444444444,\"#bd3786\"],[0.5555555555555556,\"#d8576b\"],[0.6666666666666666,\"#ed7953\"],[0.7777777777777778,\"#fb9f3a\"],[0.8888888888888888,\"#fdca26\"],[1.0,\"#f0f921\"]],\"type\":\"histogram2dcontour\"}],\"histogram2d\":[{\"colorbar\":{\"outlinewidth\":0,\"ticks\":\"\"},\"colorscale\":[[0.0,\"#0d0887\"],[0.1111111111111111,\"#46039f\"],[0.2222222222222222,\"#7201a8\"],[0.3333333333333333,\"#9c179e\"],[0.4444444444444444,\"#bd3786\"],[0.5555555555555556,\"#d8576b\"],[0.6666666666666666,\"#ed7953\"],[0.7777777777777778,\"#fb9f3a\"],[0.8888888888888888,\"#fdca26\"],[1.0,\"#f0f921\"]],\"type\":\"histogram2d\"}],\"histogram\":[{\"marker\":{\"pattern\":{\"fillmode\":\"overlay\",\"size\":10,\"solidity\":0.2}},\"type\":\"histogram\"}],\"mesh3d\":[{\"colorbar\":{\"outlinewidth\":0,\"ticks\":\"\"},\"type\":\"mesh3d\"}],\"parcoords\":[{\"line\":{\"colorbar\":{\"outlinewidth\":0,\"ticks\":\"\"}},\"type\":\"parcoords\"}],\"pie\":[{\"automargin\":true,\"type\":\"pie\"}],\"scatter3d\":[{\"line\":{\"colorbar\":{\"outlinewidth\":0,\"ticks\":\"\"}},\"marker\":{\"colorbar\":{\"outlinewidth\":0,\"ticks\":\"\"}},\"type\":\"scatter3d\"}],\"scattercarpet\":[{\"marker\":{\"colorbar\":{\"outlinewidth\":0,\"ticks\":\"\"}},\"type\":\"scattercarpet\"}],\"scattergeo\":[{\"marker\":{\"colorbar\":{\"outlinewidth\":0,\"ticks\":\"\"}},\"type\":\"scattergeo\"}],\"scattergl\":[{\"marker\":{\"colorbar\":{\"outlinewidth\":0,\"ticks\":\"\"}},\"type\":\"scattergl\"}],\"scattermapbox\":[{\"marker\":{\"colorbar\":{\"outlinewidth\":0,\"ticks\":\"\"}},\"type\":\"scattermapbox\"}],\"scatterpolargl\":[{\"marker\":{\"colorbar\":{\"outlinewidth\":0,\"ticks\":\"\"}},\"type\":\"scatterpolargl\"}],\"scatterpolar\":[{\"marker\":{\"colorbar\":{\"outlinewidth\":0,\"ticks\":\"\"}},\"type\":\"scatterpolar\"}],\"scatter\":[{\"fillpattern\":{\"fillmode\":\"overlay\",\"size\":10,\"solidity\":0.2},\"type\":\"scatter\"}],\"scatterternary\":[{\"marker\":{\"colorbar\":{\"outlinewidth\":0,\"ticks\":\"\"}},\"type\":\"scatterternary\"}],\"surface\":[{\"colorbar\":{\"outlinewidth\":0,\"ticks\":\"\"},\"colorscale\":[[0.0,\"#0d0887\"],[0.1111111111111111,\"#46039f\"],[0.2222222222222222,\"#7201a8\"],[0.3333333333333333,\"#9c179e\"],[0.4444444444444444,\"#bd3786\"],[0.5555555555555556,\"#d8576b\"],[0.6666666666666666,\"#ed7953\"],[0.7777777777777778,\"#fb9f3a\"],[0.8888888888888888,\"#fdca26\"],[1.0,\"#f0f921\"]],\"type\":\"surface\"}],\"table\":[{\"cells\":{\"fill\":{\"color\":\"#EBF0F8\"},\"line\":{\"color\":\"white\"}},\"header\":{\"fill\":{\"color\":\"#C8D4E3\"},\"line\":{\"color\":\"white\"}},\"type\":\"table\"}]},\"layout\":{\"annotationdefaults\":{\"arrowcolor\":\"#2a3f5f\",\"arrowhead\":0,\"arrowwidth\":1},\"autotypenumbers\":\"strict\",\"coloraxis\":{\"colorbar\":{\"outlinewidth\":0,\"ticks\":\"\"}},\"colorscale\":{\"diverging\":[[0,\"#8e0152\"],[0.1,\"#c51b7d\"],[0.2,\"#de77ae\"],[0.3,\"#f1b6da\"],[0.4,\"#fde0ef\"],[0.5,\"#f7f7f7\"],[0.6,\"#e6f5d0\"],[0.7,\"#b8e186\"],[0.8,\"#7fbc41\"],[0.9,\"#4d9221\"],[1,\"#276419\"]],\"sequential\":[[0.0,\"#0d0887\"],[0.1111111111111111,\"#46039f\"],[0.2222222222222222,\"#7201a8\"],[0.3333333333333333,\"#9c179e\"],[0.4444444444444444,\"#bd3786\"],[0.5555555555555556,\"#d8576b\"],[0.6666666666666666,\"#ed7953\"],[0.7777777777777778,\"#fb9f3a\"],[0.8888888888888888,\"#fdca26\"],[1.0,\"#f0f921\"]],\"sequentialminus\":[[0.0,\"#0d0887\"],[0.1111111111111111,\"#46039f\"],[0.2222222222222222,\"#7201a8\"],[0.3333333333333333,\"#9c179e\"],[0.4444444444444444,\"#bd3786\"],[0.5555555555555556,\"#d8576b\"],[0.6666666666666666,\"#ed7953\"],[0.7777777777777778,\"#fb9f3a\"],[0.8888888888888888,\"#fdca26\"],[1.0,\"#f0f921\"]]},\"colorway\":[\"#636efa\",\"#EF553B\",\"#00cc96\",\"#ab63fa\",\"#FFA15A\",\"#19d3f3\",\"#FF6692\",\"#B6E880\",\"#FF97FF\",\"#FECB52\"],\"font\":{\"color\":\"#2a3f5f\"},\"geo\":{\"bgcolor\":\"white\",\"lakecolor\":\"white\",\"landcolor\":\"#E5ECF6\",\"showlakes\":true,\"showland\":true,\"subunitcolor\":\"white\"},\"hoverlabel\":{\"align\":\"left\"},\"hovermode\":\"closest\",\"mapbox\":{\"style\":\"light\"},\"paper_bgcolor\":\"white\",\"plot_bgcolor\":\"#E5ECF6\",\"polar\":{\"angularaxis\":{\"gridcolor\":\"white\",\"linecolor\":\"white\",\"ticks\":\"\"},\"bgcolor\":\"#E5ECF6\",\"radialaxis\":{\"gridcolor\":\"white\",\"linecolor\":\"white\",\"ticks\":\"\"}},\"scene\":{\"xaxis\":{\"backgroundcolor\":\"#E5ECF6\",\"gridcolor\":\"white\",\"gridwidth\":2,\"linecolor\":\"white\",\"showbackground\":true,\"ticks\":\"\",\"zerolinecolor\":\"white\"},\"yaxis\":{\"backgroundcolor\":\"#E5ECF6\",\"gridcolor\":\"white\",\"gridwidth\":2,\"linecolor\":\"white\",\"showbackground\":true,\"ticks\":\"\",\"zerolinecolor\":\"white\"},\"zaxis\":{\"backgroundcolor\":\"#E5ECF6\",\"gridcolor\":\"white\",\"gridwidth\":2,\"linecolor\":\"white\",\"showbackground\":true,\"ticks\":\"\",\"zerolinecolor\":\"white\"}},\"shapedefaults\":{\"line\":{\"color\":\"#2a3f5f\"}},\"ternary\":{\"aaxis\":{\"gridcolor\":\"white\",\"linecolor\":\"white\",\"ticks\":\"\"},\"baxis\":{\"gridcolor\":\"white\",\"linecolor\":\"white\",\"ticks\":\"\"},\"bgcolor\":\"#E5ECF6\",\"caxis\":{\"gridcolor\":\"white\",\"linecolor\":\"white\",\"ticks\":\"\"}},\"title\":{\"x\":0.05},\"xaxis\":{\"automargin\":true,\"gridcolor\":\"white\",\"linecolor\":\"white\",\"ticks\":\"\",\"title\":{\"standoff\":15},\"zerolinecolor\":\"white\",\"zerolinewidth\":2},\"yaxis\":{\"automargin\":true,\"gridcolor\":\"white\",\"linecolor\":\"white\",\"ticks\":\"\",\"title\":{\"standoff\":15},\"zerolinecolor\":\"white\",\"zerolinewidth\":2}}},\"title\":{\"text\":\"alcohol related crimes per country\"}},                        {\"responsive\": true}                    ).then(function(){\n",
       "                            \n",
       "var gd = document.getElementById('6c4a0c35-4e50-43aa-b83a-7de885709e28');\n",
       "var x = new MutationObserver(function (mutations, observer) {{\n",
       "        var display = window.getComputedStyle(gd).display;\n",
       "        if (!display || display === 'none') {{\n",
       "            console.log([gd, 'removed!']);\n",
       "            Plotly.purge(gd);\n",
       "            observer.disconnect();\n",
       "        }}\n",
       "}});\n",
       "\n",
       "// Listen for the removal of the full notebook cells\n",
       "var notebookContainer = gd.closest('#notebook-container');\n",
       "if (notebookContainer) {{\n",
       "    x.observe(notebookContainer, {childList: true});\n",
       "}}\n",
       "\n",
       "// Listen for the clearing of the current output cell\n",
       "var outputEl = gd.closest('.output');\n",
       "if (outputEl) {{\n",
       "    x.observe(outputEl, {childList: true});\n",
       "}}\n",
       "\n",
       "                        })                };                });            </script>        </div>"
      ]
     },
     "metadata": {},
     "output_type": "display_data"
    }
   ],
   "source": [
    "choromap = go.Figure(data = [data],layout = layout)\n",
    "iplot(choromap)"
   ]
  },
  {
   "cell_type": "markdown",
   "metadata": {},
   "source": [
    "### Heatmap"
   ]
  },
  {
   "cell_type": "code",
   "execution_count": 90,
   "metadata": {},
   "outputs": [
    {
     "data": {
      "text/plain": [
       "<matplotlib.axes._subplots.AxesSubplot at 0x17b57171e48>"
      ]
     },
     "execution_count": 90,
     "metadata": {},
     "output_type": "execute_result"
    },
    {
     "data": {
      "image/png": "[encoded data removed]",
      "text/plain": [
       "<Figure size 432x288 with 2 Axes>"
      ]
     },
     "metadata": {
      "needs_background": "light"
     },
     "output_type": "display_data"
    }
   ],
   "source": [
    "corr = df_consumption_pib.corr()\n",
    "sns.heatmap(corr, \n",
    "        xticklabels=corr.columns,\n",
    "        yticklabels=corr.columns)"
   ]
  },
  {
   "cell_type": "code",
   "execution_count": null,
   "metadata": {},
   "outputs": [],
   "source": []
  },
  {
   "cell_type": "code",
   "execution_count": null,
   "metadata": {},
   "outputs": [],
   "source": []
  }
 ],
 "metadata": {
  "kernelspec": {
   "display_name": "Python 3",
   "language": "python",
   "name": "python3"
  },
  "language_info": {
   "codemirror_mode": {
    "name": "ipython",
    "version": 3
   },
   "file_extension": ".py",
   "mimetype": "text/x-python",
   "name": "python",
   "nbconvert_exporter": "python",
   "pygments_lexer": "ipython3",
   "version": "3.6.5"
  }
 },
 "nbformat": 4,
 "nbformat_minor": 2
}
